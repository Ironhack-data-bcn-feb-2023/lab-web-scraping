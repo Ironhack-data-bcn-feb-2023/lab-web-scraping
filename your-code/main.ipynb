{
 "cells": [
  {
   "cell_type": "markdown",
   "metadata": {},
   "source": [
    "# Web Scraping Lab\n",
    "\n",
    "You will find in this notebook some scrapy exercises to practise your scraping skills.\n",
    "\n",
    "**Tips:**\n",
    "\n",
    "- Check the response status code for each request to ensure you have obtained the intended contennt.\n",
    "- Print the response text in each request to understand the kind of info you are getting and its format.\n",
    "- Check for patterns in the response text to extract the data/info requested in each question.\n",
    "- Visit each url and take a look at its source through Chrome DevTools. You'll need to identify the html tags, special class names etc. used for the html content you are expected to extract."
   ]
  },
  {
   "cell_type": "markdown",
   "metadata": {},
   "source": [
    "- [Requests library](http://docs.python-requests.org/en/master/#the-user-guide) documentation \n",
    "- [Beautiful Soup Doc](https://www.crummy.com/software/BeautifulSoup/bs4/doc/)\n",
    "- [Urllib](https://docs.python.org/3/library/urllib.html#module-urllib)\n",
    "- [re lib](https://docs.python.org/3/library/re.html)\n",
    "- [lxml lib](https://lxml.de/)\n",
    "- [Scrapy](https://scrapy.org/)\n",
    "- [List of HTTP status codes](https://en.wikipedia.org/wiki/List_of_HTTP_status_codes)\n",
    "- [HTML basics](http://www.simplehtmlguide.com/cheatsheet.php)\n",
    "- [CSS basics](https://www.cssbasics.com/#page_start)"
   ]
  },
  {
   "cell_type": "markdown",
   "metadata": {},
   "source": [
    "#### Below are the libraries and modules you may need. `requests`,  `BeautifulSoup` and `pandas` are imported for you. If you prefer to use additional libraries feel free to uncomment them."
   ]
  },
  {
   "cell_type": "code",
   "execution_count": 7,
   "metadata": {},
   "outputs": [],
   "source": [
    "import requests\n",
    "from bs4 import BeautifulSoup\n",
    "import pandas as pd\n",
    "from pprint import pprint\n",
    "from lxml import html\n",
    "from lxml.html import fromstring\n",
    "import urllib.request\n",
    "from urllib.request import urlopen\n",
    "import random\n",
    "import re\n",
    "import scrapy"
   ]
  },
  {
   "cell_type": "markdown",
   "metadata": {},
   "source": [
    "#### Download, parse (using BeautifulSoup), and print the content from the Trending Developers page from GitHub:"
   ]
  },
  {
   "cell_type": "code",
   "execution_count": 8,
   "metadata": {},
   "outputs": [],
   "source": [
    "# This is the url you will scrape in this exercise\n",
    "url = 'https://github.com/trending/developers'"
   ]
  },
  {
   "cell_type": "code",
   "execution_count": 11,
   "metadata": {},
   "outputs": [],
   "source": [
    "#your code\n",
    "res = requests.get('https://github.com/trending/developers')\n",
    "soup = BeautifulSoup(res.content, \"html.parser\")\n",
    "# pprint(soup)"
   ]
  },
  {
   "cell_type": "markdown",
   "metadata": {
    "jp-MarkdownHeadingCollapsed": true
   },
   "source": [
    "#### Display the names of the trending developers retrieved in the previous step.\n",
    "\n",
    "Your output should be a Python list of developer names. Each name should not contain any html tag.\n",
    "\n",
    "**Instructions:**\n",
    "\n",
    "1. Find out the html tag and class names used for the developer names. You can achieve this using Chrome DevTools.\n",
    "\n",
    "1. Use BeautifulSoup to extract all the html elements that contain the developer names.\n",
    "\n",
    "1. Use string manipulation techniques to replace whitespaces and linebreaks (i.e. `\\n`) in the *text* of each html element. Use a list to store the clean names.\n",
    "\n",
    "1. Print the list of names.\n",
    "\n",
    "Your output should look like below:\n",
    "\n",
    "```\n",
    "['trimstray (@trimstray)',\n",
    " 'joewalnes (JoeWalnes)',\n",
    " 'charlax (Charles-AxelDein)',\n",
    " 'ForrestKnight (ForrestKnight)',\n",
    " 'revery-ui (revery-ui)',\n",
    " 'alibaba (Alibaba)',\n",
    " 'Microsoft (Microsoft)',\n",
    " 'github (GitHub)',\n",
    " 'facebook (Facebook)',\n",
    " 'boazsegev (Bo)',\n",
    " 'google (Google)',\n",
    " 'cloudfetch',\n",
    " 'sindresorhus (SindreSorhus)',\n",
    " 'tensorflow',\n",
    " 'apache (TheApacheSoftwareFoundation)',\n",
    " 'DevonCrawford (DevonCrawford)',\n",
    " 'ARMmbed (ArmMbed)',\n",
    " 'vuejs (vuejs)',\n",
    " 'fastai (fast.ai)',\n",
    " 'QiShaoXuan (Qi)',\n",
    " 'joelparkerhenderson (JoelParkerHenderson)',\n",
    " 'torvalds (LinusTorvalds)',\n",
    " 'CyC2018',\n",
    " 'komeiji-satori (神楽坂覚々)',\n",
    " 'script-8']\n",
    " ```"
   ]
  },
  {
   "cell_type": "code",
   "execution_count": 48,
   "metadata": {},
   "outputs": [],
   "source": [
    "#your code\n",
    "#Tag: <h1>\n",
    "#Class: \"h3 lh-condensed\"\n",
    "dev = soup.find_all(\"h1\", attrs = {\"class\":\"h3 lh-condensed\"})\n",
    "# dev\n",
    "links = soup.select(\"h1 > a\")\n",
    "usernamesDuplicated = [link[\"href\"].split(\"/\")[1] for link in links]\n",
    "# transform to set so duplicates are removed, with fromkeys so order is preserved\n",
    "usernames = list(dict.fromkeys(usernamesDuplicated))"
   ]
  },
  {
   "cell_type": "code",
   "execution_count": 49,
   "metadata": {},
   "outputs": [
    {
     "data": {
      "text/plain": [
       "['pilcrowOnPaper (pilcrowOnPaper)',\n",
       " 'Jerry Liu (jerryjliu)',\n",
       " 'Andrea Aime (aaime)',\n",
       " 'Rupali Haldiya (rupali-codes)',\n",
       " 'Leonid Bugaev (buger)',\n",
       " 'Ha Thach (hathach)',\n",
       " 'Vikash Yadav (Vikash-8090-Yadav)',\n",
       " 'Lianmin Zheng (merrymercy)',\n",
       " 'Steven Tey (steven-tey)',\n",
       " 'Saurav Mukherjee (SauravMukherjee44)',\n",
       " 'Azure SDK Bot (azure-sdk)',\n",
       " 'Matt Johnson-Pint (mattjohnsonpint)',\n",
       " 'OM GAWANDE (Spyware007)',\n",
       " 'Shahed Nasser (shahednasser)',\n",
       " 'hardfist (hardfist)',\n",
       " 'Dessalines (dessalines)',\n",
       " 'lllyasviel (lllyasviel)',\n",
       " 'Evgenii Bazhanov (Ebazhanov)',\n",
       " 'Juliette (jrfnl)',\n",
       " 'Amr Bashir (amrbashir)',\n",
       " 'dennis zhuang (killme2008)',\n",
       " 'Chris Simmons (endigo9740)',\n",
       " 'Piotr Skalski (SkalskiP)',\n",
       " 'Harrison Chase (hwchase17)',\n",
       " 'Rui Chen (chenrui333)']"
      ]
     },
     "execution_count": 49,
     "metadata": {},
     "output_type": "execute_result"
    }
   ],
   "source": [
    "clean_names=[i.getText().replace(\"\\n\", \"\").strip() for i in dev]\n",
    "clean_names\n",
    "\n",
    "final_names = []\n",
    "for i in range(0, len(clean_names)):\n",
    "    final_names.append(clean_names[i] + \" (\" + usernames[i] + \")\")\n",
    "final_names"
   ]
  },
  {
   "cell_type": "markdown",
   "metadata": {
    "jp-MarkdownHeadingCollapsed": true
   },
   "source": [
    "#### Display the trending Python repositories in GitHub\n",
    "\n",
    "The steps to solve this problem is similar to the previous one except that you need to find out the repository names instead of developer names."
   ]
  },
  {
   "cell_type": "code",
   "execution_count": 50,
   "metadata": {},
   "outputs": [],
   "source": [
    "# This is the url you will scrape in this exercise\n",
    "url = 'https://github.com/trending/python?since=daily'"
   ]
  },
  {
   "cell_type": "code",
   "execution_count": 51,
   "metadata": {},
   "outputs": [],
   "source": [
    "#your code\n",
    "#Tag: <h1>\n",
    "#Class: \"h4 lh-condensed\"\n",
    "rep = soup.find_all(\"h1\", attrs={\"class\": \"h4 lh-condensed\"})\n",
    "# rep"
   ]
  },
  {
   "cell_type": "code",
   "execution_count": 52,
   "metadata": {},
   "outputs": [
    {
     "data": {
      "text/plain": [
       "['lucia',\n",
       " 'llama_index',\n",
       " 'LinksHub',\n",
       " 'goreplay',\n",
       " 'tinyusb',\n",
       " 'Future.WebNet',\n",
       " 'awesome-tensor-compilers',\n",
       " 'dub',\n",
       " 'Aec-Library-Website',\n",
       " 'azure-docs-sdk-java',\n",
       " 'TimeZoneConverter',\n",
       " 'Animating-Buttons',\n",
       " 'awesome-resources',\n",
       " 'layer-demo',\n",
       " 'thumb-key',\n",
       " 'ControlNet',\n",
       " 'linkedin-skill-assessments-quizzes',\n",
       " 'aviatorscript',\n",
       " 'endigo-design',\n",
       " 'courses',\n",
       " 'langchain']"
      ]
     },
     "execution_count": 52,
     "metadata": {},
     "output_type": "execute_result"
    }
   ],
   "source": [
    "clean_repos=[i.getText().replace(\"\\n\", \"\").strip()for i in rep]\n",
    "clean_repos"
   ]
  },
  {
   "cell_type": "markdown",
   "metadata": {
    "jp-MarkdownHeadingCollapsed": true
   },
   "source": [
    "#### Display all the image links from Walt Disney wikipedia page"
   ]
  },
  {
   "cell_type": "code",
   "execution_count": 53,
   "metadata": {},
   "outputs": [],
   "source": [
    "# This is the url you will scrape in this exercise\n",
    "url = 'https://en.wikipedia.org/wiki/Walt_Disney'"
   ]
  },
  {
   "cell_type": "code",
   "execution_count": 58,
   "metadata": {},
   "outputs": [],
   "source": [
    "#your code\n",
    "res1 = requests.get('https://en.wikipedia.org/wiki/Walt_Disney')\n",
    "soup1 = BeautifulSoup(res1.text,\"html.parser\")"
   ]
  },
  {
   "cell_type": "code",
   "execution_count": 66,
   "metadata": {},
   "outputs": [
    {
     "name": "stdout",
     "output_type": "stream",
     "text": [
      "/static/images/icons/wikipedia.png\n",
      "/static/images/mobile/copyright/wikipedia-wordmark-en.svg\n",
      "/static/images/mobile/copyright/wikipedia-tagline-en.svg\n",
      "//upload.wikimedia.org/wikipedia/en/thumb/e/e7/Cscr-featured.svg/20px-Cscr-featured.svg.png\n",
      "//upload.wikimedia.org/wikipedia/en/thumb/8/8c/Extended-protection-shackle.svg/20px-Extended-protection-shackle.svg.png\n",
      "//upload.wikimedia.org/wikipedia/commons/thumb/d/df/Walt_Disney_1946.JPG/220px-Walt_Disney_1946.JPG\n",
      "//upload.wikimedia.org/wikipedia/commons/thumb/8/87/Walt_Disney_1942_signature.svg/150px-Walt_Disney_1942_signature.svg.png\n",
      "//upload.wikimedia.org/wikipedia/commons/thumb/3/3a/Walt_Disney_Birthplace_Exterior_Hermosa_Chicago_Illinois.jpg/220px-Walt_Disney_Birthplace_Exterior_Hermosa_Chicago_Illinois.jpg\n",
      "//upload.wikimedia.org/wikipedia/commons/thumb/c/c4/Walt_Disney_envelope_ca._1921.jpg/220px-Walt_Disney_envelope_ca._1921.jpg\n",
      "//upload.wikimedia.org/wikipedia/commons/thumb/0/0d/Trolley_Troubles_poster.jpg/170px-Trolley_Troubles_poster.jpg\n",
      "//upload.wikimedia.org/wikipedia/en/thumb/4/4e/Steamboat-willie.jpg/170px-Steamboat-willie.jpg\n",
      "//upload.wikimedia.org/wikipedia/commons/thumb/f/f1/Eisenstein_Tisse_Aleksandrov_Disney.webp/170px-Eisenstein_Tisse_Aleksandrov_Disney.webp.png\n",
      "//upload.wikimedia.org/wikipedia/commons/thumb/c/cd/Walt_Disney_Snow_white_1937_trailer_screenshot_%2813%29.jpg/220px-Walt_Disney_Snow_white_1937_trailer_screenshot_%2813%29.jpg\n",
      "//upload.wikimedia.org/wikipedia/commons/thumb/1/15/Disney_drawing_goofy.jpg/170px-Disney_drawing_goofy.jpg\n",
      "//upload.wikimedia.org/wikipedia/commons/thumb/8/8c/WaltDisneyplansDisneylandDec1954.jpg/220px-WaltDisneyplansDisneylandDec1954.jpg\n",
      "//upload.wikimedia.org/wikipedia/commons/thumb/f/ff/Walt_disney_portrait_right.jpg/170px-Walt_disney_portrait_right.jpg\n",
      "//upload.wikimedia.org/wikipedia/commons/thumb/1/1a/Walt_Disney_Grave.JPG/170px-Walt_Disney_Grave.JPG\n",
      "//upload.wikimedia.org/wikipedia/commons/thumb/2/2d/Roy_O._Disney_with_Company_at_Press_Conference.jpg/170px-Roy_O._Disney_with_Company_at_Press_Conference.jpg\n",
      "//upload.wikimedia.org/wikipedia/commons/thumb/1/13/DisneySchiphol1951.jpg/220px-DisneySchiphol1951.jpg\n",
      "//upload.wikimedia.org/wikipedia/commons/thumb/6/6c/Disney1968.jpg/170px-Disney1968.jpg\n",
      "//upload.wikimedia.org/wikipedia/commons/thumb/b/b0/Disney_Oscar_1953_%28cropped%29.jpg/170px-Disney_Oscar_1953_%28cropped%29.jpg\n",
      "//upload.wikimedia.org/wikipedia/en/thumb/4/4a/Commons-logo.svg/30px-Commons-logo.svg.png\n",
      "//upload.wikimedia.org/wikipedia/commons/thumb/4/4c/Wikisource-logo.svg/38px-Wikisource-logo.svg.png\n",
      "//upload.wikimedia.org/wikipedia/commons/thumb/f/fa/Wikiquote-logo.svg/34px-Wikiquote-logo.svg.png\n",
      "//upload.wikimedia.org/wikipedia/en/thumb/8/8a/OOjs_UI_icon_edit-ltr-progressive.svg/10px-OOjs_UI_icon_edit-ltr-progressive.svg.png\n",
      "//upload.wikimedia.org/wikipedia/en/thumb/8/8a/OOjs_UI_icon_edit-ltr-progressive.svg/10px-OOjs_UI_icon_edit-ltr-progressive.svg.png\n",
      "//upload.wikimedia.org/wikipedia/commons/thumb/e/e3/Disneyland_Resort_logo.svg/135px-Disneyland_Resort_logo.svg.png\n",
      "//upload.wikimedia.org/wikipedia/commons/thumb/d/da/Animation_disc.svg/20px-Animation_disc.svg.png\n",
      "//upload.wikimedia.org/wikipedia/en/thumb/6/69/P_vip.svg/19px-P_vip.svg.png\n",
      "//upload.wikimedia.org/wikipedia/commons/thumb/1/1a/Magic_Kingdom_castle.jpg/15px-Magic_Kingdom_castle.jpg\n",
      "//upload.wikimedia.org/wikipedia/en/thumb/e/e7/Video-x-generic.svg/19px-Video-x-generic.svg.png\n",
      "//upload.wikimedia.org/wikipedia/commons/thumb/a/a3/Flag_of_Los_Angeles_County%2C_California.svg/21px-Flag_of_Los_Angeles_County%2C_California.svg.png\n",
      "//upload.wikimedia.org/wikipedia/commons/thumb/8/8c/Blank_television_set.svg/21px-Blank_television_set.svg.png\n",
      "//upload.wikimedia.org/wikipedia/en/thumb/a/a4/Flag_of_the_United_States.svg/21px-Flag_of_the_United_States.svg.png\n",
      "//upload.wikimedia.org/wikipedia/en/thumb/4/4a/Commons-logo.svg/14px-Commons-logo.svg.png\n",
      "//upload.wikimedia.org/wikipedia/commons/thumb/f/fa/Wikiquote-logo.svg/16px-Wikiquote-logo.svg.png\n",
      "//upload.wikimedia.org/wikipedia/commons/thumb/4/4c/Wikisource-logo.svg/18px-Wikisource-logo.svg.png\n",
      "//upload.wikimedia.org/wikipedia/commons/thumb/f/ff/Wikidata-logo.svg/21px-Wikidata-logo.svg.png\n",
      "//upload.wikimedia.org/wikipedia/en/thumb/8/8a/OOjs_UI_icon_edit-ltr-progressive.svg/10px-OOjs_UI_icon_edit-ltr-progressive.svg.png\n",
      "//en.wikipedia.org/wiki/Special:CentralAutoLogin/start?type=1x1\n",
      "/static/images/footer/wikimedia-button.png\n",
      "/static/images/footer/poweredby_mediawiki_88x31.png\n"
     ]
    }
   ],
   "source": [
    "for link in soup1.find_all('img'):\n",
    "    print(link[\"src\"])\n",
    "\n",
    "images = [link[\"src\"] for link in soup1.find_all('img')]"
   ]
  },
  {
   "cell_type": "markdown",
   "metadata": {
    "jp-MarkdownHeadingCollapsed": true
   },
   "source": [
    "#### Retrieve an arbitary Wikipedia page of \"Python\" and create a list of links on that page"
   ]
  },
  {
   "cell_type": "code",
   "execution_count": 67,
   "metadata": {},
   "outputs": [],
   "source": [
    "# This is the url you will scrape in this exercise\n",
    "url2 ='https://en.wikipedia.org/wiki/Python' "
   ]
  },
  {
   "cell_type": "code",
   "execution_count": 69,
   "metadata": {},
   "outputs": [],
   "source": [
    "#your code\n",
    "res2 = requests.get(url2)\n",
    "soup2 = BeautifulSoup(res2.text,\"html.parser\")\n",
    "# soup2"
   ]
  },
  {
   "cell_type": "code",
   "execution_count": 70,
   "metadata": {},
   "outputs": [],
   "source": [
    "links = []\n",
    "\n",
    "for link in soup2.find_all('a'):\n",
    "    links.append(link.get('href'))\n",
    "\n",
    "# links"
   ]
  },
  {
   "cell_type": "markdown",
   "metadata": {
    "jp-MarkdownHeadingCollapsed": true
   },
   "source": [
    "#### Number of Titles that have changed in the United States Code since its last release point "
   ]
  },
  {
   "cell_type": "code",
   "execution_count": 45,
   "metadata": {},
   "outputs": [],
   "source": [
    "# This is the url you will scrape in this exercise\n",
    "url = 'http://uscode.house.gov/download/download.shtml'"
   ]
  },
  {
   "cell_type": "code",
   "execution_count": 71,
   "metadata": {},
   "outputs": [],
   "source": [
    "#your code\n",
    "res = requests.get('http://uscode.house.gov/download/download.shtml')\n",
    "soup = BeautifulSoup(res.content,\"html.parser\")"
   ]
  },
  {
   "cell_type": "code",
   "execution_count": 76,
   "metadata": {},
   "outputs": [
    {
     "data": {
      "text/plain": [
       "['General Provisions ٭',\n",
       " 'The Congress',\n",
       " 'The President ٭',\n",
       " 'Government Organization and Employees ٭',\n",
       " 'Domestic Security',\n",
       " 'Agriculture',\n",
       " 'Aliens and Nationality',\n",
       " 'Armed Forces ٭',\n",
       " 'Banks and Banking',\n",
       " 'Commerce and Trade',\n",
       " 'Conservation',\n",
       " 'Crimes and Criminal Procedure ٭',\n",
       " 'Customs Duties',\n",
       " 'Education',\n",
       " 'Food and Drugs',\n",
       " 'Foreign Relations and Intercourse',\n",
       " 'Highways ٭',\n",
       " 'Indians',\n",
       " 'Internal Revenue Code',\n",
       " 'Judiciary and Judicial Procedure ٭',\n",
       " 'Labor',\n",
       " 'Mineral Lands and Mining',\n",
       " 'Money and Finance ٭',\n",
       " 'Navigation and Navigable Waters',\n",
       " 'Crime Control and Law Enforcement',\n",
       " 'Patents ٭',\n",
       " 'Patriotic and National Observances, Ceremonies, and Organizations ٭',\n",
       " 'Pay and Allowances of the Uniformed Services ٭',\n",
       " \"Veterans' Benefits ٭\",\n",
       " 'Public Buildings, Property, and Works ٭',\n",
       " 'Public Contracts ٭',\n",
       " 'The Public Health and Welfare',\n",
       " 'Public Lands',\n",
       " 'Public Printing and Documents ٭',\n",
       " 'Shipping ٭',\n",
       " 'Telecommunications',\n",
       " 'Territories and Insular Possessions',\n",
       " 'Transportation ٭',\n",
       " 'War and National Defense',\n",
       " 'National and Commercial Space Programs ٭',\n",
       " 'National Park Service and Related Programs ٭']"
      ]
     },
     "execution_count": 76,
     "metadata": {},
     "output_type": "execute_result"
    }
   ],
   "source": [
    "dev = soup.find_all(\"div\", attrs={\"class\":\"usctitlechanged\"})\n",
    "titles = [d.getText().strip().split(\" - \")[1] for d in dev]\n",
    "titles"
   ]
  },
  {
   "cell_type": "code",
   "execution_count": 50,
   "metadata": {},
   "outputs": [
    {
     "data": {
      "text/plain": [
       "[\"All titles in the format selected compressed into a zip archive.                  \\xa0        [XML]\\xa0[XHTML]\\xa0[PCC]\\xa0[PDF]             \\xa0\\t        \\t          \\xa0\\t                  \\xa0\\t                     Individual Titles \\t        \\t          Current Through\\t                  \\xa0\\t                  Title 1 - General Provisions ٭          118-2not263not328        [XML]\\xa0[XHTML]\\xa0[PCC]\\xa0[PDF]          Title 2 - The Congress                  118-2not263not328        [XML]\\xa0[XHTML]\\xa0[PCC]\\xa0[PDF]          Title 3 - The President ٭          118-2not263not328        [XML]\\xa0[XHTML]\\xa0[PCC]\\xa0[PDF]          Title 4 - Flag and Seal, Seat of Government, and the States ٭          118-2not263not328        [XML]\\xa0[XHTML]\\xa0[PCC]\\xa0[PDF]          Title 5 - Government Organization and Employees ٭          118-2not263not328        [XML]\\xa0[XHTML]\\xa0[PCC]\\xa0[PDF]          Appendix                  118-2not263not328        [XML]\\xa0[XHTML]\\xa0[PCC]\\xa0[PDF]          Title 6 - Domestic Security                  118-2not263not328        [XML]\\xa0[XHTML]\\xa0[PCC]\\xa0[PDF]          Title 7 - Agriculture                  118-2not263not328        [XML]\\xa0[XHTML]\\xa0[PCC]\\xa0[PDF]          Title 8 - Aliens and Nationality                  118-2not263not328        [XML]\\xa0[XHTML]\\xa0[PCC]\\xa0[PDF]          Title 9 - Arbitration ٭          118-2not263not328        [XML]\\xa0[XHTML]\\xa0[PCC]\\xa0[PDF]          Title 10 - Armed Forces ٭          118-2not263not328        [XML]\\xa0[XHTML]\\xa0[PCC]\\xa0[PDF]          Title 11 - Bankruptcy ٭          118-2not263not328        [XML]\\xa0[XHTML]\\xa0[PCC]\\xa0[PDF]          Appendix                  118-2not263not328        [XML]\\xa0[XHTML]\\xa0[PCC]\\xa0[PDF]          Title 12 - Banks and Banking                  118-2not263not328        [XML]\\xa0[XHTML]\\xa0[PCC]\\xa0[PDF]          Title 13 - Census ٭          118-2not263not328        [XML]\\xa0[XHTML]\\xa0[PCC]\\xa0[PDF]          Title 14 - Coast Guard ٭          118-2not263not328        [XML]\\xa0[XHTML]\\xa0[PCC]\\xa0[PDF]          Title 15 - Commerce and Trade                  118-2not263not328        [XML]\\xa0[XHTML]\\xa0[PCC]\\xa0[PDF]          Title 16 - Conservation                  118-2not263not328        [XML]\\xa0[XHTML]\\xa0[PCC]\\xa0[PDF]          Title 17 - Copyrights ٭          118-2not263not328        [XML]\\xa0[XHTML]\\xa0[PCC]\\xa0[PDF]          Title 18 - Crimes and Criminal Procedure ٭          118-2not263not328        [XML]\\xa0[XHTML]\\xa0[PCC]\\xa0[PDF]          Appendix                  118-2not263not328        [XML]\\xa0[XHTML]\\xa0[PCC]\\xa0[PDF]          Title 19 - Customs Duties                  118-2not263not328        [XML]\\xa0[XHTML]\\xa0[PCC]\\xa0[PDF]          Title 20 - Education                  118-2not263not328        [XML]\\xa0[XHTML]\\xa0[PCC]\\xa0[PDF]          Title 21 - Food and Drugs                  118-2not263not328        [XML]\\xa0[XHTML]\\xa0[PCC]\\xa0[PDF]          Title 22 - Foreign Relations and Intercourse                  118-2not263not328        [XML]\\xa0[XHTML]\\xa0[PCC]\\xa0[PDF]          Title 23 - Highways ٭          118-2not263not328        [XML]\\xa0[XHTML]\\xa0[PCC]\\xa0[PDF]          Title 24 - Hospitals and Asylums                  118-2not263not328        [XML]\\xa0[XHTML]\\xa0[PCC]\\xa0[PDF]          Title 25 - Indians                  118-2not263not328        [XML]\\xa0[XHTML]\\xa0[PCC]\\xa0[PDF]          Title 26 - Internal Revenue Code                  118-2not263not328        [XML]\\xa0[XHTML]\\xa0[PCC]\\xa0[PDF]          Title 27 - Intoxicating Liquors                  118-2not263not328        [XML]\\xa0[XHTML]\\xa0[PCC]\\xa0[PDF]          Title 28 - Judiciary and Judicial Procedure ٭          118-2not263not328        [XML]\\xa0[XHTML]\\xa0[PCC]\\xa0[PDF]          Appendix                  118-2not263not328        [XML]\\xa0[XHTML]\\xa0[PCC]\\xa0[PDF]          Title 29 - Labor                  118-2not263not328        [XML]\\xa0[XHTML]\\xa0[PCC]\\xa0[PDF]          Title 30 - Mineral Lands and Mining                  118-2not263not328        [XML]\\xa0[XHTML]\\xa0[PCC]\\xa0[PDF]          Title 31 - Money and Finance ٭          118-2not263not328        [XML]\\xa0[XHTML]\\xa0[PCC]\\xa0[PDF]          Title 32 - National Guard ٭          118-2not263not328        [XML]\\xa0[XHTML]\\xa0[PCC]\\xa0[PDF]          Title 33 - Navigation and Navigable Waters                  118-2not263not328        [XML]\\xa0[XHTML]\\xa0[PCC]\\xa0[PDF]          Title 34 - Crime Control and Law Enforcement                  118-2not263not328        [XML]\\xa0[XHTML]\\xa0[PCC]\\xa0[PDF]          Title 35 - Patents ٭          118-2not263not328        [XML]\\xa0[XHTML]\\xa0[PCC]\\xa0[PDF]          Title 36 - Patriotic and National Observances, Ceremonies, and Organizations ٭          118-2not263not328        [XML]\\xa0[XHTML]\\xa0[PCC]\\xa0[PDF]          Title 37 - Pay and Allowances of the Uniformed Services ٭          118-2not263not328        [XML]\\xa0[XHTML]\\xa0[PCC]\\xa0[PDF]          Title 38 - Veterans' Benefits ٭          118-2not263not328        [XML]\\xa0[XHTML]\\xa0[PCC]\\xa0[PDF]          Title 39 - Postal Service ٭          118-2not263not328        [XML]\\xa0[XHTML]\\xa0[PCC]\\xa0[PDF]          Title 40 - Public Buildings, Property, and Works ٭          118-2not263not328        [XML]\\xa0[XHTML]\\xa0[PCC]\\xa0[PDF]          Title 41 - Public Contracts ٭          118-2not263not328        [XML]\\xa0[XHTML]\\xa0[PCC]\\xa0[PDF]          Title 42 - The Public Health and Welfare                  118-2not263not328        [XML]\\xa0[XHTML]\\xa0[PCC]\\xa0[PDF]          Title 43 - Public Lands                  118-2not263not328        [XML]\\xa0[XHTML]\\xa0[PCC]\\xa0[PDF]          Title 44 - Public Printing and Documents ٭          118-2not263not328        [XML]\\xa0[XHTML]\\xa0[PCC]\\xa0[PDF]          Title 45 - Railroads                  118-2not263not328        [XML]\\xa0[XHTML]\\xa0[PCC]\\xa0[PDF]          Title 46 - Shipping ٭          118-2not263not328        [XML]\\xa0[XHTML]\\xa0[PCC]\\xa0[PDF]          Title 47 - Telecommunications                  118-2not263not328        [XML]\\xa0[XHTML]\\xa0[PCC]\\xa0[PDF]          Title 48 - Territories and Insular Possessions                  118-2not263not328        [XML]\\xa0[XHTML]\\xa0[PCC]\\xa0[PDF]          Title 49 - Transportation ٭          118-2not263not328        [XML]\\xa0[XHTML]\\xa0[PCC]\\xa0[PDF]          Title 50 - War and National Defense                  118-2not263not328        [XML]\\xa0[XHTML]\\xa0[PCC]\\xa0[PDF]          Appendix                  118-2not263not328        [XML]\\xa0[XHTML]\\xa0[PCC]\\xa0[PDF]          Title 51 - National and Commercial Space Programs ٭          118-2not263not328        [XML]\\xa0[XHTML]\\xa0[PCC]\\xa0[PDF]          Title 52 - Voting and Elections                  118-2not263not328        [XML]\\xa0[XHTML]\\xa0[PCC]\\xa0[PDF]          Title 53 [Reserved]                  118-2not263not328        [XML]\\xa0[XHTML]\\xa0[PCC]\\xa0[PDF]          Title 54 - National Park Service and Related Programs ٭          118-2not263not328        [XML]\\xa0[XHTML]\\xa0[PCC]\\xa0[PDF]\"]"
      ]
     },
     "execution_count": 50,
     "metadata": {},
     "output_type": "execute_result"
    }
   ],
   "source": [
    "clean_titles=[i.getText().replace(\"\\n\", \"\").strip()for i in dev]\n",
    "clean_titles"
   ]
  },
  {
   "cell_type": "markdown",
   "metadata": {
    "jp-MarkdownHeadingCollapsed": true
   },
   "source": [
    "####  20 latest earthquakes info (date, time, latitude, longitude and region name) by the EMSC as a pandas dataframe"
   ]
  },
  {
   "cell_type": "code",
   "execution_count": 87,
   "metadata": {},
   "outputs": [],
   "source": [
    "# This is the url you will scrape in this exercise\n",
    "url = 'https://www.emsc-csem.org/Earthquake/'"
   ]
  },
  {
   "cell_type": "code",
   "execution_count": 89,
   "metadata": {},
   "outputs": [],
   "source": [
    "#your code\n",
    "res = requests.get(url)\n",
    "soup = BeautifulSoup(res.content,\"html.parser\")"
   ]
  },
  {
   "cell_type": "code",
   "execution_count": 121,
   "metadata": {},
   "outputs": [],
   "source": [
    "dates = soup.find_all(\"td\", {\"class\" : \"tabev6\"})\n",
    "fechas = [date.getText().replace(\"earthquake\", \"\").split(\"\\xa0\")[0] for date in dates]\n",
    "horas = [date.getText().replace(\"earthquake\", \"\").split(\"\\xa0\")[-1].split(\".\")[0] for date in dates]\n",
    "\n",
    "latLon = soup.find_all(\"td\", {\"class\" : \"tabev1\"})\n",
    "\n",
    "lat = []\n",
    "lon = []\n",
    "\n",
    "for i in range(0, len(latLon), 2):\n",
    "    lat.append(latLon[i].getText().strip())\n",
    "    lon.append(latLon[i + 1].getText().strip())\n",
    "\n",
    "reg = soup.find_all(\"td\", {\"class\" : \"tb_region\"})\n",
    "reg = [x.getText().strip() for x in reg]"
   ]
  },
  {
   "cell_type": "code",
   "execution_count": 122,
   "metadata": {},
   "outputs": [
    {
     "data": {
      "text/html": [
       "<div>\n",
       "<style scoped>\n",
       "    .dataframe tbody tr th:only-of-type {\n",
       "        vertical-align: middle;\n",
       "    }\n",
       "\n",
       "    .dataframe tbody tr th {\n",
       "        vertical-align: top;\n",
       "    }\n",
       "\n",
       "    .dataframe thead th {\n",
       "        text-align: right;\n",
       "    }\n",
       "</style>\n",
       "<table border=\"1\" class=\"dataframe\">\n",
       "  <thead>\n",
       "    <tr style=\"text-align: right;\">\n",
       "      <th></th>\n",
       "      <th>date</th>\n",
       "      <th>time</th>\n",
       "      <th>lat</th>\n",
       "      <th>lon</th>\n",
       "      <th>region</th>\n",
       "    </tr>\n",
       "  </thead>\n",
       "  <tbody>\n",
       "    <tr>\n",
       "      <th>0</th>\n",
       "      <td>2023-05-23</td>\n",
       "      <td>19:30:13</td>\n",
       "      <td>37.22</td>\n",
       "      <td>36.91</td>\n",
       "      <td>CENTRAL TURKEY</td>\n",
       "    </tr>\n",
       "    <tr>\n",
       "      <th>1</th>\n",
       "      <td>2023-05-23</td>\n",
       "      <td>19:04:24</td>\n",
       "      <td>9.52</td>\n",
       "      <td>117.01</td>\n",
       "      <td>SUMBAWA REGION, INDONESIA</td>\n",
       "    </tr>\n",
       "    <tr>\n",
       "      <th>2</th>\n",
       "      <td>2023-05-23</td>\n",
       "      <td>19:00:44</td>\n",
       "      <td>21.52</td>\n",
       "      <td>68.47</td>\n",
       "      <td>ANTOFAGASTA, CHILE</td>\n",
       "    </tr>\n",
       "    <tr>\n",
       "      <th>3</th>\n",
       "      <td>2023-05-23</td>\n",
       "      <td>18:40:12</td>\n",
       "      <td>19.43</td>\n",
       "      <td>155.32</td>\n",
       "      <td>ISLAND OF HAWAII, HAWAII</td>\n",
       "    </tr>\n",
       "    <tr>\n",
       "      <th>4</th>\n",
       "      <td>2023-05-23</td>\n",
       "      <td>18:32:40</td>\n",
       "      <td>60.41</td>\n",
       "      <td>151.01</td>\n",
       "      <td>KENAI PENINSULA, ALASKA</td>\n",
       "    </tr>\n",
       "    <tr>\n",
       "      <th>5</th>\n",
       "      <td>2023-05-23</td>\n",
       "      <td>18:31:27</td>\n",
       "      <td>37.34</td>\n",
       "      <td>8.48</td>\n",
       "      <td>PORTUGAL</td>\n",
       "    </tr>\n",
       "    <tr>\n",
       "      <th>6</th>\n",
       "      <td>2023-05-23</td>\n",
       "      <td>18:30:16</td>\n",
       "      <td>5.65</td>\n",
       "      <td>124.34</td>\n",
       "      <td>MINDANAO, PHILIPPINES</td>\n",
       "    </tr>\n",
       "    <tr>\n",
       "      <th>7</th>\n",
       "      <td>2023-05-23</td>\n",
       "      <td>18:29:41</td>\n",
       "      <td>21.34</td>\n",
       "      <td>69.54</td>\n",
       "      <td>TARAPACA, CHILE</td>\n",
       "    </tr>\n",
       "    <tr>\n",
       "      <th>8</th>\n",
       "      <td>2023-05-23</td>\n",
       "      <td>18:23:04</td>\n",
       "      <td>5.77</td>\n",
       "      <td>124.58</td>\n",
       "      <td>MINDANAO, PHILIPPINES</td>\n",
       "    </tr>\n",
       "    <tr>\n",
       "      <th>9</th>\n",
       "      <td>2023-05-23</td>\n",
       "      <td>18:17:28</td>\n",
       "      <td>16.84</td>\n",
       "      <td>120.21</td>\n",
       "      <td>LUZON, PHILIPPINES</td>\n",
       "    </tr>\n",
       "    <tr>\n",
       "      <th>10</th>\n",
       "      <td>2023-05-23</td>\n",
       "      <td>18:16:53</td>\n",
       "      <td>45.81</td>\n",
       "      <td>7.28</td>\n",
       "      <td>NORTHERN ITALY</td>\n",
       "    </tr>\n",
       "    <tr>\n",
       "      <th>11</th>\n",
       "      <td>2023-05-23</td>\n",
       "      <td>18:16:45</td>\n",
       "      <td>43.07</td>\n",
       "      <td>74.34</td>\n",
       "      <td>OFFSHORE LOS LAGOS, CHILE</td>\n",
       "    </tr>\n",
       "    <tr>\n",
       "      <th>12</th>\n",
       "      <td>2023-05-23</td>\n",
       "      <td>18:12:01</td>\n",
       "      <td>36.72</td>\n",
       "      <td>179.13</td>\n",
       "      <td>OFF E. COAST OF N. ISLAND, N.Z.</td>\n",
       "    </tr>\n",
       "    <tr>\n",
       "      <th>13</th>\n",
       "      <td>2023-05-23</td>\n",
       "      <td>18:06:48</td>\n",
       "      <td>37.82</td>\n",
       "      <td>36.26</td>\n",
       "      <td>CENTRAL TURKEY</td>\n",
       "    </tr>\n",
       "    <tr>\n",
       "      <th>14</th>\n",
       "      <td>2023-05-23</td>\n",
       "      <td>17:47:05</td>\n",
       "      <td>19.13</td>\n",
       "      <td>155.36</td>\n",
       "      <td>ISLAND OF HAWAII, HAWAII</td>\n",
       "    </tr>\n",
       "    <tr>\n",
       "      <th>15</th>\n",
       "      <td>2023-05-23</td>\n",
       "      <td>17:41:51</td>\n",
       "      <td>8.15</td>\n",
       "      <td>115.27</td>\n",
       "      <td>BALI REGION, INDONESIA</td>\n",
       "    </tr>\n",
       "    <tr>\n",
       "      <th>16</th>\n",
       "      <td>2023-05-23</td>\n",
       "      <td>17:39:57</td>\n",
       "      <td>2.65</td>\n",
       "      <td>139.21</td>\n",
       "      <td>NEAR N COAST OF PAPUA, INDONESIA</td>\n",
       "    </tr>\n",
       "    <tr>\n",
       "      <th>17</th>\n",
       "      <td>2023-05-23</td>\n",
       "      <td>17:37:36</td>\n",
       "      <td>37.89</td>\n",
       "      <td>38.06</td>\n",
       "      <td>EASTERN TURKEY</td>\n",
       "    </tr>\n",
       "    <tr>\n",
       "      <th>18</th>\n",
       "      <td>2023-05-23</td>\n",
       "      <td>17:35:52</td>\n",
       "      <td>37.27</td>\n",
       "      <td>117.59</td>\n",
       "      <td>CENTRAL CALIFORNIA</td>\n",
       "    </tr>\n",
       "    <tr>\n",
       "      <th>19</th>\n",
       "      <td>2023-05-23</td>\n",
       "      <td>17:33:34</td>\n",
       "      <td>37.27</td>\n",
       "      <td>117.58</td>\n",
       "      <td>CENTRAL CALIFORNIA</td>\n",
       "    </tr>\n",
       "    <tr>\n",
       "      <th>20</th>\n",
       "      <td>2023-05-23</td>\n",
       "      <td>17:27:22</td>\n",
       "      <td>36.87</td>\n",
       "      <td>73.63</td>\n",
       "      <td>OFFSHORE BIO-BIO, CHILE</td>\n",
       "    </tr>\n",
       "    <tr>\n",
       "      <th>21</th>\n",
       "      <td>2023-05-23</td>\n",
       "      <td>17:22:51</td>\n",
       "      <td>35.57</td>\n",
       "      <td>4.72</td>\n",
       "      <td>STRAIT OF GIBRALTAR</td>\n",
       "    </tr>\n",
       "    <tr>\n",
       "      <th>22</th>\n",
       "      <td>2023-05-23</td>\n",
       "      <td>17:18:59</td>\n",
       "      <td>36.91</td>\n",
       "      <td>177.59</td>\n",
       "      <td>OFF E. COAST OF N. ISLAND, N.Z.</td>\n",
       "    </tr>\n",
       "    <tr>\n",
       "      <th>23</th>\n",
       "      <td>2023-05-23</td>\n",
       "      <td>17:17:48</td>\n",
       "      <td>38.34</td>\n",
       "      <td>21.96</td>\n",
       "      <td>GREECE</td>\n",
       "    </tr>\n",
       "    <tr>\n",
       "      <th>24</th>\n",
       "      <td>2023-05-23</td>\n",
       "      <td>17:11:56</td>\n",
       "      <td>5.80</td>\n",
       "      <td>124.55</td>\n",
       "      <td>MINDANAO, PHILIPPINES</td>\n",
       "    </tr>\n",
       "    <tr>\n",
       "      <th>25</th>\n",
       "      <td>2023-05-23</td>\n",
       "      <td>17:11:23</td>\n",
       "      <td>38.06</td>\n",
       "      <td>36.54</td>\n",
       "      <td>CENTRAL TURKEY</td>\n",
       "    </tr>\n",
       "    <tr>\n",
       "      <th>26</th>\n",
       "      <td>2023-05-23</td>\n",
       "      <td>17:10:26</td>\n",
       "      <td>51.84</td>\n",
       "      <td>171.14</td>\n",
       "      <td>FOX ISLANDS, ALEUTIAN ISLANDS</td>\n",
       "    </tr>\n",
       "    <tr>\n",
       "      <th>27</th>\n",
       "      <td>2023-05-23</td>\n",
       "      <td>17:08:44</td>\n",
       "      <td>17.21</td>\n",
       "      <td>95.43</td>\n",
       "      <td>OAXACA, MEXICO</td>\n",
       "    </tr>\n",
       "    <tr>\n",
       "      <th>28</th>\n",
       "      <td>2023-05-23</td>\n",
       "      <td>17:04:00</td>\n",
       "      <td>5.81</td>\n",
       "      <td>124.60</td>\n",
       "      <td>MINDANAO, PHILIPPINES</td>\n",
       "    </tr>\n",
       "    <tr>\n",
       "      <th>29</th>\n",
       "      <td>2023-05-23</td>\n",
       "      <td>16:43:07</td>\n",
       "      <td>38.07</td>\n",
       "      <td>36.54</td>\n",
       "      <td>CENTRAL TURKEY</td>\n",
       "    </tr>\n",
       "    <tr>\n",
       "      <th>30</th>\n",
       "      <td>2023-05-23</td>\n",
       "      <td>16:41:26</td>\n",
       "      <td>21.99</td>\n",
       "      <td>69.14</td>\n",
       "      <td>ANTOFAGASTA, CHILE</td>\n",
       "    </tr>\n",
       "    <tr>\n",
       "      <th>31</th>\n",
       "      <td>2023-05-23</td>\n",
       "      <td>16:31:30</td>\n",
       "      <td>34.50</td>\n",
       "      <td>139.20</td>\n",
       "      <td>NEAR S. COAST OF HONSHU, JAPAN</td>\n",
       "    </tr>\n",
       "    <tr>\n",
       "      <th>32</th>\n",
       "      <td>2023-05-23</td>\n",
       "      <td>16:28:28</td>\n",
       "      <td>60.07</td>\n",
       "      <td>153.14</td>\n",
       "      <td>SOUTHERN ALASKA</td>\n",
       "    </tr>\n",
       "    <tr>\n",
       "      <th>33</th>\n",
       "      <td>2023-05-23</td>\n",
       "      <td>16:15:56</td>\n",
       "      <td>15.76</td>\n",
       "      <td>93.83</td>\n",
       "      <td>OFFSHORE CHIAPAS, MEXICO</td>\n",
       "    </tr>\n",
       "    <tr>\n",
       "      <th>34</th>\n",
       "      <td>2023-05-23</td>\n",
       "      <td>16:15:28</td>\n",
       "      <td>46.11</td>\n",
       "      <td>21.48</td>\n",
       "      <td>ROMANIA</td>\n",
       "    </tr>\n",
       "    <tr>\n",
       "      <th>35</th>\n",
       "      <td>2023-05-23</td>\n",
       "      <td>16:07:54</td>\n",
       "      <td>40.55</td>\n",
       "      <td>21.08</td>\n",
       "      <td>GREECE</td>\n",
       "    </tr>\n",
       "    <tr>\n",
       "      <th>36</th>\n",
       "      <td>2023-05-23</td>\n",
       "      <td>16:07:53</td>\n",
       "      <td>15.83</td>\n",
       "      <td>97.02</td>\n",
       "      <td>OAXACA, MEXICO</td>\n",
       "    </tr>\n",
       "    <tr>\n",
       "      <th>37</th>\n",
       "      <td>2023-05-23</td>\n",
       "      <td>15:49:26</td>\n",
       "      <td>38.24</td>\n",
       "      <td>37.71</td>\n",
       "      <td>CENTRAL TURKEY</td>\n",
       "    </tr>\n",
       "    <tr>\n",
       "      <th>38</th>\n",
       "      <td>2023-05-23</td>\n",
       "      <td>15:31:36</td>\n",
       "      <td>0.14</td>\n",
       "      <td>99.95</td>\n",
       "      <td>NORTHERN SUMATRA, INDONESIA</td>\n",
       "    </tr>\n",
       "    <tr>\n",
       "      <th>39</th>\n",
       "      <td>2023-05-23</td>\n",
       "      <td>15:24:25</td>\n",
       "      <td>44.81</td>\n",
       "      <td>169.64</td>\n",
       "      <td>SOUTH ISLAND OF NEW ZEALAND</td>\n",
       "    </tr>\n",
       "    <tr>\n",
       "      <th>40</th>\n",
       "      <td>2023-05-23</td>\n",
       "      <td>15:22:57</td>\n",
       "      <td>37.77</td>\n",
       "      <td>36.40</td>\n",
       "      <td>CENTRAL TURKEY</td>\n",
       "    </tr>\n",
       "    <tr>\n",
       "      <th>41</th>\n",
       "      <td>2023-05-23</td>\n",
       "      <td>15:18:07</td>\n",
       "      <td>41.83</td>\n",
       "      <td>82.21</td>\n",
       "      <td>SOUTHERN XINJIANG, CHINA</td>\n",
       "    </tr>\n",
       "    <tr>\n",
       "      <th>42</th>\n",
       "      <td>2023-05-23</td>\n",
       "      <td>15:16:33</td>\n",
       "      <td>1.16</td>\n",
       "      <td>127.11</td>\n",
       "      <td>HALMAHERA, INDONESIA</td>\n",
       "    </tr>\n",
       "    <tr>\n",
       "      <th>43</th>\n",
       "      <td>2023-05-23</td>\n",
       "      <td>15:13:52</td>\n",
       "      <td>35.96</td>\n",
       "      <td>35.83</td>\n",
       "      <td>NEAR THE COAST OF SYRIA</td>\n",
       "    </tr>\n",
       "    <tr>\n",
       "      <th>44</th>\n",
       "      <td>2023-05-23</td>\n",
       "      <td>15:04:55</td>\n",
       "      <td>3.11</td>\n",
       "      <td>126.75</td>\n",
       "      <td>KEPULAUAN TALAUD, INDONESIA</td>\n",
       "    </tr>\n",
       "    <tr>\n",
       "      <th>45</th>\n",
       "      <td>2023-05-23</td>\n",
       "      <td>14:47:36</td>\n",
       "      <td>40.54</td>\n",
       "      <td>124.21</td>\n",
       "      <td>NORTHERN CALIFORNIA</td>\n",
       "    </tr>\n",
       "    <tr>\n",
       "      <th>46</th>\n",
       "      <td>2023-05-23</td>\n",
       "      <td>14:42:56</td>\n",
       "      <td>41.73</td>\n",
       "      <td>82.43</td>\n",
       "      <td>SOUTHERN XINJIANG, CHINA</td>\n",
       "    </tr>\n",
       "    <tr>\n",
       "      <th>47</th>\n",
       "      <td>2023-05-23</td>\n",
       "      <td>14:32:01</td>\n",
       "      <td>19.34</td>\n",
       "      <td>155.14</td>\n",
       "      <td>ISLAND OF HAWAII, HAWAII</td>\n",
       "    </tr>\n",
       "    <tr>\n",
       "      <th>48</th>\n",
       "      <td>2023-05-23</td>\n",
       "      <td>14:20:05</td>\n",
       "      <td>35.45</td>\n",
       "      <td>25.90</td>\n",
       "      <td>CRETE, GREECE</td>\n",
       "    </tr>\n",
       "    <tr>\n",
       "      <th>49</th>\n",
       "      <td>2023-05-23</td>\n",
       "      <td>14:06:55</td>\n",
       "      <td>38.72</td>\n",
       "      <td>75.05</td>\n",
       "      <td>OFF COAST OF ARAUCANIA, CHILE</td>\n",
       "    </tr>\n",
       "  </tbody>\n",
       "</table>\n",
       "</div>"
      ],
      "text/plain": [
       "          date      time    lat     lon                            region\n",
       "0   2023-05-23  19:30:13  37.22   36.91                    CENTRAL TURKEY\n",
       "1   2023-05-23  19:04:24   9.52  117.01         SUMBAWA REGION, INDONESIA\n",
       "2   2023-05-23  19:00:44  21.52   68.47                ANTOFAGASTA, CHILE\n",
       "3   2023-05-23  18:40:12  19.43  155.32          ISLAND OF HAWAII, HAWAII\n",
       "4   2023-05-23  18:32:40  60.41  151.01           KENAI PENINSULA, ALASKA\n",
       "5   2023-05-23  18:31:27  37.34    8.48                          PORTUGAL\n",
       "6   2023-05-23  18:30:16   5.65  124.34             MINDANAO, PHILIPPINES\n",
       "7   2023-05-23  18:29:41  21.34   69.54                   TARAPACA, CHILE\n",
       "8   2023-05-23  18:23:04   5.77  124.58             MINDANAO, PHILIPPINES\n",
       "9   2023-05-23  18:17:28  16.84  120.21                LUZON, PHILIPPINES\n",
       "10  2023-05-23  18:16:53  45.81    7.28                    NORTHERN ITALY\n",
       "11  2023-05-23  18:16:45  43.07   74.34         OFFSHORE LOS LAGOS, CHILE\n",
       "12  2023-05-23  18:12:01  36.72  179.13   OFF E. COAST OF N. ISLAND, N.Z.\n",
       "13  2023-05-23  18:06:48  37.82   36.26                    CENTRAL TURKEY\n",
       "14  2023-05-23  17:47:05  19.13  155.36          ISLAND OF HAWAII, HAWAII\n",
       "15  2023-05-23  17:41:51   8.15  115.27            BALI REGION, INDONESIA\n",
       "16  2023-05-23  17:39:57   2.65  139.21  NEAR N COAST OF PAPUA, INDONESIA\n",
       "17  2023-05-23  17:37:36  37.89   38.06                    EASTERN TURKEY\n",
       "18  2023-05-23  17:35:52  37.27  117.59                CENTRAL CALIFORNIA\n",
       "19  2023-05-23  17:33:34  37.27  117.58                CENTRAL CALIFORNIA\n",
       "20  2023-05-23  17:27:22  36.87   73.63           OFFSHORE BIO-BIO, CHILE\n",
       "21  2023-05-23  17:22:51  35.57    4.72               STRAIT OF GIBRALTAR\n",
       "22  2023-05-23  17:18:59  36.91  177.59   OFF E. COAST OF N. ISLAND, N.Z.\n",
       "23  2023-05-23  17:17:48  38.34   21.96                            GREECE\n",
       "24  2023-05-23  17:11:56   5.80  124.55             MINDANAO, PHILIPPINES\n",
       "25  2023-05-23  17:11:23  38.06   36.54                    CENTRAL TURKEY\n",
       "26  2023-05-23  17:10:26  51.84  171.14     FOX ISLANDS, ALEUTIAN ISLANDS\n",
       "27  2023-05-23  17:08:44  17.21   95.43                    OAXACA, MEXICO\n",
       "28  2023-05-23  17:04:00   5.81  124.60             MINDANAO, PHILIPPINES\n",
       "29  2023-05-23  16:43:07  38.07   36.54                    CENTRAL TURKEY\n",
       "30  2023-05-23  16:41:26  21.99   69.14                ANTOFAGASTA, CHILE\n",
       "31  2023-05-23  16:31:30  34.50  139.20    NEAR S. COAST OF HONSHU, JAPAN\n",
       "32  2023-05-23  16:28:28  60.07  153.14                   SOUTHERN ALASKA\n",
       "33  2023-05-23  16:15:56  15.76   93.83          OFFSHORE CHIAPAS, MEXICO\n",
       "34  2023-05-23  16:15:28  46.11   21.48                           ROMANIA\n",
       "35  2023-05-23  16:07:54  40.55   21.08                            GREECE\n",
       "36  2023-05-23  16:07:53  15.83   97.02                    OAXACA, MEXICO\n",
       "37  2023-05-23  15:49:26  38.24   37.71                    CENTRAL TURKEY\n",
       "38  2023-05-23  15:31:36   0.14   99.95       NORTHERN SUMATRA, INDONESIA\n",
       "39  2023-05-23  15:24:25  44.81  169.64       SOUTH ISLAND OF NEW ZEALAND\n",
       "40  2023-05-23  15:22:57  37.77   36.40                    CENTRAL TURKEY\n",
       "41  2023-05-23  15:18:07  41.83   82.21          SOUTHERN XINJIANG, CHINA\n",
       "42  2023-05-23  15:16:33   1.16  127.11              HALMAHERA, INDONESIA\n",
       "43  2023-05-23  15:13:52  35.96   35.83           NEAR THE COAST OF SYRIA\n",
       "44  2023-05-23  15:04:55   3.11  126.75       KEPULAUAN TALAUD, INDONESIA\n",
       "45  2023-05-23  14:47:36  40.54  124.21               NORTHERN CALIFORNIA\n",
       "46  2023-05-23  14:42:56  41.73   82.43          SOUTHERN XINJIANG, CHINA\n",
       "47  2023-05-23  14:32:01  19.34  155.14          ISLAND OF HAWAII, HAWAII\n",
       "48  2023-05-23  14:20:05  35.45   25.90                     CRETE, GREECE\n",
       "49  2023-05-23  14:06:55  38.72   75.05     OFF COAST OF ARAUCANIA, CHILE"
      ]
     },
     "execution_count": 122,
     "metadata": {},
     "output_type": "execute_result"
    }
   ],
   "source": [
    "df = pd.DataFrame(\n",
    "    {\n",
    "        \"date\" : fechas,\n",
    "        \"time\" : horas,\n",
    "        \"lat\" : lat,\n",
    "        \"lon\" : lon,\n",
    "        \"region\" : reg\n",
    "    }\n",
    ")\n",
    "df"
   ]
  },
  {
   "cell_type": "markdown",
   "metadata": {},
   "source": [
    "#### Display the date, days, title, city, country of next 25 hackathon events as a Pandas dataframe table"
   ]
  },
  {
   "cell_type": "code",
   "execution_count": null,
   "metadata": {},
   "outputs": [],
   "source": [
    "# This is the url you will scrape in this exercise\n",
    "url ='https://hackevents.co/hackathons'\n",
    "url_hack = 'https://hackevents.co/search/anything/anywhere/anytime' "
   ]
  },
  {
   "cell_type": "code",
   "execution_count": 123,
   "metadata": {},
   "outputs": [],
   "source": [
    "#your code\n",
    "# THIS WEB DONT EXIST ANYMORE \n"
   ]
  },
  {
   "cell_type": "code",
   "execution_count": null,
   "metadata": {},
   "outputs": [],
   "source": []
  },
  {
   "cell_type": "markdown",
   "metadata": {},
   "source": [
    "#### List all language names and number of related articles in the order they appear in wikipedia.org"
   ]
  },
  {
   "cell_type": "code",
   "execution_count": null,
   "metadata": {},
   "outputs": [],
   "source": [
    "# This is the url you will scrape in this exercise\n",
    "url = 'https://www.wikipedia.org/'"
   ]
  },
  {
   "cell_type": "code",
   "execution_count": null,
   "metadata": {},
   "outputs": [],
   "source": [
    "#your code\n"
   ]
  },
  {
   "cell_type": "code",
   "execution_count": null,
   "metadata": {},
   "outputs": [],
   "source": []
  },
  {
   "cell_type": "markdown",
   "metadata": {},
   "source": [
    "#### A list with the different kind of datasets available in data.gov.uk "
   ]
  },
  {
   "cell_type": "code",
   "execution_count": null,
   "metadata": {},
   "outputs": [],
   "source": [
    "# This is the url you will scrape in this exercise\n",
    "url = 'https://data.gov.uk/'"
   ]
  },
  {
   "cell_type": "code",
   "execution_count": null,
   "metadata": {},
   "outputs": [],
   "source": [
    "#your code \n"
   ]
  },
  {
   "cell_type": "code",
   "execution_count": null,
   "metadata": {},
   "outputs": [],
   "source": []
  },
  {
   "cell_type": "markdown",
   "metadata": {},
   "source": [
    "#### Top 10 languages by number of native speakers stored in a Pandas Dataframe"
   ]
  },
  {
   "cell_type": "code",
   "execution_count": null,
   "metadata": {},
   "outputs": [],
   "source": [
    "# This is the url you will scrape in this exercise\n",
    "url = 'https://en.wikipedia.org/wiki/List_of_languages_by_number_of_native_speakers'"
   ]
  },
  {
   "cell_type": "code",
   "execution_count": null,
   "metadata": {},
   "outputs": [],
   "source": [
    "#your code\n"
   ]
  },
  {
   "cell_type": "code",
   "execution_count": null,
   "metadata": {},
   "outputs": [],
   "source": []
  },
  {
   "cell_type": "markdown",
   "metadata": {},
   "source": [
    "### BONUS QUESTIONS"
   ]
  },
  {
   "cell_type": "markdown",
   "metadata": {},
   "source": [
    "#### IMDB's Top 250 data (movie name, Initial release, director name and stars) as a pandas dataframe"
   ]
  },
  {
   "cell_type": "code",
   "execution_count": null,
   "metadata": {},
   "outputs": [],
   "source": [
    "# This is the url you will scrape in this exercise \n",
    "url = 'https://www.imdb.com/chart/top'"
   ]
  },
  {
   "cell_type": "code",
   "execution_count": null,
   "metadata": {},
   "outputs": [],
   "source": [
    "# your code\n"
   ]
  },
  {
   "cell_type": "code",
   "execution_count": null,
   "metadata": {},
   "outputs": [],
   "source": []
  },
  {
   "cell_type": "code",
   "execution_count": null,
   "metadata": {},
   "outputs": [],
   "source": []
  }
 ],
 "metadata": {
  "kernelspec": {
   "display_name": "Python 3 (ipykernel)",
   "language": "python",
   "name": "python3"
  },
  "language_info": {
   "codemirror_mode": {
    "name": "ipython",
    "version": 3
   },
   "file_extension": ".py",
   "mimetype": "text/x-python",
   "name": "python",
   "nbconvert_exporter": "python",
   "pygments_lexer": "ipython3",
   "version": "3.9.13"
  },
  "toc": {
   "base_numbering": 1,
   "nav_menu": {},
   "number_sections": false,
   "sideBar": true,
   "skip_h1_title": false,
   "title_cell": "Table of Contents",
   "title_sidebar": "Contents",
   "toc_cell": false,
   "toc_position": {
    "height": "calc(100% - 180px)",
    "left": "10px",
    "top": "150px",
    "width": "288px"
   },
   "toc_section_display": true,
   "toc_window_display": false
  }
 },
 "nbformat": 4,
 "nbformat_minor": 4
}
