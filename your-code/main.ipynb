{
 "cells": [
  {
   "cell_type": "markdown",
   "metadata": {},
   "source": [
    "# Web Scraping Lab\n",
    "\n",
    "You will find in this notebook some scrapy exercises to practise your scraping skills.\n",
    "\n",
    "**Tips:**\n",
    "\n",
    "- Check the response status code for each request to ensure you have obtained the intended contennt.\n",
    "- Print the response text in each request to understand the kind of info you are getting and its format.\n",
    "- Check for patterns in the response text to extract the data/info requested in each question.\n",
    "- Visit each url and take a look at its source through Chrome DevTools. You'll need to identify the html tags, special class names etc. used for the html content you are expected to extract."
   ]
  },
  {
   "cell_type": "markdown",
   "metadata": {},
   "source": [
    "- [Requests library](http://docs.python-requests.org/en/master/#the-user-guide) documentation \n",
    "- [Beautiful Soup Doc](https://www.crummy.com/software/BeautifulSoup/bs4/doc/)\n",
    "- [Urllib](https://docs.python.org/3/library/urllib.html#module-urllib)\n",
    "- [re lib](https://docs.python.org/3/library/re.html)\n",
    "- [lxml lib](https://lxml.de/)\n",
    "- [Scrapy](https://scrapy.org/)\n",
    "- [List of HTTP status codes](https://en.wikipedia.org/wiki/List_of_HTTP_status_codes)\n",
    "- [HTML basics](http://www.simplehtmlguide.com/cheatsheet.php)\n",
    "- [CSS basics](https://www.cssbasics.com/#page_start)"
   ]
  },
  {
   "cell_type": "markdown",
   "metadata": {},
   "source": [
    "#### Below are the libraries and modules you may need. `requests`,  `BeautifulSoup` and `pandas` are imported for you. If you prefer to use additional libraries feel free to uncomment them."
   ]
  },
  {
   "cell_type": "code",
   "execution_count": 1,
   "metadata": {},
   "outputs": [],
   "source": [
    "import requests\n",
    "from bs4 import BeautifulSoup\n",
    "import pandas as pd\n",
    "# from pprint import pprint\n",
    "# from lxml import html\n",
    "# from lxml.html import fromstring\n",
    "# import urllib.request\n",
    "from urllib.request import urlopen\n",
    "# import random\n",
    "import re\n",
    "# import scrapy\n",
    "from IPython.display import display, Image"
   ]
  },
  {
   "cell_type": "markdown",
   "metadata": {},
   "source": [
    "#### Download, parse (using BeautifulSoup), and print the content from the Trending Developers page from GitHub:"
   ]
  },
  {
   "cell_type": "code",
   "execution_count": 2,
   "metadata": {},
   "outputs": [],
   "source": [
    "# This is the url you will scrape in this exercise\n",
    "url = 'https://github.com/trending/developers'"
   ]
  },
  {
   "cell_type": "code",
   "execution_count": 3,
   "metadata": {},
   "outputs": [],
   "source": [
    "#your code\n",
    "res = requests.get(url)\n",
    "soup = BeautifulSoup(res.content, 'html.parser')"
   ]
  },
  {
   "cell_type": "markdown",
   "metadata": {},
   "source": [
    "#### Display the names of the trending developers retrieved in the previous step.\n",
    "\n",
    "Your output should be a Python list of developer names. Each name should not contain any html tag.\n",
    "\n",
    "**Instructions:**\n",
    "\n",
    "1. Find out the html tag and class names used for the developer names. You can achieve this using Chrome DevTools.\n",
    "\n",
    "1. Use BeautifulSoup to extract all the html elements that contain the developer names.\n",
    "\n",
    "1. Use string manipulation techniques to replace whitespaces and linebreaks (i.e. `\\n`) in the *text* of each html element. Use a list to store the clean names.\n",
    "\n",
    "1. Print the list of names.\n",
    "\n",
    "Your output should look like below:\n",
    "\n",
    "```\n",
    "['trimstray (@trimstray)',\n",
    " 'joewalnes (JoeWalnes)',\n",
    " 'charlax (Charles-AxelDein)',\n",
    " 'ForrestKnight (ForrestKnight)',\n",
    " 'revery-ui (revery-ui)',\n",
    " 'alibaba (Alibaba)',\n",
    " 'Microsoft (Microsoft)',\n",
    " 'github (GitHub)',\n",
    " 'facebook (Facebook)',\n",
    " 'boazsegev (Bo)',\n",
    " 'google (Google)',\n",
    " 'cloudfetch',\n",
    " 'sindresorhus (SindreSorhus)',\n",
    " 'tensorflow',\n",
    " 'apache (TheApacheSoftwareFoundation)',\n",
    " 'DevonCrawford (DevonCrawford)',\n",
    " 'ARMmbed (ArmMbed)',\n",
    " 'vuejs (vuejs)',\n",
    " 'fastai (fast.ai)',\n",
    " 'QiShaoXuan (Qi)',\n",
    " 'joelparkerhenderson (JoelParkerHenderson)',\n",
    " 'torvalds (LinusTorvalds)',\n",
    " 'CyC2018',\n",
    " 'komeiji-satori (神楽坂覚々)',\n",
    " 'script-8']\n",
    " ```"
   ]
  },
  {
   "cell_type": "code",
   "execution_count": 4,
   "metadata": {},
   "outputs": [
    {
     "data": {
      "text/plain": [
       "['Jerry Liu (jerryjliu)',\n",
       " 'Matthias Fey (rusty1s)',\n",
       " 'Sertaç Özercan (sozercan)',\n",
       " 'Harrison Chase (hwchase17)',\n",
       " 'Agniva De Sarker (agnivade)',\n",
       " 'Yair Morgenstern (yairm210)',\n",
       " 'Alessandro Ros (aler9)',\n",
       " 'Ed Page (epage)',\n",
       " 'Steven Tey (steven-tey)',\n",
       " 'Sayak Paul (sayakpaul)',\n",
       " 'dgtlmoon',\n",
       " 'atomiks',\n",
       " 'Aaron Pham (aarnphm)',\n",
       " 'bmaltais',\n",
       " 'Ha Thach (hathach)',\n",
       " 'Pedro Cuenca (pcuenca)',\n",
       " 'Matthew Tancik (tancik)',\n",
       " 'Ee Durbin (ewdurbin)',\n",
       " 'hiroki osame (privatenumber)',\n",
       " 'Younes Belkada (younesbelkada)',\n",
       " 'Evan Wallace (evanw)',\n",
       " 'Jesse Glick (jglick)',\n",
       " 'Chansung Park (deep-diver)',\n",
       " 'Steve Sanderson (SteveSandersonMS)',\n",
       " 'Arvin Xu (arvinxx)']"
      ]
     },
     "execution_count": 4,
     "metadata": {},
     "output_type": "execute_result"
    }
   ],
   "source": [
    "name_ = []\n",
    "counter = 0\n",
    "counter_2 = 0\n",
    "for i in soup.find_all('div', attrs={'class':'col-md-6'}):\n",
    "    if counter % 2 == 0:\n",
    "        name_.append(i.find('a').getText().strip())\n",
    "        if len(i) == 5:\n",
    "            name_[counter_2] += ' (' + i.find_all('a')[1].getText().strip() + ')'\n",
    "        counter_2 += 1\n",
    "    counter += 1\n",
    "name_\n"
   ]
  },
  {
   "cell_type": "markdown",
   "metadata": {},
   "source": [
    "#### Display the trending Python repositories in GitHub\n",
    "\n",
    "The steps to solve this problem is similar to the previous one except that you need to find out the repository names instead of developer names."
   ]
  },
  {
   "cell_type": "code",
   "execution_count": 5,
   "metadata": {},
   "outputs": [],
   "source": [
    "# This is the url you will scrape in this exercise\n",
    "url = 'https://github.com/trending/python?since=daily'"
   ]
  },
  {
   "cell_type": "code",
   "execution_count": 6,
   "metadata": {},
   "outputs": [
    {
     "data": {
      "text/plain": [
       "['/nsarrazin/serge',\n",
       " '/madawei2699/myGPTReader',\n",
       " '/programthink/zhao',\n",
       " '/BlinkDL/RWKV-LM',\n",
       " '/LianjiaTech/BELLE',\n",
       " '/fauxpilot/fauxpilot',\n",
       " '/deep-diver/Alpaca-LoRA-Serve',\n",
       " '/GaiZhenbiao/ChuanhuChatGPT',\n",
       " '/ddobokki/chatgpt_stock_report',\n",
       " '/BlinkDL/ChatRWKV',\n",
       " '/lukasHoel/text2room',\n",
       " '/GerevAI/gerev',\n",
       " '/THUDM/GLM-130B',\n",
       " '/jerryjliu/llama_index',\n",
       " '/Asabeneh/30-Days-Of-Python',\n",
       " '/getredash/redash',\n",
       " '/timothybrooks/instruct-pix2pix',\n",
       " '/hwchase17/langchain',\n",
       " '/salesforce/CodeGen',\n",
       " '/gd3kr/BlenderGPT',\n",
       " '/microsoft/MM-REACT',\n",
       " '/taberoajorge/saime-script',\n",
       " '/sqlfluff/sqlfluff',\n",
       " '/getsentry/sentry',\n",
       " '/salesforce/LAVIS']"
      ]
     },
     "execution_count": 6,
     "metadata": {},
     "output_type": "execute_result"
    }
   ],
   "source": [
    "#your code\n",
    "res = requests.get(url)\n",
    "soap = BeautifulSoup(res.content, 'html.parser')\n",
    "repos = []\n",
    "for i in soap.find_all('h1', {'class':'h3 lh-condensed'}):\n",
    "    repos.append(i.find('a').get('href').strip())\n",
    "repos\n"
   ]
  },
  {
   "cell_type": "markdown",
   "metadata": {},
   "source": [
    "#### Display all the image links from Walt Disney wikipedia page"
   ]
  },
  {
   "cell_type": "code",
   "execution_count": 7,
   "metadata": {},
   "outputs": [],
   "source": [
    "# This is the url you will scrape in this exercise\n",
    "url = 'https://en.wikipedia.org/wiki/Walt_Disney'"
   ]
  },
  {
   "cell_type": "code",
   "execution_count": 8,
   "metadata": {},
   "outputs": [
    {
     "data": {
      "text/html": [
       "<img src=\"//upload.wikimedia.org/wikipedia/commons/thumb/d/df/Walt_Disney_1946.JPG/220px-Walt_Disney_1946.JPG\"/>"
      ],
      "text/plain": [
       "<IPython.core.display.Image object>"
      ]
     },
     "metadata": {},
     "output_type": "display_data"
    },
    {
     "data": {
      "text/html": [
       "<img src=\"//upload.wikimedia.org/wikipedia/commons/thumb/8/87/Walt_Disney_1942_signature.svg/150px-Walt_Disney_1942_signature.svg.png\"/>"
      ],
      "text/plain": [
       "<IPython.core.display.Image object>"
      ]
     },
     "metadata": {},
     "output_type": "display_data"
    },
    {
     "data": {
      "text/html": [
       "<img src=\"//upload.wikimedia.org/wikipedia/commons/thumb/3/3a/Walt_Disney_Birthplace_Exterior_Hermosa_Chicago_Illinois.jpg/220px-Walt_Disney_Birthplace_Exterior_Hermosa_Chicago_Illinois.jpg\"/>"
      ],
      "text/plain": [
       "<IPython.core.display.Image object>"
      ]
     },
     "metadata": {},
     "output_type": "display_data"
    },
    {
     "data": {
      "text/html": [
       "<img src=\"//upload.wikimedia.org/wikipedia/commons/thumb/c/c4/Walt_Disney_envelope_ca._1921.jpg/220px-Walt_Disney_envelope_ca._1921.jpg\"/>"
      ],
      "text/plain": [
       "<IPython.core.display.Image object>"
      ]
     },
     "metadata": {},
     "output_type": "display_data"
    },
    {
     "data": {
      "text/html": [
       "<img src=\"//upload.wikimedia.org/wikipedia/commons/thumb/0/0d/Trolley_Troubles_poster.jpg/170px-Trolley_Troubles_poster.jpg\"/>"
      ],
      "text/plain": [
       "<IPython.core.display.Image object>"
      ]
     },
     "metadata": {},
     "output_type": "display_data"
    },
    {
     "data": {
      "text/html": [
       "<img src=\"//upload.wikimedia.org/wikipedia/en/thumb/4/4e/Steamboat-willie.jpg/170px-Steamboat-willie.jpg\"/>"
      ],
      "text/plain": [
       "<IPython.core.display.Image object>"
      ]
     },
     "metadata": {},
     "output_type": "display_data"
    },
    {
     "data": {
      "text/html": [
       "<img src=\"//upload.wikimedia.org/wikipedia/commons/thumb/5/57/Walt_Disney_1935.jpg/170px-Walt_Disney_1935.jpg\"/>"
      ],
      "text/plain": [
       "<IPython.core.display.Image object>"
      ]
     },
     "metadata": {},
     "output_type": "display_data"
    },
    {
     "data": {
      "text/html": [
       "<img src=\"//upload.wikimedia.org/wikipedia/commons/thumb/c/cd/Walt_Disney_Snow_white_1937_trailer_screenshot_%2813%29.jpg/220px-Walt_Disney_Snow_white_1937_trailer_screenshot_%2813%29.jpg\"/>"
      ],
      "text/plain": [
       "<IPython.core.display.Image object>"
      ]
     },
     "metadata": {},
     "output_type": "display_data"
    },
    {
     "data": {
      "text/html": [
       "<img src=\"//upload.wikimedia.org/wikipedia/commons/thumb/1/15/Disney_drawing_goofy.jpg/170px-Disney_drawing_goofy.jpg\"/>"
      ],
      "text/plain": [
       "<IPython.core.display.Image object>"
      ]
     },
     "metadata": {},
     "output_type": "display_data"
    },
    {
     "data": {
      "text/html": [
       "<img src=\"//upload.wikimedia.org/wikipedia/commons/thumb/8/8c/WaltDisneyplansDisneylandDec1954.jpg/220px-WaltDisneyplansDisneylandDec1954.jpg\"/>"
      ],
      "text/plain": [
       "<IPython.core.display.Image object>"
      ]
     },
     "metadata": {},
     "output_type": "display_data"
    },
    {
     "data": {
      "text/html": [
       "<img src=\"//upload.wikimedia.org/wikipedia/commons/thumb/f/ff/Walt_disney_portrait_right.jpg/170px-Walt_disney_portrait_right.jpg\"/>"
      ],
      "text/plain": [
       "<IPython.core.display.Image object>"
      ]
     },
     "metadata": {},
     "output_type": "display_data"
    },
    {
     "data": {
      "text/html": [
       "<img src=\"//upload.wikimedia.org/wikipedia/commons/thumb/1/1a/Walt_Disney_Grave.JPG/170px-Walt_Disney_Grave.JPG\"/>"
      ],
      "text/plain": [
       "<IPython.core.display.Image object>"
      ]
     },
     "metadata": {},
     "output_type": "display_data"
    },
    {
     "data": {
      "text/html": [
       "<img src=\"//upload.wikimedia.org/wikipedia/commons/thumb/2/2d/Roy_O._Disney_with_Company_at_Press_Conference.jpg/170px-Roy_O._Disney_with_Company_at_Press_Conference.jpg\"/>"
      ],
      "text/plain": [
       "<IPython.core.display.Image object>"
      ]
     },
     "metadata": {},
     "output_type": "display_data"
    },
    {
     "data": {
      "text/html": [
       "<img src=\"//upload.wikimedia.org/wikipedia/commons/thumb/1/13/DisneySchiphol1951.jpg/220px-DisneySchiphol1951.jpg\"/>"
      ],
      "text/plain": [
       "<IPython.core.display.Image object>"
      ]
     },
     "metadata": {},
     "output_type": "display_data"
    },
    {
     "data": {
      "text/html": [
       "<img src=\"//upload.wikimedia.org/wikipedia/commons/thumb/6/6c/Disney1968.jpg/170px-Disney1968.jpg\"/>"
      ],
      "text/plain": [
       "<IPython.core.display.Image object>"
      ]
     },
     "metadata": {},
     "output_type": "display_data"
    },
    {
     "data": {
      "text/html": [
       "<img src=\"//upload.wikimedia.org/wikipedia/commons/thumb/b/b0/Disney_Oscar_1953_%28cropped%29.jpg/170px-Disney_Oscar_1953_%28cropped%29.jpg\"/>"
      ],
      "text/plain": [
       "<IPython.core.display.Image object>"
      ]
     },
     "metadata": {},
     "output_type": "display_data"
    },
    {
     "data": {
      "text/html": [
       "<img src=\"//upload.wikimedia.org/wikipedia/commons/thumb/e/e3/Disneyland_Resort_logo.svg/135px-Disneyland_Resort_logo.svg.png\"/>"
      ],
      "text/plain": [
       "<IPython.core.display.Image object>"
      ]
     },
     "metadata": {},
     "output_type": "display_data"
    },
    {
     "data": {
      "text/html": [
       "<img src=\"//upload.wikimedia.org/wikipedia/commons/thumb/d/da/Animation_disc.svg/20px-Animation_disc.svg.png\"/>"
      ],
      "text/plain": [
       "<IPython.core.display.Image object>"
      ]
     },
     "metadata": {},
     "output_type": "display_data"
    },
    {
     "data": {
      "text/html": [
       "<img src=\"//upload.wikimedia.org/wikipedia/commons/thumb/1/1a/Magic_Kingdom_castle.jpg/15px-Magic_Kingdom_castle.jpg\"/>"
      ],
      "text/plain": [
       "<IPython.core.display.Image object>"
      ]
     },
     "metadata": {},
     "output_type": "display_data"
    },
    {
     "data": {
      "text/html": [
       "<img src=\"//upload.wikimedia.org/wikipedia/commons/thumb/8/8c/Blank_television_set.svg/21px-Blank_television_set.svg.png\"/>"
      ],
      "text/plain": [
       "<IPython.core.display.Image object>"
      ]
     },
     "metadata": {},
     "output_type": "display_data"
    }
   ],
   "source": [
    "#your code\n",
    "from IPython.display import Image, display\n",
    "res = requests.get('https://en.wikipedia.org/wiki/Walt_Disney')\n",
    "soap = BeautifulSoup(res.content, 'html.parser')\n",
    "images_ = []\n",
    "j = 0\n",
    "for i in soap.find_all('a', {'class':'image'}):\n",
    "    images_.append(i.find('img').get('src'))\n",
    "    display(Image(url=images_[j]))\n",
    "    j += 1\n"
   ]
  },
  {
   "cell_type": "markdown",
   "metadata": {},
   "source": [
    "#### Retrieve an arbitary Wikipedia page of \"Python\" and create a list of links on that page"
   ]
  },
  {
   "cell_type": "code",
   "execution_count": 9,
   "metadata": {},
   "outputs": [],
   "source": [
    "# This is the url you will scrape in this exercise\n",
    "url ='https://en.wikipedia.org/wiki/Python' "
   ]
  },
  {
   "cell_type": "code",
   "execution_count": 10,
   "metadata": {},
   "outputs": [],
   "source": [
    "#your code\n",
    "res = requests.get(url, 'html.parser')"
   ]
  },
  {
   "cell_type": "code",
   "execution_count": 11,
   "metadata": {},
   "outputs": [
    {
     "data": {
      "text/plain": [
       "['https://en.wikipedia.org//wiki/Pythonidae',\n",
       " 'https://en.wikipedia.org//wiki/Python_(genus)',\n",
       " 'https://en.wikipedia.org//wiki/Python_(mythology)',\n",
       " 'https://en.wikipedia.org//wiki/Python_(genus)',\n",
       " 'https://en.wikipedia.org//wiki/Python_(programming_language)',\n",
       " 'https://en.wikipedia.org//wiki/CMU_Common_Lisp',\n",
       " 'https://en.wikipedia.org//wiki/PERQ#PERQ_3',\n",
       " 'https://en.wikipedia.org//wiki/Python_of_Aenus',\n",
       " 'https://en.wikipedia.org//wiki/Python_(painter)',\n",
       " 'https://en.wikipedia.org//wiki/Python_of_Byzantium',\n",
       " 'https://en.wikipedia.org//wiki/Python_of_Catana',\n",
       " 'https://en.wikipedia.org//wiki/Python_Anghelo',\n",
       " 'https://en.wikipedia.org//wiki/Python_(Efteling)',\n",
       " 'https://en.wikipedia.org//wiki/Python_(Busch_Gardens_Tampa_Bay)',\n",
       " 'https://en.wikipedia.org//wiki/Python_(Coney_Island,_Cincinnati,_Ohio)',\n",
       " 'https://en.wikipedia.org//wiki/Python_(automobile_maker)',\n",
       " 'https://en.wikipedia.org//wiki/Python_(Ford_prototype)',\n",
       " 'https://en.wikipedia.org//wiki/Python_(missile)',\n",
       " 'https://en.wikipedia.org//wiki/Python_(nuclear_primary)',\n",
       " 'https://en.wikipedia.org//wiki/Colt_Python',\n",
       " 'https://en.wikipedia.org//wiki/Python_(codename)',\n",
       " 'https://en.wikipedia.org//wiki/Python_(film)',\n",
       " 'https://en.wikipedia.org//wiki/Monty_Python',\n",
       " 'https://en.wikipedia.org//wiki/Python_(Monty)_Pictures',\n",
       " 'https://en.wikipedia.org//wiki/Timon_of_Phlius',\n",
       " 'https://en.wikipedia.org//wiki/Python_(Monty)_Pictures',\n",
       " 'https://en.wikipedia.org//wiki/Pyton',\n",
       " 'https://en.wikipedia.org//wiki/Pithon']"
      ]
     },
     "execution_count": 11,
     "metadata": {},
     "output_type": "execute_result"
    }
   ],
   "source": [
    "soap = BeautifulSoup(res.content)\n",
    "\n",
    "links = []\n",
    "counter = 0\n",
    "for i in soap.find('div', {'class': 'mw-parser-output'}).find_all('ul'):\n",
    "    for j in i.find_all('a'):\n",
    "        links.append(j.get('href'))\n",
    "        links[counter] = 'https://en.wikipedia.org/' + j.get('href')\n",
    "        counter += 1\n",
    "links"
   ]
  },
  {
   "cell_type": "markdown",
   "metadata": {},
   "source": [
    "#### Number of Titles that have changed in the United States Code since its last release point "
   ]
  },
  {
   "cell_type": "code",
   "execution_count": 12,
   "metadata": {},
   "outputs": [],
   "source": [
    "# This is the url you will scrape in this exercise\n",
    "url = 'http://uscode.house.gov/download/download.shtml'"
   ]
  },
  {
   "cell_type": "code",
   "execution_count": 13,
   "metadata": {},
   "outputs": [
    {
     "data": {
      "text/plain": [
       "['Title 50 - War and National Defense']"
      ]
     },
     "execution_count": 13,
     "metadata": {},
     "output_type": "execute_result"
    }
   ],
   "source": [
    "#your code\n",
    "res = requests.get(url)\n",
    "soap = BeautifulSoup(res.content, 'html.parser')\n",
    "changes = []\n",
    "changes = [i.getText().strip() for i in soap.find_all('div', {'class':'usctitlechanged'})]\n",
    "changes"
   ]
  },
  {
   "cell_type": "markdown",
   "metadata": {},
   "source": [
    "####  20 latest earthquakes info (date, time, latitude, longitude and region name) by the EMSC as a pandas dataframe"
   ]
  },
  {
   "cell_type": "code",
   "execution_count": 14,
   "metadata": {},
   "outputs": [],
   "source": [
    "# This is the url you will scrape in this exercise\n",
    "url = 'https://www.emsc-csem.org/Earthquake/'"
   ]
  },
  {
   "cell_type": "code",
   "execution_count": 15,
   "metadata": {},
   "outputs": [],
   "source": [
    "#your code\n",
    "res = requests.get(url)\n",
    "soap = BeautifulSoup(res.content, 'html.parser')\n",
    "day = []\n",
    "time = []\n",
    "latitude = []\n",
    "longitud = []\n",
    "region = []\n",
    "day = [i.find('a').getText()[:10] for i in soap.find_all('td', {'class': 'tabev6'})][:20]\n",
    "time = [i.find('a').getText()[13:] for i in soap.find_all('td', {'class': 'tabev6'})][:20]\n",
    "latitude = [i.find('td', {'class':'tabev1'}).getText().strip() for i in soap.select('tr.ligne1.normal, tr.ligne2.normal')[:20]]\n",
    "longitud = [i.find_all('td', {'class':'tabev1'})[1].getText().strip() for i in soap.select('tr.ligne1.normal, tr.ligne2.normal')[:20]]\n",
    "region = [i.find('td', {'class':'tb_region'}).getText().strip() for i in soap.select('tr.ligne1.normal, tr.ligne2.normal')[:20]]"
   ]
  },
  {
   "cell_type": "code",
   "execution_count": 16,
   "metadata": {},
   "outputs": [
    {
     "data": {
      "text/html": [
       "<div>\n",
       "<style scoped>\n",
       "    .dataframe tbody tr th:only-of-type {\n",
       "        vertical-align: middle;\n",
       "    }\n",
       "\n",
       "    .dataframe tbody tr th {\n",
       "        vertical-align: top;\n",
       "    }\n",
       "\n",
       "    .dataframe thead th {\n",
       "        text-align: right;\n",
       "    }\n",
       "</style>\n",
       "<table border=\"1\" class=\"dataframe\">\n",
       "  <thead>\n",
       "    <tr style=\"text-align: right;\">\n",
       "      <th></th>\n",
       "      <th>day</th>\n",
       "      <th>time</th>\n",
       "      <th>latitude</th>\n",
       "      <th>longitud</th>\n",
       "      <th>region</th>\n",
       "    </tr>\n",
       "  </thead>\n",
       "  <tbody>\n",
       "    <tr>\n",
       "      <th>0</th>\n",
       "      <td>2023-03-24</td>\n",
       "      <td>17:29:06.3</td>\n",
       "      <td>37.15</td>\n",
       "      <td>36.72</td>\n",
       "      <td>CENTRAL TURKEY</td>\n",
       "    </tr>\n",
       "    <tr>\n",
       "      <th>1</th>\n",
       "      <td>2023-03-24</td>\n",
       "      <td>17:26:50.2</td>\n",
       "      <td>39.14</td>\n",
       "      <td>40.17</td>\n",
       "      <td>EASTERN TURKEY</td>\n",
       "    </tr>\n",
       "    <tr>\n",
       "      <th>2</th>\n",
       "      <td>2023-03-24</td>\n",
       "      <td>17:21:54.0</td>\n",
       "      <td>19.19</td>\n",
       "      <td>155.46</td>\n",
       "      <td>ISLAND OF HAWAII, HAWAII</td>\n",
       "    </tr>\n",
       "    <tr>\n",
       "      <th>3</th>\n",
       "      <td>2023-03-24</td>\n",
       "      <td>17:20:35.2</td>\n",
       "      <td>37.83</td>\n",
       "      <td>36.42</td>\n",
       "      <td>CENTRAL TURKEY</td>\n",
       "    </tr>\n",
       "    <tr>\n",
       "      <th>4</th>\n",
       "      <td>2023-03-24</td>\n",
       "      <td>16:52:55.6</td>\n",
       "      <td>38.00</td>\n",
       "      <td>36.45</td>\n",
       "      <td>CENTRAL TURKEY</td>\n",
       "    </tr>\n",
       "    <tr>\n",
       "      <th>5</th>\n",
       "      <td>2023-03-24</td>\n",
       "      <td>16:42:40.2</td>\n",
       "      <td>37.84</td>\n",
       "      <td>36.20</td>\n",
       "      <td>CENTRAL TURKEY</td>\n",
       "    </tr>\n",
       "    <tr>\n",
       "      <th>6</th>\n",
       "      <td>2023-03-24</td>\n",
       "      <td>16:38:01.0</td>\n",
       "      <td>29.95</td>\n",
       "      <td>71.13</td>\n",
       "      <td>COQUIMBO, CHILE</td>\n",
       "    </tr>\n",
       "    <tr>\n",
       "      <th>7</th>\n",
       "      <td>2023-03-24</td>\n",
       "      <td>16:24:24.6</td>\n",
       "      <td>40.44</td>\n",
       "      <td>20.72</td>\n",
       "      <td>ALBANIA</td>\n",
       "    </tr>\n",
       "    <tr>\n",
       "      <th>8</th>\n",
       "      <td>2023-03-24</td>\n",
       "      <td>16:19:28.7</td>\n",
       "      <td>31.67</td>\n",
       "      <td>104.38</td>\n",
       "      <td>WESTERN TEXAS</td>\n",
       "    </tr>\n",
       "    <tr>\n",
       "      <th>9</th>\n",
       "      <td>2023-03-24</td>\n",
       "      <td>16:15:00.1</td>\n",
       "      <td>40.45</td>\n",
       "      <td>20.80</td>\n",
       "      <td>ALBANIA</td>\n",
       "    </tr>\n",
       "    <tr>\n",
       "      <th>10</th>\n",
       "      <td>2023-03-24</td>\n",
       "      <td>16:14:19.0</td>\n",
       "      <td>11.57</td>\n",
       "      <td>87.22</td>\n",
       "      <td>NEAR COAST OF NICARAGUA</td>\n",
       "    </tr>\n",
       "    <tr>\n",
       "      <th>11</th>\n",
       "      <td>2023-03-24</td>\n",
       "      <td>15:46:38.0</td>\n",
       "      <td>37.15</td>\n",
       "      <td>36.71</td>\n",
       "      <td>CENTRAL TURKEY</td>\n",
       "    </tr>\n",
       "    <tr>\n",
       "      <th>12</th>\n",
       "      <td>2023-03-24</td>\n",
       "      <td>15:44:02.7</td>\n",
       "      <td>37.82</td>\n",
       "      <td>36.56</td>\n",
       "      <td>CENTRAL TURKEY</td>\n",
       "    </tr>\n",
       "    <tr>\n",
       "      <th>13</th>\n",
       "      <td>2023-03-24</td>\n",
       "      <td>15:43:37.8</td>\n",
       "      <td>62.27</td>\n",
       "      <td>151.01</td>\n",
       "      <td>CENTRAL ALASKA</td>\n",
       "    </tr>\n",
       "    <tr>\n",
       "      <th>14</th>\n",
       "      <td>2023-03-24</td>\n",
       "      <td>15:39:04.9</td>\n",
       "      <td>36.73</td>\n",
       "      <td>96.71</td>\n",
       "      <td>OKLAHOMA</td>\n",
       "    </tr>\n",
       "    <tr>\n",
       "      <th>15</th>\n",
       "      <td>2023-03-24</td>\n",
       "      <td>15:24:56.3</td>\n",
       "      <td>36.17</td>\n",
       "      <td>36.55</td>\n",
       "      <td>TURKEY-SYRIA BORDER REGION</td>\n",
       "    </tr>\n",
       "    <tr>\n",
       "      <th>16</th>\n",
       "      <td>2023-03-24</td>\n",
       "      <td>15:14:11.0</td>\n",
       "      <td>22.36</td>\n",
       "      <td>68.71</td>\n",
       "      <td>ANTOFAGASTA, CHILE</td>\n",
       "    </tr>\n",
       "    <tr>\n",
       "      <th>17</th>\n",
       "      <td>2023-03-24</td>\n",
       "      <td>15:13:22.0</td>\n",
       "      <td>14.45</td>\n",
       "      <td>123.10</td>\n",
       "      <td>LUZON, PHILIPPINES</td>\n",
       "    </tr>\n",
       "    <tr>\n",
       "      <th>18</th>\n",
       "      <td>2023-03-24</td>\n",
       "      <td>15:11:05.9</td>\n",
       "      <td>37.99</td>\n",
       "      <td>36.60</td>\n",
       "      <td>CENTRAL TURKEY</td>\n",
       "    </tr>\n",
       "    <tr>\n",
       "      <th>19</th>\n",
       "      <td>2023-03-24</td>\n",
       "      <td>15:09:56.8</td>\n",
       "      <td>37.91</td>\n",
       "      <td>37.68</td>\n",
       "      <td>CENTRAL TURKEY</td>\n",
       "    </tr>\n",
       "  </tbody>\n",
       "</table>\n",
       "</div>"
      ],
      "text/plain": [
       "           day        time latitude longitud                      region\n",
       "0   2023-03-24  17:29:06.3    37.15    36.72              CENTRAL TURKEY\n",
       "1   2023-03-24  17:26:50.2    39.14    40.17              EASTERN TURKEY\n",
       "2   2023-03-24  17:21:54.0    19.19   155.46    ISLAND OF HAWAII, HAWAII\n",
       "3   2023-03-24  17:20:35.2    37.83    36.42              CENTRAL TURKEY\n",
       "4   2023-03-24  16:52:55.6    38.00    36.45              CENTRAL TURKEY\n",
       "5   2023-03-24  16:42:40.2    37.84    36.20              CENTRAL TURKEY\n",
       "6   2023-03-24  16:38:01.0    29.95    71.13             COQUIMBO, CHILE\n",
       "7   2023-03-24  16:24:24.6    40.44    20.72                     ALBANIA\n",
       "8   2023-03-24  16:19:28.7    31.67   104.38               WESTERN TEXAS\n",
       "9   2023-03-24  16:15:00.1    40.45    20.80                     ALBANIA\n",
       "10  2023-03-24  16:14:19.0    11.57    87.22     NEAR COAST OF NICARAGUA\n",
       "11  2023-03-24  15:46:38.0    37.15    36.71              CENTRAL TURKEY\n",
       "12  2023-03-24  15:44:02.7    37.82    36.56              CENTRAL TURKEY\n",
       "13  2023-03-24  15:43:37.8    62.27   151.01              CENTRAL ALASKA\n",
       "14  2023-03-24  15:39:04.9    36.73    96.71                    OKLAHOMA\n",
       "15  2023-03-24  15:24:56.3    36.17    36.55  TURKEY-SYRIA BORDER REGION\n",
       "16  2023-03-24  15:14:11.0    22.36    68.71          ANTOFAGASTA, CHILE\n",
       "17  2023-03-24  15:13:22.0    14.45   123.10          LUZON, PHILIPPINES\n",
       "18  2023-03-24  15:11:05.9    37.99    36.60              CENTRAL TURKEY\n",
       "19  2023-03-24  15:09:56.8    37.91    37.68              CENTRAL TURKEY"
      ]
     },
     "execution_count": 16,
     "metadata": {},
     "output_type": "execute_result"
    }
   ],
   "source": [
    "last_2_earthquakes = {\n",
    "    'day':day,\n",
    "    'time':time,\n",
    "    'latitude':latitude,\n",
    "    'longitud':longitud,\n",
    "    'region':region\n",
    "}\n",
    "\n",
    "df = pd.DataFrame(last_2_earthquakes)\n",
    "df\n"
   ]
  },
  {
   "cell_type": "markdown",
   "metadata": {},
   "source": [
    "#### Display the date, days, title, city, country of next 25 hackathon events as a Pandas dataframe table"
   ]
  },
  {
   "cell_type": "code",
   "execution_count": null,
   "metadata": {},
   "outputs": [],
   "source": [
    "# This is the url you will scrape in this exercise\n",
    "url ='https://hackevents.co/hackathons'\n",
    "url_hack = 'https://hackevents.co/search/anything/anywhere/anytime' #This page doesn't show anything related to events"
   ]
  },
  {
   "cell_type": "code",
   "execution_count": null,
   "metadata": {},
   "outputs": [],
   "source": [
    "#your code\n"
   ]
  },
  {
   "cell_type": "markdown",
   "metadata": {},
   "source": [
    "#### List all language names and number of related articles in the order they appear in wikipedia.org"
   ]
  },
  {
   "cell_type": "code",
   "execution_count": 101,
   "metadata": {},
   "outputs": [],
   "source": [
    "# This is the url you will scrape in this exercise\n",
    "url = 'https://www.wikipedia.org/'"
   ]
  },
  {
   "cell_type": "code",
   "execution_count": 111,
   "metadata": {},
   "outputs": [
    {
     "data": {
      "text/plain": [
       "['6 629 000+',\n",
       " '1 900 000+',\n",
       " '1 846 000+',\n",
       " '1 366 000+',\n",
       " '2 781 000+',\n",
       " '2 504 000+',\n",
       " '1 801 000+',\n",
       " '1 340 000+',\n",
       " '1 102 000+',\n",
       " '1 202 000+']"
      ]
     },
     "execution_count": 111,
     "metadata": {},
     "output_type": "execute_result"
    }
   ],
   "source": [
    "#your code\n",
    "res = requests.get(url)\n",
    "soap = BeautifulSoup(res.content, 'html.parser')\n",
    "languages = []\n",
    "num_articules = []\n",
    "languages = [i.find('strong').getText().strip() for i in soap.find_all('a', {'class':'link-box'})]\n",
    "num_articules = [i.find('small').find('bdi').getText().strip().replace('\\xa0',' ') for i in soap.find_all('a', {'class':'link-box'})]"
   ]
  },
  {
   "cell_type": "code",
   "execution_count": 112,
   "metadata": {},
   "outputs": [
    {
     "data": {
      "text/html": [
       "<div>\n",
       "<style scoped>\n",
       "    .dataframe tbody tr th:only-of-type {\n",
       "        vertical-align: middle;\n",
       "    }\n",
       "\n",
       "    .dataframe tbody tr th {\n",
       "        vertical-align: top;\n",
       "    }\n",
       "\n",
       "    .dataframe thead th {\n",
       "        text-align: right;\n",
       "    }\n",
       "</style>\n",
       "<table border=\"1\" class=\"dataframe\">\n",
       "  <thead>\n",
       "    <tr style=\"text-align: right;\">\n",
       "      <th></th>\n",
       "      <th>languages</th>\n",
       "      <th>num_articules</th>\n",
       "    </tr>\n",
       "  </thead>\n",
       "  <tbody>\n",
       "    <tr>\n",
       "      <th>0</th>\n",
       "      <td>English</td>\n",
       "      <td>6 629 000+</td>\n",
       "    </tr>\n",
       "    <tr>\n",
       "      <th>1</th>\n",
       "      <td>Русский</td>\n",
       "      <td>1 900 000+</td>\n",
       "    </tr>\n",
       "    <tr>\n",
       "      <th>2</th>\n",
       "      <td>Español</td>\n",
       "      <td>1 846 000+</td>\n",
       "    </tr>\n",
       "    <tr>\n",
       "      <th>3</th>\n",
       "      <td>日本語</td>\n",
       "      <td>1 366 000+</td>\n",
       "    </tr>\n",
       "    <tr>\n",
       "      <th>4</th>\n",
       "      <td>Deutsch</td>\n",
       "      <td>2 781 000+</td>\n",
       "    </tr>\n",
       "    <tr>\n",
       "      <th>5</th>\n",
       "      <td>Français</td>\n",
       "      <td>2 504 000+</td>\n",
       "    </tr>\n",
       "    <tr>\n",
       "      <th>6</th>\n",
       "      <td>Italiano</td>\n",
       "      <td>1 801 000+</td>\n",
       "    </tr>\n",
       "    <tr>\n",
       "      <th>7</th>\n",
       "      <td>中文</td>\n",
       "      <td>1 340 000+</td>\n",
       "    </tr>\n",
       "    <tr>\n",
       "      <th>8</th>\n",
       "      <td>Português</td>\n",
       "      <td>1 102 000+</td>\n",
       "    </tr>\n",
       "    <tr>\n",
       "      <th>9</th>\n",
       "      <td>العربية</td>\n",
       "      <td>1 202 000+</td>\n",
       "    </tr>\n",
       "  </tbody>\n",
       "</table>\n",
       "</div>"
      ],
      "text/plain": [
       "   languages num_articules\n",
       "0    English    6 629 000+\n",
       "1    Русский    1 900 000+\n",
       "2    Español    1 846 000+\n",
       "3        日本語    1 366 000+\n",
       "4    Deutsch    2 781 000+\n",
       "5   Français    2 504 000+\n",
       "6   Italiano    1 801 000+\n",
       "7         中文    1 340 000+\n",
       "8  Português    1 102 000+\n",
       "9    العربية    1 202 000+"
      ]
     },
     "execution_count": 112,
     "metadata": {},
     "output_type": "execute_result"
    }
   ],
   "source": [
    "wiki_articules = pd.DataFrame({\n",
    "    'languages':languages,\n",
    "    'num_articules':num_articules\n",
    "})\n",
    "wiki_articules"
   ]
  },
  {
   "cell_type": "markdown",
   "metadata": {},
   "source": [
    "#### A list with the different kind of datasets available in data.gov.uk "
   ]
  },
  {
   "cell_type": "code",
   "execution_count": 113,
   "metadata": {},
   "outputs": [],
   "source": [
    "# This is the url you will scrape in this exercise\n",
    "url = 'https://data.gov.uk/'"
   ]
  },
  {
   "cell_type": "code",
   "execution_count": 117,
   "metadata": {},
   "outputs": [
    {
     "data": {
      "text/plain": [
       "['Business and economy',\n",
       " 'Crime and justice',\n",
       " 'Defence',\n",
       " 'Education',\n",
       " 'Environment',\n",
       " 'Government',\n",
       " 'Government spending',\n",
       " 'Health',\n",
       " 'Mapping',\n",
       " 'Society',\n",
       " 'Towns and cities',\n",
       " 'Transport',\n",
       " 'Digital service performance',\n",
       " 'Government reference data']"
      ]
     },
     "execution_count": 117,
     "metadata": {},
     "output_type": "execute_result"
    }
   ],
   "source": [
    "#your code \n",
    "res = requests.get(url)\n",
    "soap = BeautifulSoup(res.content, 'html.parser')\n",
    "gov_uk_datasets = [i.getText().strip() for i in soap.find('ul', {'class':'govuk-list dgu-topics__list'}).find_all('a', {'class':'govuk-link'})]\n",
    "gov_uk_datasets"
   ]
  },
  {
   "cell_type": "markdown",
   "metadata": {},
   "source": [
    "#### Top 10 languages by number of native speakers stored in a Pandas Dataframe"
   ]
  },
  {
   "cell_type": "code",
   "execution_count": 118,
   "metadata": {},
   "outputs": [],
   "source": [
    "# This is the url you will scrape in this exercise\n",
    "url = 'https://en.wikipedia.org/wiki/List_of_languages_by_number_of_native_speakers'"
   ]
  },
  {
   "cell_type": "code",
   "execution_count": 133,
   "metadata": {},
   "outputs": [
    {
     "data": {
      "text/plain": [
       "['Mandarin Chinese',\n",
       " 'Spanish',\n",
       " 'English',\n",
       " 'Hindi',\n",
       " 'Portuguese',\n",
       " 'Bengali',\n",
       " 'Russian',\n",
       " 'Japanese',\n",
       " 'Yue Chinese',\n",
       " 'Vietnamese']"
      ]
     },
     "execution_count": 133,
     "metadata": {},
     "output_type": "execute_result"
    }
   ],
   "source": [
    "#your code\n",
    "res = requests.get(url)\n",
    "soap = BeautifulSoup(res.content, 'html.parser')\n",
    "languages = []\n",
    "num_native_speakers = []\n",
    "languages = [i.find('a').getText().strip() for i in soap.find('tbody').find_all('tr')[1:11]] #index 0 is the header of the table\n",
    "languages"
   ]
  },
  {
   "cell_type": "markdown",
   "metadata": {},
   "source": [
    "### BONUS QUESTIONS"
   ]
  },
  {
   "cell_type": "markdown",
   "metadata": {},
   "source": [
    "#### IMDB's Top 250 data (movie name, Initial release, director name and stars) as a pandas dataframe"
   ]
  },
  {
   "cell_type": "code",
   "execution_count": 134,
   "metadata": {},
   "outputs": [],
   "source": [
    "# This is the url you will scrape in this exercise \n",
    "url = 'https://www.imdb.com/chart/top'"
   ]
  },
  {
   "cell_type": "code",
   "execution_count": 148,
   "metadata": {},
   "outputs": [
    {
     "data": {
      "text/plain": [
       "['/title/tt0111161/',\n",
       " '/title/tt0068646/',\n",
       " '/title/tt0468569/',\n",
       " '/title/tt0071562/',\n",
       " '/title/tt0050083/',\n",
       " '/title/tt0108052/',\n",
       " '/title/tt0167260/',\n",
       " '/title/tt0110912/',\n",
       " '/title/tt0120737/',\n",
       " '/title/tt0060196/',\n",
       " '/title/tt0109830/',\n",
       " '/title/tt0137523/',\n",
       " '/title/tt0167261/',\n",
       " '/title/tt1375666/',\n",
       " '/title/tt0080684/',\n",
       " '/title/tt0133093/',\n",
       " '/title/tt0099685/',\n",
       " '/title/tt0073486/',\n",
       " '/title/tt0114369/',\n",
       " '/title/tt0047478/',\n",
       " '/title/tt0038650/',\n",
       " '/title/tt0102926/',\n",
       " '/title/tt0120815/',\n",
       " '/title/tt0317248/',\n",
       " '/title/tt0816692/',\n",
       " '/title/tt0118799/',\n",
       " '/title/tt0120689/',\n",
       " '/title/tt0076759/',\n",
       " '/title/tt0103064/',\n",
       " '/title/tt0088763/',\n",
       " '/title/tt0245429/',\n",
       " '/title/tt0253474/',\n",
       " '/title/tt0054215/',\n",
       " '/title/tt6751668/',\n",
       " '/title/tt0110413/',\n",
       " '/title/tt0110357/',\n",
       " '/title/tt0172495/',\n",
       " '/title/tt0120586/',\n",
       " '/title/tt0407887/',\n",
       " '/title/tt0482571/',\n",
       " '/title/tt2582802/',\n",
       " '/title/tt0114814/',\n",
       " '/title/tt0034583/',\n",
       " '/title/tt0095327/',\n",
       " '/title/tt0056058/',\n",
       " '/title/tt1675434/',\n",
       " '/title/tt0027977/',\n",
       " '/title/tt0064116/',\n",
       " '/title/tt0095765/',\n",
       " '/title/tt0047396/',\n",
       " '/title/tt0078748/',\n",
       " '/title/tt0021749/',\n",
       " '/title/tt0078788/',\n",
       " '/title/tt0209144/',\n",
       " '/title/tt1853728/',\n",
       " '/title/tt0082971/',\n",
       " '/title/tt0910970/',\n",
       " '/title/tt0405094/',\n",
       " '/title/tt0043014/',\n",
       " '/title/tt0050825/',\n",
       " '/title/tt0081505/',\n",
       " '/title/tt0032553/',\n",
       " '/title/tt4154756/',\n",
       " '/title/tt0051201/',\n",
       " '/title/tt0090605/',\n",
       " '/title/tt4633694/',\n",
       " '/title/tt0169547/',\n",
       " '/title/tt0057012/',\n",
       " '/title/tt1345836/',\n",
       " '/title/tt0364569/',\n",
       " '/title/tt0361748/',\n",
       " '/title/tt0086879/',\n",
       " '/title/tt2380307/',\n",
       " '/title/tt0114709/',\n",
       " '/title/tt7286456/',\n",
       " '/title/tt0112573/',\n",
       " '/title/tt0082096/',\n",
       " '/title/tt4154796/',\n",
       " '/title/tt0119698/',\n",
       " '/title/tt0087843/',\n",
       " '/title/tt0119217/',\n",
       " '/title/tt5311514/',\n",
       " '/title/tt0045152/',\n",
       " '/title/tt1187043/',\n",
       " '/title/tt0180093/',\n",
       " '/title/tt0057565/',\n",
       " '/title/tt0435761/',\n",
       " '/title/tt8267604/',\n",
       " '/title/tt0086190/',\n",
       " '/title/tt0338013/',\n",
       " '/title/tt0062622/',\n",
       " '/title/tt0091251/',\n",
       " '/title/tt0105236/',\n",
       " '/title/tt2106476/',\n",
       " '/title/tt0033467/',\n",
       " '/title/tt0022100/',\n",
       " '/title/tt0056172/',\n",
       " '/title/tt0053125/',\n",
       " '/title/tt0044741/',\n",
       " '/title/tt0052357/',\n",
       " '/title/tt0053604/',\n",
       " '/title/tt0211915/',\n",
       " '/title/tt0066921/',\n",
       " '/title/tt0036775/',\n",
       " '/title/tt0093058/',\n",
       " '/title/tt0086250/',\n",
       " '/title/tt8503618/',\n",
       " '/title/tt1255953/',\n",
       " '/title/tt0113277/',\n",
       " '/title/tt0056592/',\n",
       " '/title/tt1049413/',\n",
       " '/title/tt0070735/',\n",
       " '/title/tt1832382/',\n",
       " '/title/tt0017136/',\n",
       " '/title/tt0075314/',\n",
       " '/title/tt0119488/',\n",
       " '/title/tt0095016/',\n",
       " '/title/tt0208092/',\n",
       " '/title/tt0097576/',\n",
       " '/title/tt1745960/',\n",
       " '/title/tt0040522/',\n",
       " '/title/tt0986264/',\n",
       " '/title/tt8579674/',\n",
       " '/title/tt0363163/',\n",
       " '/title/tt5074352/',\n",
       " '/title/tt0059578/',\n",
       " '/title/tt0372784/',\n",
       " '/title/tt0012349/',\n",
       " '/title/tt0053291/',\n",
       " '/title/tt10272386/',\n",
       " '/title/tt0042192/',\n",
       " '/title/tt0993846/',\n",
       " '/title/tt6966692/',\n",
       " '/title/tt0055031/',\n",
       " '/title/tt0089881/',\n",
       " '/title/tt0112641/',\n",
       " '/title/tt0120382/',\n",
       " '/title/tt0469494/',\n",
       " '/title/tt0457430/',\n",
       " '/title/tt0105695/',\n",
       " '/title/tt0167404/',\n",
       " '/title/tt1130884/',\n",
       " '/title/tt0268978/',\n",
       " '/title/tt0107290/',\n",
       " '/title/tt0055630/',\n",
       " '/title/tt0040897/',\n",
       " '/title/tt0071853/',\n",
       " '/title/tt0477348/',\n",
       " '/title/tt0057115/',\n",
       " '/title/tt0266697/',\n",
       " '/title/tt0042876/',\n",
       " '/title/tt10872600/',\n",
       " '/title/tt0084787/',\n",
       " '/title/tt0266543/',\n",
       " '/title/tt0080678/',\n",
       " '/title/tt0071315/',\n",
       " '/title/tt0081398/',\n",
       " '/title/tt0434409/',\n",
       " '/title/tt0031381/',\n",
       " '/title/tt0120735/',\n",
       " '/title/tt0046912/',\n",
       " '/title/tt2096673/',\n",
       " '/title/tt1305806/',\n",
       " '/title/tt0347149/',\n",
       " '/title/tt5027774/',\n",
       " '/title/tt0117951/',\n",
       " '/title/tt0050212/',\n",
       " '/title/tt1392214/',\n",
       " '/title/tt1291584/',\n",
       " '/title/tt0116282/',\n",
       " '/title/tt1205489/',\n",
       " '/title/tt0096283/',\n",
       " '/title/tt0264464/',\n",
       " '/title/tt0405159/',\n",
       " '/title/tt0118849/',\n",
       " '/title/tt0083658/',\n",
       " '/title/tt0015864/',\n",
       " '/title/tt4729430/',\n",
       " '/title/tt0112471/',\n",
       " '/title/tt1201607/',\n",
       " '/title/tt2024544/',\n",
       " '/title/tt0047296/',\n",
       " '/title/tt0052618/',\n",
       " '/title/tt2278388/',\n",
       " '/title/tt2267998/',\n",
       " '/title/tt0050986/',\n",
       " '/title/tt0017925/',\n",
       " '/title/tt0072684/',\n",
       " '/title/tt0107207/',\n",
       " '/title/tt0041959/',\n",
       " '/title/tt0077416/',\n",
       " '/title/tt2119532/',\n",
       " '/title/tt0046268/',\n",
       " '/title/tt0353969/',\n",
       " '/title/tt0015324/',\n",
       " '/title/tt3011894/',\n",
       " '/title/tt0031679/',\n",
       " '/title/tt1392190/',\n",
       " '/title/tt0978762/',\n",
       " '/title/tt0050976/',\n",
       " '/title/tt0892769/',\n",
       " '/title/tt0198781/',\n",
       " '/title/tt0073195/',\n",
       " '/title/tt0097165/',\n",
       " '/title/tt3170832/',\n",
       " '/title/tt0118715/',\n",
       " '/title/tt0046438/',\n",
       " '/title/tt0019254/',\n",
       " '/title/tt1950186/',\n",
       " '/title/tt0395169/',\n",
       " '/title/tt0075148/',\n",
       " '/title/tt0091763/',\n",
       " '/title/tt0382932/',\n",
       " '/title/tt1895587/',\n",
       " '/title/tt3315342/',\n",
       " '/title/tt0088247/',\n",
       " '/title/tt0092005/',\n",
       " '/title/tt1979320/',\n",
       " '/title/tt0074958/',\n",
       " '/title/tt0381681/',\n",
       " '/title/tt0758758/',\n",
       " '/title/tt0032138/',\n",
       " '/title/tt0036868/',\n",
       " '/title/tt0107048/',\n",
       " '/title/tt0070047/',\n",
       " '/title/tt0048473/',\n",
       " '/title/tt0317705/',\n",
       " '/title/tt0035446/',\n",
       " '/title/tt0113247/',\n",
       " '/title/tt0325980/',\n",
       " '/title/tt15097216/',\n",
       " '/title/tt0058946/',\n",
       " '/title/tt0032551/',\n",
       " '/title/tt1028532/',\n",
       " '/title/tt0476735/',\n",
       " '/title/tt0245712/',\n",
       " '/title/tt0032976/',\n",
       " '/title/tt0061512/',\n",
       " '/title/tt4016934/',\n",
       " '/title/tt0053198/',\n",
       " '/title/tt0059742/',\n",
       " '/title/tt0025316/',\n",
       " '/title/tt0060827/',\n",
       " '/title/tt0079470/',\n",
       " '/title/tt0129167/',\n",
       " '/title/tt1454029/',\n",
       " '/title/tt0071411/',\n",
       " '/title/tt0103639/',\n",
       " '/title/tt0099348/',\n",
       " '/title/tt0083987/']"
      ]
     },
     "execution_count": 148,
     "metadata": {},
     "output_type": "execute_result"
    }
   ],
   "source": [
    "# your code\n",
    "res = requests.get(url)\n",
    "soap = BeautifulSoup(res.content, 'html.parser')\n",
    "movies = []\n",
    "release = []\n",
    "stars = []\n",
    "url_movie = []\n",
    "director = []\n",
    "movies = [i.find_all('td')[1].find('a').getText().strip() for i in soap.find('tbody').find_all('tr')]\n",
    "release = [i.find_all('td')[1].find('span').getText().strip().replace('(', '').replace(')','') for i in soap.find('tbody').find_all('tr')]\n",
    "stars = [i.find_all('td')[2].find('strong').getText().strip() for i in soap.find('tbody').find_all('tr')]\n",
    "\n",
    "\n",
    "res = requests.get(url)\n",
    "soap = BeautifulSoup(res.content, 'html.parser')\n",
    "url_movie = []\n",
    "url_movie = [i.find_all('td')[1].find('a').get('href') for i in soap.find('tbody').find_all('tr')] #Could be that the href is generated using JavaScript and tat is why I get a shorter version of it?\n",
    "url_movie\n"
   ]
  },
  {
   "cell_type": "code",
   "execution_count": 135,
   "metadata": {},
   "outputs": [
    {
     "data": {
      "text/plain": [
       "1"
      ]
     },
     "execution_count": 135,
     "metadata": {},
     "output_type": "execute_result"
    }
   ],
   "source": [
    "res = requests.get(url)\n",
    "soap = BeautifulSoup(res.content, 'html.parser')\n",
    "len(soap.find_all('tbody'))"
   ]
  },
  {
   "cell_type": "code",
   "execution_count": 17,
   "metadata": {},
   "outputs": [
    {
     "data": {
      "text/plain": [
       "<!DOCTYPE html PUBLIC \"-//W3C//DTD XHTML 1.0 Strict//EN\" \"http://www.w3.org/TR/xhtml1/DTD/xhtml1-strict.dtd\">\n",
       "\n",
       "<html lang=\"en\" xml:lang=\"en\" xmlns=\"http://www.w3.org/1999/xhtml\" xmlns:og=\"http://opengraphprotocol.org/schema/\">\n",
       "<head><meta content=\"srFzNKBTd0FbRhtnzP--Tjxl01NfbscjYwkp4yOWuQY\" name=\"google-site-verification\"/><meta content=\"BCAA3C04C41AE6E6AFAF117B9469C66F\" name=\"msvalidate.01\"/><meta content=\"43b36314ccb77957\" name=\"y_key\"/><!-- 5-Clk8f50tFFdPTU97Bw7ygWE1A -->\n",
       "<meta content=\"en\" http-equiv=\"Content-Language\"/><meta content=\"text/html; charset=utf-8\" http-equiv=\"Content-Type\"/>\n",
       "<meta content=\"all\" name=\"robots\"/>\n",
       "<meta content=\"earthquake,earthquakes,last earthquake,earthquake today,earthquakes today,earth quake,earth quakes,real time seismicity,seismic,seismicity,seismicity map,seismology,sismologie,EMSC,CSEM,seismicity on google earth,sumatra,tsunami,tsunamis,map,maps,richter,mercalli,moment tensors,epicenter,magnitude,seismology,foreshock,aftershock,tremor\" name=\"keywords\"/>\n",
       "<meta content=\"Latest Earthquakes in the world. World earthquake list. Earthquake information. earthquakes today - recent and latest earthquakes, earthquake map and earthquake information. Earthquake information for europe. EMSC (European Mediterranean Seismological Centre) provides real time earthquake information for seismic events with magnitude larger than 5 in the European Mediterranean area and larger than 7 in the rest of the world.\" lang=\"en\" name=\"description\"/>\n",
       "<meta content=\"EMSC - European-Mediterranean Seismological Centre\" name=\"publisher\"/>\n",
       "<link href=\"https://www.emsc-csem.org/favicon.ico\" rel=\"shortcut icon\" type=\"image/x-icon\"/>\n",
       "<link href=\"https://www.emsc-csem.org/favicon.png\" rel=\"icon\" type=\"image/png\"/>\n",
       "<link href=\"https://www.emsc-csem.org/service/rss/rss.php?typ=emsc\" rel=\"alternate\" title=\"EMSC:  RSS Feed\" type=\"application/rss+xml\"/>\n",
       "<link href=\"https://www.emsc-csem.org/service/rss/rss.php?typ=emsc&amp;magmin=4\" rel=\"alternate\" title=\"EMSC:  MAG&gt;=4\" type=\"application/rss+xml\"/>\n",
       "<link href=\"https://www.emsc-csem.org/service/rss/rss.php?typ=emsc&amp;magmin=5\" rel=\"alternate\" title=\"EMSC:  MAG&gt;=5\" type=\"application/rss+xml\"/>\n",
       "<link href=\"https://www.emsc-csem.org/service/rss/rss.php?typ=emsc&amp;magmin=6\" rel=\"alternate\" title=\"EMSC:  MAG&gt;=6\" type=\"application/rss+xml\"/>\n",
       "<title>Earthquakes today | Earthquake today | earthquake | earthquakes</title>\n",
       "<!--[if !(IE)|(gt IE 7)]><!--><link href=\"https://static3.emsc.eu/Css/m_csem.css\" rel=\"stylesheet\" type=\"text/css\"/><?endif]--><!--[if lte IE 7?><link href=\"https://static1.emsc.eu/Css/m_csem_ie.css\" rel=\"stylesheet\" type=\"text/css\"/><?endif]--><!--[if !(IE)|(gt IE 7)?><!--><link rel=\"stylesheet\" type=\"text/css\" href=\"https://static2.emsc.eu/Css/menu.css\" /><![endif]--><!--[if lte IE 7]><link rel=\"stylesheet\" type=\"text/css\" href=\"https://static3.emsc.eu/Css/menu_ie.css\" /><![endif]-->\n",
       "<style type=\"text/css\">#contenu,  #footer, #nav {\n",
       "\twidth: 950px;\n",
       "}</style><script src=\"https://static2.emsc.eu/javascript/widget.js\" type=\"text/javascript\"></script>\n",
       "<script type=\"text/javascript\">\n",
       "\t\t\tvar basehref=window.location.protocol+\"//\"+window.location.hostname; \n",
       "\t\t\t</script>\n",
       "<!--[if lte IE 6]> <script type=\"text/javascript\" src=\"https://static1.emsc.eu/Css/javascript_v3.js\"></script> <![endif]--><script src=\"https://static2.emsc.eu/javascript/jquery_corner.js\" type=\"text/javascript\"></script>\n",
       "<script src=\"https://static3.emsc.eu/javascript/fonc_utils.js\" type=\"text/javascript\"></script>\n",
       "<script src=\"https://static1.emsc.eu/javascript/dyndate.js?z=8\" type=\"text/javascript\"></script>\n",
       "<script>addjs_after(\"https://static2.emsc.eu/javascript/alert_bandeau_v2.js\");</script><script type=\"text/javascript\">addcss_after(\"https://static3.emsc.eu/Css/print.css\",\"print\"); </script>\n",
       "</head><body>\n",
       "<div id=\"contenu\"><!-- Start container -->\n",
       "<div id=\"bandeau\"><style> .ban022{background:url('https://static1.emsc.eu/Css/img/spriteBannApp.jpg') no-repeat;} .ban0{background:#B40015;/*#000;*/width:100%;height:100%;border:0;} .ban1{vertical-align:top;text-align:center;padding-top:4px;width:150px;} \n",
       "\t\t\t.ban2{position:relative; vertical-align:middle;text-align:center; color:#fff; background-position:0px -41px;/*10px -41px;*/} \n",
       "\t\t\t.ban3{width:140px;padding-left:5px;text-align:center;background-position:-640px -41px;}\n",
       "\t\t\t#ejs_server_heure {position:absolute; bottom:0; width:100%;}\n",
       "\t\t\t#bandeau{background:#B40015;}</style><table cellpadding=\"0\" cellspacing=\"0\" class=\"ban0\"><tr><td class=\"ban1\" onclick=\"window.location.href='https://www.emsc-csem.org';\" onmouseover=\"this.style.cursor='pointer';\">\n",
       "<img alt=\"logo - home\" src=\"https://static2.emsc.eu/Css/img/logo.png\" style=\"width:150px;height:81px;\"/></td>\n",
       "<td class=\"ban2 ban022\" onclick=\"window.location.href='https://www.emsc-csem.org';\" onmouseover=\"this.style.cursor='pointer';\">\n",
       "<div style=\"border:0; position:relative; float:right; width:110px; height:80px; margin-top:-5px; margin-right:25px; \">\n",
       "<div id=\"androidstore\" style=\"border:0; position:relative; float:left; width:110px; height:35px;\"></div>\n",
       "<div id=\"iosstore\" style=\"border:0; position:relative; float:left; width:110px; height:35px; margin-top:8px;\"></div>\n",
       "</div>\n",
       "<script type=\"text/javascript\">set_server_date(2023,3,24,17,51,57)</script>\n",
       "<div id=\"ejs_server_heure\">Current time: 2023-03-24 17:51:57 UTC</div>\n",
       "</td>\n",
       "<td align=\"right\" class=\"ban3 ban022\"><div class=\"login_box\" id=\"login_box\"><form action=\"https://www.emsc-csem.org/Member/\" enctype=\"multipart/form-data\" method=\"post\">\n",
       "<table cellpadding=\"0\" cellspacing=\"0\" style=\"width:100%;height:100%;border:0;\"><tr><td colspan=\"2\" style=\"text-align: center; font-size: 11px; font-weight: bold; color: #fff;\">\n",
       "<span class=\"spriteorig sp_lock vbottom\"></span> Member access</td></tr><tr><td colspan=\"2\" style=\"height: 2px;text-align:center;\">\n",
       "<img alt=\"\" src=\"data:image/png;base64,iVBORw0KGgoAAAANSUhEUgAAAAEAAAABCAQAAAC1HAwCAAAABGdBTUEAALGPC/xhBQAAAAtJREFUCNdjYGAAAAADAAEg1ZTHAAAAAElFTkSuQmCC\" style=\"display: block;width:1px;border:0;height:2px;\"/></td></tr>\n",
       "<tr><td style=\"font-size: 11px; font-weight: bold; text-align: left; color: #000;\">Name </td>\n",
       "<td style=\"text-align:left;\"><input maxlength=\"10\" name=\"login\" size=\"8\" style=\"height: 11px; width: 80px; font-size: 11px;\" type=\"text\"/></td></tr>\n",
       "<tr><td colspan=\"2\" style=\"height: 2px;text-align:center;\"><img alt=\"\" src=\"data:image/png;base64,iVBORw0KGgoAAAANSUhEUgAAAAEAAAABCAQAAAC1HAwCAAAABGdBTUEAALGPC/xhBQAAAAtJREFUCNdjYGAAAAADAAEg1ZTHAAAAAElFTkSuQmCC\" style=\"display: block;width:1px; border:0;height:2px;\"/></td></tr>\n",
       "<tr><td style=\"font-size: 11px; font-weight: bold; text-align: left; color: #000;\">Pwd</td>\n",
       "<td style=\"text-align:left;\"><input maxlength=\"32\" name=\"pwd\" size=\"8\" style=\"height: 11px; width: 80px; font-size: 11px;\" type=\"password\"/></td></tr>\n",
       "<tr><td colspan=\"2\" style=\"height: 2px;text-align:center;\"><img alt=\"\" src=\"data:image/png;base64,iVBORw0KGgoAAAANSUhEUgAAAAEAAAABCAQAAAC1HAwCAAAABGdBTUEAALGPC/xhBQAAAAtJREFUCNdjYGAAAAADAAEg1ZTHAAAAAElFTkSuQmCC\" style=\"display: block;width:1px;border:0;height:2px;\"/></td>\n",
       "</tr><tr><td> </td><td style=\"text-align:left;\"><input style=\"height: 20px; font-size: 11px;\" type=\"submit\" value=\"Sign in\"/></td></tr></table></form></div></td></tr></table><script>\n",
       "\t\t\t$jq(function(){\n",
       "\t\t\t\t$jq(\"#androidstore\").bind(\"click\", function(e) { e.preventDefault(); e.stopPropagation(); $jq.post(\"/indexAjaxApp.php\", { linkto:\"android\",from:\"site\"}, function () {});  window.open(\"https://play.google.com/store/apps/details?id=org.emsc_csem.lastquake\",\"_blank\"); });\n",
       "\t\t\t\t$jq(\"#iosstore\").bind(\"click\", function(e) { e.preventDefault(); e.stopPropagation(); $jq.post(\"/indexAjaxApp.php\", { linkto:\"ios\",from:\"site\" }, function () {});  window.open(\"https://itunes.apple.com/us/app/lastquake/id890799748\",\"_blank\"); });\n",
       "\t\t\t\t\n",
       "\t\t\t});\n",
       "\t\t\t</script>\n",
       "</div>\n",
       "<ul id=\"nav\">\n",
       "<!-- earthquake level 0 -->\n",
       "<li><a href=\"https://www.emsc-csem.org/Earthquake/info.php\">Earthquake information</a>\n",
       "<ul>\n",
       "<li><a href=\"https://www.emsc-csem.org/Earthquake/\">List of latest earthquakes</a></li>\n",
       "<li><a href=\"https://www.emsc-csem.org/Earthquake/significant_earthquakes.php\">Significant earthquakes</a></li>\n",
       "<li><a href=\"https://www.emsc-csem.org/Earthquake/?filter=yes\">Search earthquakes</a></li>\n",
       "<li><a href=\"https://www.emsc-csem.org/Earthquake/Map/gmap.php\">Earthquakes interactive map</a></li>\n",
       "<li><a href=\"https://www.emsc-csem.org/Earthquake/near_you.php\">Earthquakes near you</a></li>\n",
       "<li><a href=\"https://www.emsc-csem.org/Earthquake/felt.php\">Felt earthquakes</a></li>\n",
       "<li><a href=\"https://www.emsc-csem.org/Earthquake/News/\">Special reports</a></li>\n",
       "<li><a href=\"https://www.emsc-csem.org/Earthquake/seismicity/real_time.php\">How it works</a></li>\n",
       "</ul></li>\n",
       "<!-- search level 0 -->\n",
       "<li><a href=\"https://www.emsc-csem.org/Earthquake/Contribute/?lang=tr\" onmouseout=\"info_b('notshow','','');\" onmouseover=\"info_b('show','The flag is the visible language that seems to be the most appropriate to respond to our questionnaire.','Language');\"><img id=\"flag\" src=\"https://static2.emsc.eu/Images/flag/flag_tr.png\" style=\"vertical-align:middle;height:12px;width:18px;\"/>  Testimonies, photos</a>\n",
       "<ul>\n",
       "<li><a href=\"https://www.emsc-csem.org/Earthquake/Gallery/\">Photos</a></li>\n",
       "<li><a href=\"https://www.emsc-csem.org/Earthquake/Testimonies/\">Testimonies</a></li>\n",
       "</ul></li>\n",
       "<!-- data level 0 -->\n",
       "<li><a href=\"https://www.emsc-csem.org/service/\">Information services</a>\n",
       "<ul>\n",
       "<li><a href=\"https://www.emsc-csem.org/service/lastquakers/\"><span style=\"display:inline-block;background:url(https://static3.emsc.eu/Css/img/lastquakers_16px.png) no-repeat;width:16px;height:16px;vertical-align:middle;\"></span> LastQuakers community (NEW)</a></li>\n",
       "<li><a href=\"https://www.emsc-csem.org/service/real_time/\"><span class=\"spriteorig sp_phone\" style=\"vertical-align:middle;\"></span> For smartphones</a></li>\n",
       "<li><a href=\"https://www.emsc-csem.org/service/application/\"><span class=\"spriteorig sp_phone\" style=\"vertical-align:middle;\"></span> Android &amp; iOS App</a></li>\n",
       "<li><a href=\"https://www.emsc-csem.org/service/Browser-extension/\"><span style=\"display:inline-block;background:url(https://static3.emsc.eu/Css/img/extension-icon.png) no-repeat;width:16px;height:16px;vertical-align:middle;\"></span> Browser extensions</a></li>\n",
       "<li><a href=\"https://www.seismicportal.eu/webservices.html\"><span class=\"spriteorig sp_feed-icon14\" style=\"vertical-align:middle;\"></span> Webservices</a></li>\n",
       "<li><a href=\"https://www.emsc-csem.org/service/rss/\"><span class=\"spriteorig sp_feed-icon14\" style=\"vertical-align:middle;\"></span> RSS feeds</a></li>\n",
       "<li><a href=\"https://www.emsc-csem.org/Earthquake/Map/earth/\"><span class=\"spriteorig sp_ge2\" style=\"vertical-align:middle;\"></span> Seismicity on Google Earth</a></li>\n",
       "<li><a href=\"https://www.emsc-csem.org/service/register.php\"><span class=\"spriteorig sp_alert1\" style=\"vertical-align:middle;\"></span> Email notification service</a></li>\n",
       "</ul></li>\n",
       "<!-- seismicity level 0 -->\n",
       "<li><a href=\"https://www.emsc-csem.org/Earthquake/for_seismologist.php\">For seismologists</a>\n",
       "<ul>\n",
       "<li><a href=\"https://www.emsc-csem.org/Earthquake/seismologist.php\">Latest data contributions</a></li>\n",
       "<li><a href=\"https://www.emsc-csem.org/Earthquake/index_tensors.php\">Moment tensors</a></li>\n",
       "<li><a href=\"https://www.emsc-csem.org/Bulletin/\">Euro-Med bulletin</a></li>\n",
       "<li><a href=\"https://www.seismicportal.eu/\" target=\"_blank\">Seismic Portal</a></li>\n",
       "<li><a href=\"https://www.emsc-csem.org/News/\">News</a></li>\n",
       "<li><a href=\"https://www.emsc-csem.org/job/\">Jobs</a></li>\n",
       "</ul></li>\n",
       "<!-- project level 0 -->\n",
       "<li><a href=\"https://www.emsc-csem.org/Project/\">Projects</a>\n",
       "<ul>\n",
       "<li><a href=\"https://www.emsc-csem.org/Project/#aristotle\">ARISTOTLE</a></li>\n",
       "<li><a href=\"https://www.emsc-csem.org/Project/#carismand\">CARISMAND</a></li>\n",
       "<li><a href=\"https://www.emsc-csem.org/Project/#improver\">IMPROVER</a></li>\n",
       "<li><a href=\"https://www.emsc-csem.org/Project/#seismic\">Seismic portal</a></li>\n",
       "<li><a href=\"https://www.emsc-csem.org/Project/#citizen\">Citizen seismology</a></li>\n",
       "<li><a href=\"https://www.emsc-csem.org/Project/#qcn\">Quake Catcher Network</a></li>\n",
       "<li><a href=\"https://www.emsc-csem.org/Project/#sigma\">Sigma</a></li>\n",
       "<li><a href=\"https://www.emsc-csem.org/Project/#verce\">Verce</a></li>\n",
       "<li><a href=\"https://www.emsc-csem.org/Project/#marsite\">MARsite</a></li>\n",
       "<li><a href=\"https://www.emsc-csem.org/Project/#nera\">NERA</a></li>\n",
       "<li><a href=\"https://www.emsc-csem.org/Project/#EPOS\">EPOS</a></li>\n",
       "<li><a href=\"https://www.emsc-csem.org/Project/#REAKT\">REAKT</a></li>\n",
       "</ul></li>\n",
       "<!-- publi level 0 -->\n",
       "<li><a href=\"https://www.emsc-csem.org/Documents/\">Publications &amp; docs</a></li>\n",
       "</ul><div class=\"clearer\"></div><div class=\"clearer\"></div>\n",
       "<div id=\"sitemap\"><i>You are here : </i>\n",
       "<a href=\"https://www.emsc-csem.org\">EMSC</a> &gt; Earthquake &gt; Real Time Seismicity\n",
       "\t\t<div>Our sponsors: \n",
       "\t\t<span id=\"sponsor\"><a href=\"http://www.digitalelement.com/\" target=\"_blank\">digitalelement<div id=\"sponimg\"><img src=\"https://static3.emsc.eu/Images/sites/p_netacuity_01.gif\"/></div></a></span>\n",
       "<a href=\"/Donate/\"><span class=\"spriteorig sp_btn_donate_SM\" style=\"vertical-align:middle;margin-top:-2px;\"></span></a>    <a href=\"/about/\">About EMSC</a></div>\n",
       "</div><style type=\"text/css\"> \n",
       "\t\t#sitemap div, x:-moz-any-link {margin-top:-13px;} /* Firefox 2*/\n",
       "\t\t#sitemap div, x:-moz-any-link, x:default {margin-top:0;} /* Firefox >=3*/\n",
       "\t\t#sponsor{margin-right:15px;}\n",
       "\t\tdiv#sponimg{position:absolute; display:none; padding:20px; background:rgba(0,0,0,.8);vertical-align:middle;} #sponsor a:hover>div { display: block; }\n",
       "\t\tdiv#sponimg img{vertical-align:middle;}\n",
       "\t</style>\n",
       "<!--[if lte IE 7]><style type=\"text/css\">#sitemap div{ margin-top:-13px;} </style><![endif]-->\n",
       "<script> var sponsor = {\n",
       "\t\t_sp:{\"netacuity\":{\"logo\":\"https:\\/\\/static3.emsc.eu\\/Images\\/sites\\/p_netacuity_01.gif\",\"link\":\"http:\\/\\/www.digitalelement.com\\/\",\"name\":\"digitalelement\"},\"geosig\":{\"logo\":\"https:\\/\\/static1.emsc.eu\\/Images\\/sites\\/geosig_logo.jpg\",\"text\":\"Strong motion instrumentation with a focus on Earthquake Early Warning<br>\",\"link\":\"http:\\/\\/www.geosig.com\\/\",\"name\":\"GeoSIG\"},\"scor\":{\"logo\":\"https:\\/\\/static2.emsc.eu\\/Images\\/sites\\/scor.png\",\"link\":\"https:\\/\\/www.scor.com\\/en\\/scor-corporate-foundation-science\",\"name\":\"SCOR\"}}, _i:0, _keys:null,\n",
       "\t\t_start:function() {\n",
       "\t\t\tthis._keys = Object.keys(this._sp);\t\n",
       "\t\t},\t\n",
       "\t\t_next: function() {\n",
       "\t\t\tthis._i++;\n",
       "\t\t\tif(this._i >= this._keys.length) this._i=0;\n",
       "\t\t\tvar k=this._keys[this._i]; //console.log(this._keys.length, k, this._i);\n",
       "\t\t\t//console.log( $jq(\"#sponsor a\").contents());\n",
       "\t\t\t$jq(\"#sponsor a\").attr(\"href\",this._sp[k][\"link\"]);\n",
       "\t\t\t$jq(\"#sponsor a\").contents()[0].textContent=this._sp[k][\"name\"]; $jq(\"#sponimg img\").attr(\"src\",this._sp[k][\"logo\"]);\n",
       "\t\t\tvar self=this;\n",
       "\t\t\tsetTimeout(function() {self._next();},1000*40);\n",
       "\t\t}\t\n",
       "\t}\n",
       "\t$jq(function() {\n",
       "\t\t//console.log( \"ready!\" );\n",
       "\t\tsponsor._start();\n",
       "\t\tsponsor._next();\n",
       "\t});\n",
       "\t</script>\n",
       "<div id=\"info_bulle\"><div class=\"inf_t\" id=\"inf_t\"></div><div class=\"inf_te\" id=\"inf_te\"></div></div>\n",
       "<div id=\"info_bulle2\"><div class=\"inf_seul\" id=\"inf_seul\"></div></div>\n",
       "<div id=\"content\"><!-- Start content --><div id=\"bann_defile\"><span class=\"markee\" id=\"markee_bann_defile\" name=\"markee_bann_defile\">temp</span><span id=\"bann_disclam\" style=\"display:none;\"><a href=\"/disclaimer.php\">Disclaimer</a></span></div>\n",
       "<h1><span>Real Time Seismicity</span></h1><!-- ============ TITRE ===================== --><div id=\"quick_access\" style=\"font-size:11px;text-align:center; margin-bottom:5px;\">\n",
       "<a href=\"/Earthquake/?filter=yes\"><span class=\"spriteorig sp_Icon_tools_th\" style=\"margin-right:3px;\"></span>Define your criteria</a> to find specific events  -  Quick search: \n",
       "\t<a href=\"/Earthquake/world/M3/\"> mag≥3 </a> | <a href=\"/Earthquake/world/M4/\"> mag≥4 </a> | <a href=\"/Earthquake/world/M5/\"> mag≥5 </a>\n",
       "</div><style type=\"text/css\"> .npages { height:30px; text-align:center; font-weight:bold; } .npages td { border-bottom: 2px solid #EDF3FE;} a.sublink { /*height:18px;*/ padding:5px 10px; border:1px solid #ccc; margin:0 4px; text-decoration:underline; background-color:#fff;} \n",
       "\t\t\ta.sublinka { color:#000; text-decoration:none; font-weight:normal; background-color:#FFFFCC; /*rgb(255,255,0);*/ background-color:rgba(255,255,0,0.3); } \n",
       "\t\t\t</style>\n",
       "<!--[if IE]>  \n",
       "\t\t\t<style type=\"text/css\">\n",
       "\t\t\t.sublinka { background:transparent; filter:progid:DXImageTransform.Microsoft.gradient(startColorstr=#FFFFFFCC,endColorstr=#FFFFFFCC); zoom:1; opacity:0.9; } .sublink {zoom:1;}\n",
       "\t\t\t</style> \n",
       "\t\t\t<![endif]--> <link href=\"https://static3.emsc.eu/Css/tableau_event.css\" rel=\"stylesheet\" type=\"text/css\"/>\n",
       "<style type=\"text/css\">\n",
       "\t\t\t@media print {\n",
       "\t\t\t\ttbody td {font-size:10px; } .comment { font-size:7px; width:78px;} .tabev3 { padding-right:15px; } .tabev2 { padding-right:2px; } .tabev5 { padding-right:0; padding-left:2px; } .tabev6 { width:140px; }\n",
       "\t\t\t\t.pagelist,.autour,.tb_infos,.npages {display:none;}\t.black td{border-top:1px solid black;} #quick_access{display:none;}\n",
       "\t\t\t}\n",
       "\t\t\t</style><script> addjs_after(\"https://static1.emsc.eu/javascript/tri_tableau.js\"); \n",
       "\t\t\t\t\t\t\taddjs_after(\"https://static2.emsc.eu/javascript/tableau_tri_event.js\"); \n",
       "\t\t\t\t</script><table style=\"width:99%;\"><tr class=\"tb_infos\"><td><span class=\"spriteorig sp_info\"></span> - Sorting by column is performed on the data of the current page.</td><td style=\"text-align:right;\"><a href=\"/glossary.php\">Glossary</a></td></tr></table><script> var scrollable=false; </script><table border=\"0\" cellpadding=\"0\" cellspacing=\"0\" width=\"100%\"><thead>\n",
       "<tr>\n",
       "<td colspan=\"13\" style=\"background: white;height: 1px\"></td>\n",
       "</tr>\n",
       "<tr id=\"haut_tableau\"><th class=\"th2 th3\" colspan=\"3\" style=\"width:90px;display:table-csell;\"><div onmouseout=\"info_b('notshow','','');\" onmouseover=\"info_b('show','Represents the results of information provided by users (Felt earthquake, pictures, testimonies ,...)&lt;br&gt;See an intensity map for more details on the macroseismic intensity scale.','Citizen response');\">Citizen<br/>Response</div><br/><table cellpadding=\"0\" cellspacing=\"0\" style=\"width:100%;margin:0;text-align:center;\"><tr><td><div onclick=\"change_tri('im_report');\" onmouseout=\"change_image(this,'out','im_report');\" onmouseover=\"change_image(this,'over','im_report');\"><span class=\"spriteorig sp_ico_list\" onmouseout=\"info_b2('notshow','');\" onmouseover=\"info_b2('show','Sorted by number of &lt;b&gt;Comments&lt;/b&gt;');\"></span><span class=\"spriteorig sp_s_asc\" id=\"im_report\" style=\"display:none;\"></span></div></td><td><div onclick=\"change_tri('im_pics');\" onmouseout=\"change_image(this,'out','im_pics');\" onmouseover=\"change_image(this,'over','im_pics');\"><span class=\"spriteorig sp_digikam\" onmouseout=\"info_b2('notshow','');\" onmouseover=\"info_b2('show','Sorted by number of &lt;b&gt;Pictures&lt;/b&gt;');\"></span><span class=\"spriteorig sp_s_asc\" id=\"im_pics\" style=\"display:none;\"></span></div></td><td><div onclick=\"change_tri('im_intens');\" onmouseout=\"change_image(this,'out','im_intens');\" onmouseover=\"change_image(this,'over','im_intens');\"><span class=\"spriteorig sp_IntensityMap\" onmouseout=\"info_b2('notshow','');\" onmouseover=\"info_b2('show','Sorted by &lt;b&gt;Macroseismic Intensity&lt;/b&gt;');\"></span><span class=\"spriteorig sp_s_asc\" id=\"im_intens\" style=\"display:none;\"></span></div></td></tr></table></th><th class=\"th2\" onclick=\"change_tri('im_time');\" onmouseout=\"change_image(this,'out','im_time');\" onmouseover=\"change_image(this,'over','im_time');\">Date &amp; Time <span class=\"spriteorig sp_s_desc\" id=\"im_select\"></span><div style=\"font-weight:normal;\">UTC</div></th><th class=\"th2\" colspan=\"2\" onclick=\"change_tri('im_lat');\" onmouseout=\"change_image(this,'out','im_lat');\" onmouseover=\"change_image(this,'over','im_lat');\">Latitude <span class=\"spriteorig sp_s_asc\" id=\"im_lat\" style=\"display:none;\"></span><div style=\"font-weight:normal;\">degrees</div></th><th class=\"th2\" colspan=\"2\" onclick=\"change_tri('im_lon');\" onmouseout=\"change_image(this,'out','im_lon');\" onmouseover=\"change_image(this,'over','im_lon');\">Longitude <span class=\"spriteorig sp_s_asc\" id=\"im_lon\" style=\"display:none;\"></span><div style=\"font-weight:normal;\">degrees</div></th><th class=\"th2\" onclick=\"change_tri('im_depth');\" onmouseout=\"change_image(this,'out','im_depth');\" onmouseover=\"change_image(this,'over','im_depth');\">Depth <span class=\"spriteorig sp_s_asc\" id=\"im_depth\" style=\"display:none;\"></span><div style=\"font-weight: normal\">km</div></th><th class=\"th2\" colspan=\"1\" id=\"thmag\"><div onclick=\"change_tri('im_mag');\" onmouseout=\"change_image(this,'out','im_mag');\" onmouseover=\"change_image(this,'over','im_mag');\" style=\"float:left;\">Mag <span class=\"spriteorig sp_s_asc\" id=\"im_mag\" style=\"display:none;\"></span></div><div id=\"magplus2\" style=\"float:left;\"> <a href=\"javascript:hide_magni();\" id=\"magplus\" style=\"color:white;\">[+]</a></div></th><th class=\"th2\" id=\"ex_th2\"><div onclick=\"change_tri('im_reg');\" onmouseout=\"change_image(this,'out','im_reg');\" onmouseover=\"change_image(this,'over','im_reg');\" style=\"float:left;\">Region name <span class=\"spriteorig sp_s_asc\" id=\"im_reg\" style=\"display:none;\"></span></div><div id=\"upda\" onmouseout=\"info_b2('notshow','');\" onmouseover=\"info_b2('show','Show last update');\"> <a href=\"javascript:hide_upd();\" style=\"color:white;\">[+]</a></div></th><th class=\"th2 updatetimeno\" id=\"upd\"><div id=\"labupd\" onclick=\"change_tri('im_upd');\" onmouseout=\"change_image(this,'out','im_upd');\" onmouseover=\"change_image(this,'over','im_upd');\" style=\"float:left;text-align:right;\">Last update <span class=\"spriteorig sp_s_asc\" id=\"im_upd\" style=\"display:none;\"></span></div><div id=\"hideupda\" onmouseout=\"info_b2('notshow','');\" onmouseover=\"info_b2('show','Hide last update');\" style=\"float:left;\"><a href=\"javascript:hide_upd();\" style=\"color:white;\">[-]</a></div></th></tr>\n",
       "<tr><td colspan=\"13\" style=\"background: white;height: 1px\"></td></tr>\n",
       "<tr class=\"npages\" id=\"my_pagelist_0\"><td colspan=\"13\"><a class=\"sublink sublinka\" href=\"javascript:void()\" rel=\"nofollow\">1</a><a class=\"sublink\" href=\"/Earthquake/?view=2\">2</a><a class=\"sublink\" href=\"/Earthquake/?view=3\">3</a><a class=\"sublink\" href=\"/Earthquake/?view=4\">4</a><a class=\"sublink\" href=\"/Earthquake/?view=5\">5</a><a class=\"sublink\" href=\"/Earthquake/?view=6\">6</a><a class=\"sublink\" href=\"/Earthquake/?view=7\">7</a><a class=\"sublink\" href=\"/Earthquake/?view=8\">8</a><a class=\"sublink\" href=\"/Earthquake/?view=9\">9</a><a class=\"sublink\" href=\"/Earthquake/?view=10\">10</a><a alt=\"Next page\" class=\"sublink\" href=\"/Earthquake/?view=2\">›</a><a alt=\"Next 10 pages\" class=\"sublink\" href=\"/Earthquake/?view=11\">»</a></td></tr></thead><tbody id=\"tbody\"><tr class=\"ligne1 normal\" id=\"1241603\" onclick=\"go_details(event,1241603);\"><td class=\"tabev0\"></td><td class=\"tabev0\"></td><td class=\"tabev0\"></td><td class=\"tabev6\"><b><i style=\"display:none;\">earthquake</i><a href=\"/Earthquake/earthquake.php?id=1241603\">2023-03-24   17:33:44.1</a></b><i class=\"ago\" id=\"ago0\">18min ago</i></td><td class=\"tabev1\">37.97 </td><td class=\"tabev2\">N  </td><td class=\"tabev1\">36.36 </td><td class=\"tabev2\">E  </td><td class=\"tabev3\">15</td><td class=\"tabev5\" id=\"magtyp0\">ML</td><td class=\"tabev2\">2.0</td><td class=\"tb_region\" id=\"reg0\"> CENTRAL TURKEY</td><td class=\"comment updatetimeno\" id=\"upd0\" style=\"text-align:right;\">2023-03-24 17:39</td></tr>\n",
       "<tr class=\"ligne2 normal\" id=\"1241601\" onclick=\"go_details(event,1241601);\"><td class=\"tabev0\"></td><td class=\"tabev0\"></td><td class=\"tabev0\"></td><td class=\"tabev6\"><b><i style=\"display:none;\">earthquake</i><a href=\"/Earthquake/earthquake.php?id=1241601\">2023-03-24   17:29:06.3</a></b><i class=\"ago\" id=\"ago1\">22min ago</i></td><td class=\"tabev1\">37.15 </td><td class=\"tabev2\">N  </td><td class=\"tabev1\">36.72 </td><td class=\"tabev2\">E  </td><td class=\"tabev3\">4</td><td class=\"tabev5\" id=\"magtyp1\">ML</td><td class=\"tabev2\">2.5</td><td class=\"tb_region\" id=\"reg1\"> CENTRAL TURKEY</td><td class=\"comment updatetimeno\" id=\"upd1\" style=\"text-align:right;\">2023-03-24 17:34</td></tr>\n",
       "<tr class=\"ligne1 normal\" id=\"1241600\" onclick=\"go_details(event,1241600);\"><td class=\"tabev0\"></td><td class=\"tabev0\"></td><td class=\"tabev0\"></td><td class=\"tabev6\"><b><i style=\"display:none;\">earthquake</i><a href=\"/Earthquake/earthquake.php?id=1241600\">2023-03-24   17:26:50.2</a></b><i class=\"ago\" id=\"ago2\">25min ago</i></td><td class=\"tabev1\">39.14 </td><td class=\"tabev2\">N  </td><td class=\"tabev1\">40.17 </td><td class=\"tabev2\">E  </td><td class=\"tabev3\">8</td><td class=\"tabev5\" id=\"magtyp2\">ML</td><td class=\"tabev2\">2.1</td><td class=\"tb_region\" id=\"reg2\"> EASTERN TURKEY</td><td class=\"comment updatetimeno\" id=\"upd2\" style=\"text-align:right;\">2023-03-24 17:33</td></tr>\n",
       "<tr class=\"ligne2 normal\" id=\"1241598\" onclick=\"go_details(event,1241598);\"><td class=\"tabev0\"></td><td class=\"tabev0\"></td><td class=\"tabev0\"></td><td class=\"tabev6\"><b><i style=\"display:none;\">earthquake</i><a href=\"/Earthquake/earthquake.php?id=1241598\">2023-03-24   17:21:54.0</a></b><i class=\"ago\" id=\"ago3\">30min ago</i></td><td class=\"tabev1\">19.19 </td><td class=\"tabev2\">N  </td><td class=\"tabev1\">155.46 </td><td class=\"tabev2\">W  </td><td class=\"tabev3\">32</td><td class=\"tabev5\" id=\"magtyp3\">Md</td><td class=\"tabev2\">2.8</td><td class=\"tb_region\" id=\"reg3\"> ISLAND OF HAWAII, HAWAII</td><td class=\"comment updatetimeno\" id=\"upd3\" style=\"text-align:right;\">2023-03-24 17:25</td></tr>\n",
       "<tr class=\"ligne1 normal\" id=\"1241599\" onclick=\"go_details(event,1241599);\"><td class=\"tabev0\"></td><td class=\"tabev0\"></td><td class=\"tabev0\"></td><td class=\"tabev6\"><b><i style=\"display:none;\">earthquake</i><a href=\"/Earthquake/earthquake.php?id=1241599\">2023-03-24   17:20:35.2</a></b><i class=\"ago\" id=\"ago4\">31min ago</i></td><td class=\"tabev1\">37.83 </td><td class=\"tabev2\">N  </td><td class=\"tabev1\">36.42 </td><td class=\"tabev2\">E  </td><td class=\"tabev3\">5</td><td class=\"tabev5\" id=\"magtyp4\">ML</td><td class=\"tabev2\">2.2</td><td class=\"tb_region\" id=\"reg4\"> CENTRAL TURKEY</td><td class=\"comment updatetimeno\" id=\"upd4\" style=\"text-align:right;\">2023-03-24 17:28</td></tr>\n",
       "<tr class=\"ligne2 normal\" id=\"1241591\" onclick=\"go_details(event,1241591);\"><td class=\"tabev0\"></td><td class=\"tabev0\"></td><td class=\"tabev0\"></td><td class=\"tabev6\"><b><i style=\"display:none;\">earthquake</i><a href=\"/Earthquake/earthquake.php?id=1241591\">2023-03-24   16:52:55.6</a></b><i class=\"ago\" id=\"ago5\">59min ago</i></td><td class=\"tabev1\">38.00 </td><td class=\"tabev2\">N  </td><td class=\"tabev1\">36.45 </td><td class=\"tabev2\">E  </td><td class=\"tabev3\">1</td><td class=\"tabev5\" id=\"magtyp5\">ML</td><td class=\"tabev2\">3.1</td><td class=\"tb_region\" id=\"reg5\"> CENTRAL TURKEY</td><td class=\"comment updatetimeno\" id=\"upd5\" style=\"text-align:right;\">2023-03-24 17:02</td></tr>\n",
       "<tr class=\"ligne1 normal\" id=\"1241602\" onclick=\"go_details(event,1241602);\"><td class=\"tabev0\"></td><td class=\"tabev0\"></td><td class=\"tabev0\"></td><td class=\"tabev6\"><b><i style=\"display:none;\">earthquake</i><a href=\"/Earthquake/earthquake.php?id=1241602\">2023-03-24   16:50:36.1</a></b><i class=\"ago\" id=\"ago6\">1hr 01min ago</i></td><td class=\"tabev1\">32.13 </td><td class=\"tabev2\">N  </td><td class=\"tabev1\">102.65 </td><td class=\"tabev2\">W  </td><td class=\"tabev3\">10</td><td class=\"tabev5\" id=\"magtyp6\">ML</td><td class=\"tabev2\">2.0</td><td class=\"tb_region\" id=\"reg6\"> WESTERN TEXAS</td><td class=\"comment updatetimeno\" id=\"upd6\" style=\"text-align:right;\">2023-03-24 17:38</td></tr>\n",
       "<tr class=\"ligne2 normal\" id=\"1241590\" onclick=\"go_details(event,1241590);\"><td class=\"tabev0\"></td><td class=\"tabev0\"></td><td class=\"tabev0\"></td><td class=\"tabev6\"><b><i style=\"display:none;\">earthquake</i><a href=\"/Earthquake/earthquake.php?id=1241590\">2023-03-24   16:42:40.2</a></b><i class=\"ago\" id=\"ago7\">1hr 09min ago</i></td><td class=\"tabev1\">37.84 </td><td class=\"tabev2\">N  </td><td class=\"tabev1\">36.20 </td><td class=\"tabev2\">E  </td><td class=\"tabev3\">5</td><td class=\"tabev5\" id=\"magtyp7\">M </td><td class=\"tabev2\">2.5</td><td class=\"tb_region\" id=\"reg7\"> CENTRAL TURKEY</td><td class=\"comment updatetimeno\" id=\"upd7\" style=\"text-align:right;\">2023-03-24 16:56</td></tr>\n",
       "<tr class=\"ligne1 normal\" id=\"1241593\" onclick=\"go_details(event,1241593);\"><td class=\"tabev0\"></td><td class=\"tabev0\"></td><td class=\"tabev0\"></td><td class=\"tabev6\"><b><i style=\"display:none;\">earthquake</i><a href=\"/Earthquake/earthquake.php?id=1241593\">2023-03-24   16:38:01.0</a></b><i class=\"ago\" id=\"ago8\">1hr 13min ago</i></td><td class=\"tabev1\">29.95 </td><td class=\"tabev2\">S  </td><td class=\"tabev1\">71.13 </td><td class=\"tabev2\">W  </td><td class=\"tabev3\">96</td><td class=\"tabev5\" id=\"magtyp8\"> M</td><td class=\"tabev2\">3.3</td><td class=\"tb_region\" id=\"reg8\"> COQUIMBO, CHILE</td><td class=\"comment updatetimeno\" id=\"upd8\" style=\"text-align:right;\">2023-03-24 17:04</td></tr>\n",
       "<tr class=\"ligne2 normal\" id=\"1241587\" onclick=\"go_details(event,1241587);\"><td class=\"tabev0\"></td><td class=\"tabev0\"></td><td class=\"tabev0\"><span class=\"intensity\" onclick=\"go_details(event,null,'https://www.emsc-csem.org/Earthquake/popup_intensmap.php?id=1241587&amp;f=/FELTREPORTS/124/1241587/IntensityMap.png');\" onmouseout=\"info_b2('notshow','');\" onmouseover=\"info_b2('show','See the &lt;b&gt; Intensity map&lt;/b&gt;');\" style=\"background-color:#FFFFFF;\">F</span></td><td class=\"tabev6\"><b><i style=\"display:none;\">earthquake</i><a href=\"/Earthquake/earthquake.php?id=1241587\">2023-03-24   16:24:24.6</a></b><i class=\"ago\" id=\"ago9\">1hr 27min ago</i></td><td class=\"tabev1\">40.44 </td><td class=\"tabev2\">N  </td><td class=\"tabev1\">20.72 </td><td class=\"tabev2\">E  </td><td class=\"tabev3\">6</td><td class=\"tabev5\" id=\"magtyp9\">ML</td><td class=\"tabev2\">2.1</td><td class=\"tb_region\" id=\"reg9\"> ALBANIA</td><td class=\"comment updatetimeno\" id=\"upd9\" style=\"text-align:right;\">2023-03-24 16:42</td></tr>\n",
       "<tr class=\"ligne1 normal\" id=\"1241589\" onclick=\"go_details(event,1241589);\"><td class=\"tabev0\"></td><td class=\"tabev0\"></td><td class=\"tabev0\"></td><td class=\"tabev6\"><b><i style=\"display:none;\">earthquake</i><a href=\"/Earthquake/earthquake.php?id=1241589\">2023-03-24   16:19:28.7</a></b><i class=\"ago\" id=\"ago10\">1hr 32min ago</i></td><td class=\"tabev1\">31.67 </td><td class=\"tabev2\">N  </td><td class=\"tabev1\">104.38 </td><td class=\"tabev2\">W  </td><td class=\"tabev3\">7</td><td class=\"tabev5\" id=\"magtyp10\">ML</td><td class=\"tabev2\">2.3</td><td class=\"tb_region\" id=\"reg10\"> WESTERN TEXAS</td><td class=\"comment updatetimeno\" id=\"upd10\" style=\"text-align:right;\">2023-03-24 16:46</td></tr>\n",
       "<tr class=\"ligne2 normal\" id=\"1241586\" onclick=\"go_details(event,1241586);\"><td class=\"tabev0\"></td><td class=\"tabev0\"></td><td class=\"tabev0\"></td><td class=\"tabev6\"><b><i style=\"display:none;\">earthquake</i><a href=\"/Earthquake/earthquake.php?id=1241586\">2023-03-24   16:15:00.1</a></b><i class=\"ago\" id=\"ago11\">1hr 36min ago</i></td><td class=\"tabev1\">40.45 </td><td class=\"tabev2\">N  </td><td class=\"tabev1\">20.80 </td><td class=\"tabev2\">E  </td><td class=\"tabev3\">15</td><td class=\"tabev5\" id=\"magtyp11\">ML</td><td class=\"tabev2\">2.0</td><td class=\"tb_region\" id=\"reg11\"> ALBANIA</td><td class=\"comment updatetimeno\" id=\"upd11\" style=\"text-align:right;\">2023-03-24 16:26</td></tr>\n",
       "<tr class=\"ligne1 normal\" id=\"1241585\" onclick=\"go_details(event,1241585);\"><td class=\"tabev0\"></td><td class=\"tabev0\"></td><td class=\"tabev0\"></td><td class=\"tabev6\"><b><i style=\"display:none;\">earthquake</i><a href=\"/Earthquake/earthquake.php?id=1241585\">2023-03-24   16:14:19.0</a></b><i class=\"ago\" id=\"ago12\">1hr 37min ago</i></td><td class=\"tabev1\">11.57 </td><td class=\"tabev2\">N  </td><td class=\"tabev1\">87.22 </td><td class=\"tabev2\">W  </td><td class=\"tabev3\">5</td><td class=\"tabev5\" id=\"magtyp12\"> M</td><td class=\"tabev2\">3.8</td><td class=\"tb_region\" id=\"reg12\"> NEAR COAST OF NICARAGUA</td><td class=\"comment updatetimeno\" id=\"upd12\" style=\"text-align:right;\">2023-03-24 16:20</td></tr>\n",
       "<tr class=\"ligne2 normal\" id=\"1241581\" onclick=\"go_details(event,1241581);\"><td class=\"tabev0\"></td><td class=\"tabev0\"></td><td class=\"tabev0\"></td><td class=\"tabev6\"><b><i style=\"display:none;\">earthquake</i><a href=\"/Earthquake/earthquake.php?id=1241581\">2023-03-24   15:46:38.0</a></b><i class=\"ago\" id=\"ago13\">2hr 05min ago</i></td><td class=\"tabev1\">37.15 </td><td class=\"tabev2\">N  </td><td class=\"tabev1\">36.71 </td><td class=\"tabev2\">E  </td><td class=\"tabev3\">5</td><td class=\"tabev5\" id=\"magtyp13\">ML</td><td class=\"tabev2\">2.3</td><td class=\"tb_region\" id=\"reg13\"> CENTRAL TURKEY</td><td class=\"comment updatetimeno\" id=\"upd13\" style=\"text-align:right;\">2023-03-24 15:57</td></tr>\n",
       "<tr class=\"ligne1 normal\" id=\"1241579\" onclick=\"go_details(event,1241579);\"><td class=\"tabev0\"></td><td class=\"tabev0\"></td><td class=\"tabev0\"></td><td class=\"tabev6\"><b><i style=\"display:none;\">earthquake</i><a href=\"/Earthquake/earthquake.php?id=1241579\">2023-03-24   15:44:02.7</a></b><i class=\"ago\" id=\"ago14\">2hr 07min ago</i></td><td class=\"tabev1\">37.82 </td><td class=\"tabev2\">N  </td><td class=\"tabev1\">36.56 </td><td class=\"tabev2\">E  </td><td class=\"tabev3\">9</td><td class=\"tabev5\" id=\"magtyp14\">ML</td><td class=\"tabev2\">2.0</td><td class=\"tb_region\" id=\"reg14\"> CENTRAL TURKEY</td><td class=\"comment updatetimeno\" id=\"upd14\" style=\"text-align:right;\">2023-03-24 15:50</td></tr>\n",
       "<tr class=\"ligne2 normal\" id=\"1241588\" onclick=\"go_details(event,1241588);\"><td class=\"tabev0\"></td><td class=\"tabev0\"></td><td class=\"tabev0\"></td><td class=\"tabev6\"><b><i style=\"display:none;\">earthquake</i><a href=\"/Earthquake/earthquake.php?id=1241588\">2023-03-24   15:43:37.8</a></b><i class=\"ago\" id=\"ago15\">2hr 08min ago</i></td><td class=\"tabev1\">62.27 </td><td class=\"tabev2\">N  </td><td class=\"tabev1\">151.01 </td><td class=\"tabev2\">W  </td><td class=\"tabev3\">78</td><td class=\"tabev5\" id=\"magtyp15\">ML</td><td class=\"tabev2\">3.0</td><td class=\"tb_region\" id=\"reg15\"> CENTRAL ALASKA</td><td class=\"comment updatetimeno\" id=\"upd15\" style=\"text-align:right;\">2023-03-24 16:31</td></tr>\n",
       "<tr class=\"ligne1 normal\" id=\"1241578\" onclick=\"go_details(event,1241578);\"><td class=\"tabev0\"></td><td class=\"tabev0\"></td><td class=\"tabev0\"></td><td class=\"tabev6\"><b><i style=\"display:none;\">earthquake</i><a href=\"/Earthquake/earthquake.php?id=1241578\">2023-03-24   15:39:04.9</a></b><i class=\"ago\" id=\"ago16\">2hr 12min ago</i></td><td class=\"tabev1\">36.73 </td><td class=\"tabev2\">N  </td><td class=\"tabev1\">96.71 </td><td class=\"tabev2\">W  </td><td class=\"tabev3\">5</td><td class=\"tabev5\" id=\"magtyp16\">ML</td><td class=\"tabev2\">2.4</td><td class=\"tb_region\" id=\"reg16\"> OKLAHOMA</td><td class=\"comment updatetimeno\" id=\"upd16\" style=\"text-align:right;\">2023-03-24 15:40</td></tr>\n",
       "<tr class=\"ligne2 normal\" id=\"1241576\" onclick=\"go_details(event,1241576);\"><td class=\"tabev0\"></td><td class=\"tabev0\"></td><td class=\"tabev0\"></td><td class=\"tabev6\"><b><i style=\"display:none;\">earthquake</i><a href=\"/Earthquake/earthquake.php?id=1241576\">2023-03-24   15:24:56.3</a></b><i class=\"ago\" id=\"ago17\">2hr 27min ago</i></td><td class=\"tabev1\">36.17 </td><td class=\"tabev2\">N  </td><td class=\"tabev1\">36.55 </td><td class=\"tabev2\">E  </td><td class=\"tabev3\">18</td><td class=\"tabev5\" id=\"magtyp17\">ML</td><td class=\"tabev2\">2.1</td><td class=\"tb_region\" id=\"reg17\"> TURKEY-SYRIA BORDER REGION</td><td class=\"comment updatetimeno\" id=\"upd17\" style=\"text-align:right;\">2023-03-24 15:33</td></tr>\n",
       "<tr class=\"ligne1 normal\" id=\"1241573\" onclick=\"go_details(event,1241573);\"><td class=\"tabev0\"></td><td class=\"tabev0\"></td><td class=\"tabev0\"></td><td class=\"tabev6\"><b><i style=\"display:none;\">earthquake</i><a href=\"/Earthquake/earthquake.php?id=1241573\">2023-03-24   15:14:11.0</a></b><i class=\"ago\" id=\"ago18\">2hr 37min ago</i></td><td class=\"tabev1\">22.36 </td><td class=\"tabev2\">S  </td><td class=\"tabev1\">68.71 </td><td class=\"tabev2\">W  </td><td class=\"tabev3\">115</td><td class=\"tabev5\" id=\"magtyp18\"> M</td><td class=\"tabev2\">2.7</td><td class=\"tb_region\" id=\"reg18\"> ANTOFAGASTA, CHILE</td><td class=\"comment updatetimeno\" id=\"upd18\" style=\"text-align:right;\">2023-03-24 15:23</td></tr>\n",
       "<tr class=\"ligne2 normal\" id=\"1241575\" onclick=\"go_details(event,1241575);\"><td class=\"tabev0\"></td><td class=\"tabev0\"></td><td class=\"tabev0\"></td><td class=\"tabev6\"><b><i style=\"display:none;\">earthquake</i><a href=\"/Earthquake/earthquake.php?id=1241575\">2023-03-24   15:13:22.0</a></b><i class=\"ago\" id=\"ago19\">2hr 38min ago</i></td><td class=\"tabev1\">14.45 </td><td class=\"tabev2\">N  </td><td class=\"tabev1\">123.10 </td><td class=\"tabev2\">E  </td><td class=\"tabev3\">1</td><td class=\"tabev5\" id=\"magtyp19\"> M</td><td class=\"tabev2\">4.4</td><td class=\"tb_region\" id=\"reg19\"> LUZON, PHILIPPINES</td><td class=\"comment updatetimeno\" id=\"upd19\" style=\"text-align:right;\">2023-03-24 15:30</td></tr>\n",
       "<tr class=\"ligne1 normal\" id=\"1241571\" onclick=\"go_details(event,1241571);\"><td class=\"tabev0\"></td><td class=\"tabev0\"></td><td class=\"tabev0\"></td><td class=\"tabev6\"><b><i style=\"display:none;\">earthquake</i><a href=\"/Earthquake/earthquake.php?id=1241571\">2023-03-24   15:11:05.9</a></b><i class=\"ago\" id=\"ago20\">2hr 40min ago</i></td><td class=\"tabev1\">37.99 </td><td class=\"tabev2\">N  </td><td class=\"tabev1\">36.60 </td><td class=\"tabev2\">E  </td><td class=\"tabev3\">8</td><td class=\"tabev5\" id=\"magtyp20\">ML</td><td class=\"tabev2\">2.1</td><td class=\"tb_region\" id=\"reg20\"> CENTRAL TURKEY</td><td class=\"comment updatetimeno\" id=\"upd20\" style=\"text-align:right;\">2023-03-24 15:20</td></tr>\n",
       "<tr class=\"ligne2 normal\" id=\"1241570\" onclick=\"go_details(event,1241570);\"><td class=\"tabev0\"></td><td class=\"tabev0\"></td><td class=\"tabev0\"></td><td class=\"tabev6\"><b><i style=\"display:none;\">earthquake</i><a href=\"/Earthquake/earthquake.php?id=1241570\">2023-03-24   15:09:56.8</a></b><i class=\"ago\" id=\"ago21\">2hr 42min ago</i></td><td class=\"tabev1\">37.91 </td><td class=\"tabev2\">N  </td><td class=\"tabev1\">37.68 </td><td class=\"tabev2\">E  </td><td class=\"tabev3\">5</td><td class=\"tabev5\" id=\"magtyp21\">ML</td><td class=\"tabev2\">2.0</td><td class=\"tb_region\" id=\"reg21\"> CENTRAL TURKEY</td><td class=\"comment updatetimeno\" id=\"upd21\" style=\"text-align:right;\">2023-03-24 15:18</td></tr>\n",
       "<tr class=\"ligne1 normal\" id=\"1241569\" onclick=\"go_details(event,1241569);\"><td class=\"tabev0\" style=\"text-align:center;\"><a href=\"https://www.emsc-csem.org/Earthquake/Testimonies/comments.php?id=1241569\" onmouseout=\"info_b2('notshow','');\" onmouseover=\"info_b2('show','See the &lt;b&gt;8 testimonies&lt;/b&gt; for this earthquake');\"><span class=\"\" style=\"vertical-align:middle;\">8</span></a></td><td class=\"tabev0\"></td><td class=\"tabev0\"><span class=\"intensity\" onclick=\"go_details(event,null,'https://www.emsc-csem.org/Earthquake/popup_intensmap.php?id=1241569&amp;f=/FELTREPORTS/124/1241569/IntensityMap.png');\" onmouseout=\"info_b2('notshow','');\" onmouseover=\"info_b2('show','See the &lt;b&gt; Intensity map&lt;/b&gt;');\" style=\"background-color:#00FFFF;\">IV</span></td><td class=\"tabev6\"><b><i style=\"display:none;\">earthquake</i><a href=\"/Earthquake/earthquake.php?id=1241569\">2023-03-24   15:06:16.1</a></b><i class=\"ago\" id=\"ago22\">2hr 45min ago</i></td><td class=\"tabev1\">38.15 </td><td class=\"tabev2\">N  </td><td class=\"tabev1\">38.41 </td><td class=\"tabev2\">E  </td><td class=\"tabev3\">7</td><td class=\"tabev5\" id=\"magtyp22\">ML</td><td class=\"tabev2\">3.8</td><td class=\"tb_region\" id=\"reg22\"> EASTERN TURKEY</td><td class=\"comment updatetimeno\" id=\"upd22\" style=\"text-align:right;\">2023-03-24 15:48</td></tr>\n",
       "<tr class=\"ligne2 normal\" id=\"1241568\" onclick=\"go_details(event,1241568);\"><td class=\"tabev0\" style=\"text-align:center;\"><a href=\"https://www.emsc-csem.org/Earthquake/Testimonies/comments.php?id=1241568\" onmouseout=\"info_b2('notshow','');\" onmouseover=\"info_b2('show','See the &lt;b&gt;2 testimonies&lt;/b&gt; for this earthquake');\"><span class=\"\" style=\"vertical-align:middle;\">2</span></a></td><td class=\"tabev0\"></td><td class=\"tabev0\"><span class=\"intensity\" onclick=\"go_details(event,null,'https://www.emsc-csem.org/Earthquake/popup_intensmap.php?id=1241568&amp;f=/FELTREPORTS/124/1241568/IntensityMap.png');\" onmouseout=\"info_b2('notshow','');\" onmouseover=\"info_b2('show','See the &lt;b&gt; Intensity map&lt;/b&gt;');\" style=\"background-color:#FFFFFF;\">F</span></td><td class=\"tabev6\"><b><i style=\"display:none;\">earthquake</i><a href=\"/Earthquake/earthquake.php?id=1241568\">2023-03-24   15:04:03.5</a></b><i class=\"ago\" id=\"ago23\">2hr 47min ago</i></td><td class=\"tabev1\">33.19 </td><td class=\"tabev2\">N  </td><td class=\"tabev1\">116.41 </td><td class=\"tabev2\">W  </td><td class=\"tabev3\">15</td><td class=\"tabev5\" id=\"magtyp23\">ML</td><td class=\"tabev2\">2.8</td><td class=\"tb_region\" id=\"reg23\"> SOUTHERN CALIFORNIA</td><td class=\"comment updatetimeno\" id=\"upd23\" style=\"text-align:right;\">2023-03-24 16:26</td></tr>\n",
       "<tr class=\"ligne1 normal\" id=\"1241564\" onclick=\"go_details(event,1241564);\"><td class=\"tabev0\"></td><td class=\"tabev0\"></td><td class=\"tabev0\"></td><td class=\"tabev6\"><b><i style=\"display:none;\">earthquake</i><a href=\"/Earthquake/earthquake.php?id=1241564\">2023-03-24   14:44:58.6</a></b><i class=\"ago\" id=\"ago24\">3hr 06min ago</i></td><td class=\"tabev1\">38.04 </td><td class=\"tabev2\">N  </td><td class=\"tabev1\">37.58 </td><td class=\"tabev2\">E  </td><td class=\"tabev3\">6</td><td class=\"tabev5\" id=\"magtyp24\">ML</td><td class=\"tabev2\">2.4</td><td class=\"tb_region\" id=\"reg24\"> CENTRAL TURKEY</td><td class=\"comment updatetimeno\" id=\"upd24\" style=\"text-align:right;\">2023-03-24 15:47</td></tr>\n",
       "<tr class=\"ligne2 normal\" id=\"1241566\" onclick=\"go_details(event,1241566);\"><td class=\"tabev0\" style=\"text-align:center;\"><a href=\"https://www.emsc-csem.org/Earthquake/Testimonies/comments.php?id=1241566\" onmouseout=\"info_b2('notshow','');\" onmouseover=\"info_b2('show','See the &lt;b&gt;3 testimonies&lt;/b&gt; for this earthquake');\"><span class=\"\" style=\"vertical-align:middle;\">3</span></a></td><td class=\"tabev0\"></td><td class=\"tabev0\"><span class=\"intensity\" onclick=\"go_details(event,null,'https://www.emsc-csem.org/Earthquake/popup_intensmap.php?id=1241566&amp;f=/FELTREPORTS/124/1241566/IntensityMap.png');\" onmouseout=\"info_b2('notshow','');\" onmouseover=\"info_b2('show','See the &lt;b&gt; Intensity map&lt;/b&gt;');\" style=\"background-color:#66CCFF;\">III</span></td><td class=\"tabev6\"><b><i style=\"display:none;\">earthquake</i><a href=\"/Earthquake/earthquake.php?id=1241566\">2023-03-24   14:41:36.0</a></b><i class=\"ago\" id=\"ago25\">3hr 10min ago</i></td><td class=\"tabev1\">15.44 </td><td class=\"tabev2\">N  </td><td class=\"tabev1\">96.55 </td><td class=\"tabev2\">W  </td><td class=\"tabev3\">16</td><td class=\"tabev5\" id=\"magtyp25\"> M</td><td class=\"tabev2\">4.5</td><td class=\"tb_region\" id=\"reg25\"> OFFSHORE OAXACA, MEXICO</td><td class=\"comment updatetimeno\" id=\"upd25\" style=\"text-align:right;\">2023-03-24 15:00</td></tr>\n",
       "<tr class=\"ligne1 normal\" id=\"1241562\" onclick=\"go_details(event,1241562);\"><td class=\"tabev0\"></td><td class=\"tabev0\"></td><td class=\"tabev0\"></td><td class=\"tabev6\"><b><i style=\"display:none;\">earthquake</i><a href=\"/Earthquake/earthquake.php?id=1241562\">2023-03-24   14:26:44.0</a></b><i class=\"ago\" id=\"ago26\">3hr 25min ago</i></td><td class=\"tabev1\">2.32 </td><td class=\"tabev2\">S  </td><td class=\"tabev1\">139.01 </td><td class=\"tabev2\">E  </td><td class=\"tabev3\">106</td><td class=\"tabev5\" id=\"magtyp26\"> M</td><td class=\"tabev2\">4.6</td><td class=\"tb_region\" id=\"reg26\"> NEAR N COAST OF PAPUA, INDONESIA</td><td class=\"comment updatetimeno\" id=\"upd26\" style=\"text-align:right;\">2023-03-24 14:35</td></tr>\n",
       "<tr class=\"ligne2 normal\" id=\"1241563\" onclick=\"go_details(event,1241563);\"><td class=\"tabev0\"></td><td class=\"tabev0\"></td><td class=\"tabev0\"></td><td class=\"tabev6\"><b><i style=\"display:none;\">earthquake</i><a href=\"/Earthquake/earthquake.php?id=1241563\">2023-03-24   14:26:30.6</a></b><i class=\"ago\" id=\"ago27\">3hr 25min ago</i></td><td class=\"tabev1\">41.55 </td><td class=\"tabev2\">N  </td><td class=\"tabev1\">41.77 </td><td class=\"tabev2\">E  </td><td class=\"tabev3\">3</td><td class=\"tabev5\" id=\"magtyp27\">ML</td><td class=\"tabev2\">2.6</td><td class=\"tb_region\" id=\"reg27\"> GEORGIA (SAK'ART'VELO)</td><td class=\"comment updatetimeno\" id=\"upd27\" style=\"text-align:right;\">2023-03-24 14:35</td></tr>\n",
       "<tr class=\"ligne1 normal\" id=\"1241567\" onclick=\"go_details(event,1241567);\"><td class=\"tabev0\"></td><td class=\"tabev0\"></td><td class=\"tabev0\"></td><td class=\"tabev6\"><b><i style=\"display:none;\">earthquake</i><a href=\"/Earthquake/earthquake.php?id=1241567\">2023-03-24   14:26:20.5</a></b><i class=\"ago\" id=\"ago28\">3hr 25min ago</i></td><td class=\"tabev1\">40.43 </td><td class=\"tabev2\">N  </td><td class=\"tabev1\">20.75 </td><td class=\"tabev2\">E  </td><td class=\"tabev3\">7</td><td class=\"tabev5\" id=\"magtyp28\">ML</td><td class=\"tabev2\">2.0</td><td class=\"tb_region\" id=\"reg28\"> ALBANIA</td><td class=\"comment updatetimeno\" id=\"upd28\" style=\"text-align:right;\">2023-03-24 15:04</td></tr>\n",
       "<tr class=\"ligne2 normal\" id=\"1241558\" onclick=\"go_details(event,1241558);\"><td class=\"tabev0\"></td><td class=\"tabev0\"></td><td class=\"tabev0\"></td><td class=\"tabev6\"><b><i style=\"display:none;\">earthquake</i><a href=\"/Earthquake/earthquake.php?id=1241558\">2023-03-24   14:13:45.6</a></b><i class=\"ago\" id=\"ago29\">3hr 38min ago</i></td><td class=\"tabev1\">38.43 </td><td class=\"tabev2\">N  </td><td class=\"tabev1\">37.27 </td><td class=\"tabev2\">E  </td><td class=\"tabev3\">6</td><td class=\"tabev5\" id=\"magtyp29\">ML</td><td class=\"tabev2\">2.0</td><td class=\"tb_region\" id=\"reg29\"> CENTRAL TURKEY</td><td class=\"comment updatetimeno\" id=\"upd29\" style=\"text-align:right;\">2023-03-24 14:19</td></tr>\n",
       "<tr class=\"ligne1 normal\" id=\"1241559\" onclick=\"go_details(event,1241559);\"><td class=\"tabev0\"></td><td class=\"tabev0\"></td><td class=\"tabev0\"></td><td class=\"tabev6\"><b><i style=\"display:none;\">earthquake</i><a href=\"/Earthquake/earthquake.php?id=1241559\">2023-03-24   14:11:36.0</a></b><i class=\"ago\" id=\"ago30\">3hr 40min ago</i></td><td class=\"tabev1\">10.78 </td><td class=\"tabev2\">S  </td><td class=\"tabev1\">113.28 </td><td class=\"tabev2\">E  </td><td class=\"tabev3\">10</td><td class=\"tabev5\" id=\"magtyp30\"> M</td><td class=\"tabev2\">4.3</td><td class=\"tb_region\" id=\"reg30\"> SOUTH OF JAVA, INDONESIA</td><td class=\"comment updatetimeno\" id=\"upd30\" style=\"text-align:right;\">2023-03-24 14:20</td></tr>\n",
       "<tr class=\"ligne2 normal\" id=\"1241557\" onclick=\"go_details(event,1241557);\"><td class=\"tabev0\"></td><td class=\"tabev0\"></td><td class=\"tabev0\"></td><td class=\"tabev6\"><b><i style=\"display:none;\">earthquake</i><a href=\"/Earthquake/earthquake.php?id=1241557\">2023-03-24   14:10:56.4</a></b><i class=\"ago\" id=\"ago31\">3hr 41min ago</i></td><td class=\"tabev1\">37.91 </td><td class=\"tabev2\">N  </td><td class=\"tabev1\">36.28 </td><td class=\"tabev2\">E  </td><td class=\"tabev3\">5</td><td class=\"tabev5\" id=\"magtyp31\">ML</td><td class=\"tabev2\">2.4</td><td class=\"tb_region\" id=\"reg31\"> CENTRAL TURKEY</td><td class=\"comment updatetimeno\" id=\"upd31\" style=\"text-align:right;\">2023-03-24 14:17</td></tr>\n",
       "<tr class=\"ligne1 normal\" id=\"1241555\" onclick=\"go_details(event,1241555);\"><td class=\"tabev0\"></td><td class=\"tabev0\"></td><td class=\"tabev0\"></td><td class=\"tabev6\"><b><i style=\"display:none;\">earthquake</i><a href=\"/Earthquake/earthquake.php?id=1241555\">2023-03-24   14:09:48.5</a></b><i class=\"ago\" id=\"ago32\">3hr 42min ago</i></td><td class=\"tabev1\">40.42 </td><td class=\"tabev2\">N  </td><td class=\"tabev1\">20.76 </td><td class=\"tabev2\">E  </td><td class=\"tabev3\">4</td><td class=\"tabev5\" id=\"magtyp32\">ML</td><td class=\"tabev2\">2.0</td><td class=\"tb_region\" id=\"reg32\"> ALBANIA</td><td class=\"comment updatetimeno\" id=\"upd32\" style=\"text-align:right;\">2023-03-24 14:48</td></tr>\n",
       "<tr class=\"ligne2 normal\" id=\"1241556\" onclick=\"go_details(event,1241556);\"><td class=\"tabev0\"></td><td class=\"tabev0\"></td><td class=\"tabev0\"></td><td class=\"tabev6\"><b><i style=\"display:none;\">earthquake</i><a href=\"/Earthquake/earthquake.php?id=1241556\">2023-03-24   14:08:23.5</a></b><i class=\"ago\" id=\"ago33\">3hr 43min ago</i></td><td class=\"tabev1\">37.87 </td><td class=\"tabev2\">N  </td><td class=\"tabev1\">36.35 </td><td class=\"tabev2\">E  </td><td class=\"tabev3\">5</td><td class=\"tabev5\" id=\"magtyp33\">ML</td><td class=\"tabev2\">2.0</td><td class=\"tb_region\" id=\"reg33\"> CENTRAL TURKEY</td><td class=\"comment updatetimeno\" id=\"upd33\" style=\"text-align:right;\">2023-03-24 14:14</td></tr>\n",
       "<tr class=\"ligne1 normal\" id=\"1241554\" onclick=\"go_details(event,1241554);\"><td class=\"tabev0\"></td><td class=\"tabev0\"></td><td class=\"tabev0\"><span class=\"intensity\" onclick=\"go_details(event,null,'https://www.emsc-csem.org/Earthquake/popup_intensmap.php?id=1241554&amp;f=/FELTREPORTS/124/1241554/IntensityMap.png');\" onmouseout=\"info_b2('notshow','');\" onmouseover=\"info_b2('show','See the &lt;b&gt; Intensity map&lt;/b&gt;');\" style=\"background-color:#FFFFFF;\">F</span></td><td class=\"tabev6\"><b><i style=\"display:none;\">earthquake</i><a href=\"/Earthquake/earthquake.php?id=1241554\">2023-03-24   14:05:07.9</a></b><i class=\"ago\" id=\"ago34\">3hr 46min ago</i></td><td class=\"tabev1\">39.01 </td><td class=\"tabev2\">N  </td><td class=\"tabev1\">41.20 </td><td class=\"tabev2\">E  </td><td class=\"tabev3\">6</td><td class=\"tabev5\" id=\"magtyp34\">ML</td><td class=\"tabev2\">3.3</td><td class=\"tb_region\" id=\"reg34\"> EASTERN TURKEY</td><td class=\"comment updatetimeno\" id=\"upd34\" style=\"text-align:right;\">2023-03-24 14:43</td></tr>\n",
       "<tr class=\"ligne2 normal\" id=\"1241561\" onclick=\"go_details(event,1241561);\"><td class=\"tabev0\"></td><td class=\"tabev0\"></td><td class=\"tabev0\"></td><td class=\"tabev6\"><b><i style=\"display:none;\">earthquake</i><a href=\"/Earthquake/earthquake.php?id=1241561\">2023-03-24   14:01:49.4</a></b><i class=\"ago\" id=\"ago35\">3hr 50min ago</i></td><td class=\"tabev1\">17.95 </td><td class=\"tabev2\">N  </td><td class=\"tabev1\">66.96 </td><td class=\"tabev2\">W  </td><td class=\"tabev3\">7</td><td class=\"tabev5\" id=\"magtyp35\">Md</td><td class=\"tabev2\">2.3</td><td class=\"tb_region\" id=\"reg35\"> PUERTO RICO</td><td class=\"comment updatetimeno\" id=\"upd35\" style=\"text-align:right;\">2023-03-24 14:32</td></tr>\n",
       "<tr class=\"ligne1 normal\" id=\"1241547\" onclick=\"go_details(event,1241547);\"><td class=\"tabev0\"></td><td class=\"tabev0\"></td><td class=\"tabev0\"></td><td class=\"tabev6\"><b><i style=\"display:none;\">earthquake</i><a href=\"/Earthquake/earthquake.php?id=1241547\">2023-03-24   14:01:26.8</a></b><i class=\"ago\" id=\"ago36\">3hr 50min ago</i></td><td class=\"tabev1\">19.22 </td><td class=\"tabev2\">N  </td><td class=\"tabev1\">155.39 </td><td class=\"tabev2\">W  </td><td class=\"tabev3\">30</td><td class=\"tabev5\" id=\"magtyp36\">Md</td><td class=\"tabev2\">2.5</td><td class=\"tb_region\" id=\"reg36\"> ISLAND OF HAWAII, HAWAII</td><td class=\"comment updatetimeno\" id=\"upd36\" style=\"text-align:right;\">2023-03-24 14:05</td></tr>\n",
       "<tr class=\"ligne2 normal\" id=\"1241539\" onclick=\"go_details(event,1241539);\"><td class=\"tabev0\"></td><td class=\"tabev0\"></td><td class=\"tabev0\"></td><td class=\"tabev6\"><b><i style=\"display:none;\">earthquake</i><a href=\"/Earthquake/earthquake.php?id=1241539\">2023-03-24   13:59:00.2</a></b><i class=\"ago\" id=\"ago37\">3hr 52min ago</i></td><td class=\"tabev1\">33.18 </td><td class=\"tabev2\">N  </td><td class=\"tabev1\">116.41 </td><td class=\"tabev2\">W  </td><td class=\"tabev3\">11</td><td class=\"tabev5\" id=\"magtyp37\">Ml</td><td class=\"tabev2\">2.3</td><td class=\"tb_region\" id=\"reg37\"> SOUTHERN CALIFORNIA</td><td class=\"comment updatetimeno\" id=\"upd37\" style=\"text-align:right;\">2023-03-24 14:03</td></tr>\n",
       "<tr class=\"ligne1 normal\" id=\"1241540\" onclick=\"go_details(event,1241540);\"><td class=\"tabev0\"></td><td class=\"tabev0\"></td><td class=\"tabev0\"></td><td class=\"tabev6\"><b><i style=\"display:none;\">earthquake</i><a href=\"/Earthquake/earthquake.php?id=1241540\">2023-03-24   13:58:40.0</a></b><i class=\"ago\" id=\"ago38\">3hr 53min ago</i></td><td class=\"tabev1\">32.86 </td><td class=\"tabev2\">S  </td><td class=\"tabev1\">70.08 </td><td class=\"tabev2\">W  </td><td class=\"tabev3\">124</td><td class=\"tabev5\" id=\"magtyp38\"> M</td><td class=\"tabev2\">3.4</td><td class=\"tb_region\" id=\"reg38\"> VALPARAISO, CHILE</td><td class=\"comment updatetimeno\" id=\"upd38\" style=\"text-align:right;\">2023-03-24 14:15</td></tr>\n",
       "<tr class=\"ligne2 normal\" id=\"1241537\" onclick=\"go_details(event,1241537);\"><td class=\"tabev0\" style=\"text-align:center;\"><a href=\"https://www.emsc-csem.org/Earthquake/Testimonies/comments.php?id=1241537\" onmouseout=\"info_b2('notshow','');\" onmouseover=\"info_b2('show','See the &lt;b&gt;10 testimonies&lt;/b&gt; for this earthquake');\"><span class=\"\" style=\"vertical-align:middle;\">10</span></a></td><td class=\"tabev0\"></td><td class=\"tabev0\"><span class=\"intensity\" onclick=\"go_details(event,null,'https://www.emsc-csem.org/Earthquake/popup_intensmap.php?id=1241537&amp;f=/FELTREPORTS/124/1241537/IntensityMap.png');\" onmouseout=\"info_b2('notshow','');\" onmouseover=\"info_b2('show','See the &lt;b&gt; Intensity map&lt;/b&gt;');\" style=\"background-color:#00FFFF;\">IV</span></td><td class=\"tabev6\"><b><i style=\"display:none;\">earthquake</i><a href=\"/Earthquake/earthquake.php?id=1241537\">2023-03-24   13:51:24.4</a></b><i class=\"ago\" id=\"ago39\">4hr 00min ago</i></td><td class=\"tabev1\">37.95 </td><td class=\"tabev2\">N  </td><td class=\"tabev1\">36.29 </td><td class=\"tabev2\">E  </td><td class=\"tabev3\">1</td><td class=\"tabev5\" id=\"magtyp39\">ML</td><td class=\"tabev2\">4.0</td><td class=\"tb_region\" id=\"reg39\"> CENTRAL TURKEY</td><td class=\"comment updatetimeno\" id=\"upd39\" style=\"text-align:right;\">2023-03-24 14:36</td></tr>\n",
       "<tr class=\"ligne1 normal\" id=\"1241536\" onclick=\"go_details(event,1241536);\"><td class=\"tabev0\" style=\"text-align:center;\"><a href=\"https://www.emsc-csem.org/Earthquake/Testimonies/comments.php?id=1241536\" onmouseout=\"info_b2('notshow','');\" onmouseover=\"info_b2('show','See the &lt;b&gt;8 testimonies&lt;/b&gt; for this earthquake');\"><span class=\"\" style=\"vertical-align:middle;\">8</span></a></td><td class=\"tabev0\"></td><td class=\"tabev0\"><span class=\"intensity\" onclick=\"go_details(event,null,'https://www.emsc-csem.org/Earthquake/popup_intensmap.php?id=1241536&amp;f=/FELTREPORTS/124/1241536/IntensityMap.png');\" onmouseout=\"info_b2('notshow','');\" onmouseover=\"info_b2('show','See the &lt;b&gt; Intensity map&lt;/b&gt;');\" style=\"background-color:#CC99FF;\">II</span></td><td class=\"tabev6\"><b><i style=\"display:none;\">earthquake</i><a href=\"/Earthquake/earthquake.php?id=1241536\">2023-03-24   13:46:24.9</a></b><i class=\"ago\" id=\"ago40\">4hr 05min ago</i></td><td class=\"tabev1\">36.67 </td><td class=\"tabev2\">N  </td><td class=\"tabev1\">36.49 </td><td class=\"tabev2\">E  </td><td class=\"tabev3\">5</td><td class=\"tabev5\" id=\"magtyp40\">M </td><td class=\"tabev2\">3.7</td><td class=\"tb_region\" id=\"reg40\"> TURKEY-SYRIA BORDER REGION</td><td class=\"comment updatetimeno\" id=\"upd40\" style=\"text-align:right;\">2023-03-24 14:44</td></tr>\n",
       "<tr class=\"ligne2 normal\" id=\"1241528\" onclick=\"go_details(event,1241528);\"><td class=\"tabev0\" style=\"text-align:center;\"><a href=\"https://www.emsc-csem.org/Earthquake/Testimonies/comments.php?id=1241528\" onmouseout=\"info_b2('notshow','');\" onmouseover=\"info_b2('show','See the &lt;b&gt;10 testimonies&lt;/b&gt; for this earthquake');\"><span class=\"\" style=\"vertical-align:middle;\">10</span></a></td><td class=\"tabev0\"></td><td class=\"tabev0\"><span class=\"intensity\" onclick=\"go_details(event,null,'https://www.emsc-csem.org/Earthquake/popup_intensmap.php?id=1241528&amp;f=/FELTREPORTS/124/1241528/IntensityMap.png');\" onmouseout=\"info_b2('notshow','');\" onmouseover=\"info_b2('show','See the &lt;b&gt; Intensity map&lt;/b&gt;');\" style=\"background-color:#66CCFF;\">III</span></td><td class=\"tabev6\"><b><i style=\"display:none;\">earthquake</i><a href=\"/Earthquake/earthquake.php?id=1241528\">2023-03-24   13:46:12.3</a></b><i class=\"ago\" id=\"ago41\">4hr 05min ago</i></td><td class=\"tabev1\">33.19 </td><td class=\"tabev2\">N  </td><td class=\"tabev1\">116.80 </td><td class=\"tabev2\">W  </td><td class=\"tabev3\">23</td><td class=\"tabev5\" id=\"magtyp41\">Ml</td><td class=\"tabev2\">2.3</td><td class=\"tb_region\" id=\"reg41\"> SOUTHERN CALIFORNIA</td><td class=\"comment updatetimeno\" id=\"upd41\" style=\"text-align:right;\">2023-03-24 13:50</td></tr>\n",
       "<tr class=\"ligne1 normal\" id=\"1241533\" onclick=\"go_details(event,1241533);\"><td class=\"tabev0\" style=\"text-align:center;\"><a href=\"https://www.emsc-csem.org/Earthquake/Testimonies/comments.php?id=1241533\" onmouseout=\"info_b2('notshow','');\" onmouseover=\"info_b2('show','See the &lt;b&gt;198 testimonies&lt;/b&gt; for this earthquake');\"><span class=\"\" style=\"vertical-align:middle;\">198</span></a></td><td class=\"tabev0\"></td><td class=\"tabev0\"><span class=\"intensity\" onclick=\"go_details(event,null,'https://www.emsc-csem.org/Earthquake/popup_intensmap.php?id=1241533&amp;f=/FELTREPORTS/124/1241533/IntensityMap.png');\" onmouseout=\"info_b2('notshow','');\" onmouseover=\"info_b2('show','See the &lt;b&gt; Intensity map&lt;/b&gt;');\" style=\"background-color:#66CCFF;\">III</span></td><td class=\"tabev6\"><b><i style=\"display:none;\">earthquake</i><a href=\"/Earthquake/earthquake.php?id=1241533\">2023-03-24   13:45:44.7</a></b><i class=\"ago\" id=\"ago42\">4hr 06min ago</i></td><td class=\"tabev1\">45.27 </td><td class=\"tabev2\">N  </td><td class=\"tabev1\">14.51 </td><td class=\"tabev2\">E  </td><td class=\"tabev3\">10</td><td class=\"tabev5\" id=\"magtyp42\">ML</td><td class=\"tabev2\">2.5</td><td class=\"tb_region\" id=\"reg42\"> CROATIA</td><td class=\"comment updatetimeno\" id=\"upd42\" style=\"text-align:right;\">2023-03-24 14:36</td></tr>\n",
       "<tr class=\"ligne2 normal\" id=\"1241523\" onclick=\"go_details(event,1241523);\"><td class=\"tabev0\"></td><td class=\"tabev0\"></td><td class=\"tabev0\"></td><td class=\"tabev6\"><b><i style=\"display:none;\">earthquake</i><a href=\"/Earthquake/earthquake.php?id=1241523\">2023-03-24   13:43:51.0</a></b><i class=\"ago\" id=\"ago43\">4hr 08min ago</i></td><td class=\"tabev1\">36.42 </td><td class=\"tabev2\">N  </td><td class=\"tabev1\">96.91 </td><td class=\"tabev2\">W  </td><td class=\"tabev3\">6</td><td class=\"tabev5\" id=\"magtyp43\">ML</td><td class=\"tabev2\">2.2</td><td class=\"tb_region\" id=\"reg43\"> OKLAHOMA</td><td class=\"comment updatetimeno\" id=\"upd43\" style=\"text-align:right;\">2023-03-24 13:55</td></tr>\n",
       "<tr class=\"ligne1 normal\" id=\"1241522\" onclick=\"go_details(event,1241522);\"><td class=\"tabev0\"></td><td class=\"tabev0\"></td><td class=\"tabev0\"></td><td class=\"tabev6\"><b><i style=\"display:none;\">earthquake</i><a href=\"/Earthquake/earthquake.php?id=1241522\">2023-03-24   13:40:43.0</a></b><i class=\"ago\" id=\"ago44\">4hr 11min ago</i></td><td class=\"tabev1\">2.77 </td><td class=\"tabev2\">N  </td><td class=\"tabev1\">127.20 </td><td class=\"tabev2\">E  </td><td class=\"tabev3\">10</td><td class=\"tabev5\" id=\"magtyp44\"> M</td><td class=\"tabev2\">3.6</td><td class=\"tb_region\" id=\"reg44\"> MOLUCCA SEA</td><td class=\"comment updatetimeno\" id=\"upd44\" style=\"text-align:right;\">2023-03-24 13:45</td></tr>\n",
       "<tr class=\"ligne2 normal\" id=\"1241538\" onclick=\"go_details(event,1241538);\"><td class=\"tabev0\"></td><td class=\"tabev0\"></td><td class=\"tabev0\"></td><td class=\"tabev6\"><b><i style=\"display:none;\">earthquake</i><a href=\"/Earthquake/earthquake.php?id=1241538\">2023-03-24   13:38:14.2</a></b><i class=\"ago\" id=\"ago45\">4hr 13min ago</i></td><td class=\"tabev1\">40.45 </td><td class=\"tabev2\">N  </td><td class=\"tabev1\">20.73 </td><td class=\"tabev2\">E  </td><td class=\"tabev3\">20</td><td class=\"tabev5\" id=\"magtyp45\">ML</td><td class=\"tabev2\">1.9</td><td class=\"tb_region\" id=\"reg45\"> ALBANIA</td><td class=\"comment updatetimeno\" id=\"upd45\" style=\"text-align:right;\">2023-03-24 14:00</td></tr>\n",
       "<tr class=\"ligne1 normal\" id=\"1241521\" onclick=\"go_details(event,1241521);\"><td class=\"tabev0\"></td><td class=\"tabev0\"></td><td class=\"tabev0\"></td><td class=\"tabev6\"><b><i style=\"display:none;\">earthquake</i><a href=\"/Earthquake/earthquake.php?id=1241521\">2023-03-24   13:30:56.5</a></b><i class=\"ago\" id=\"ago46\">4hr 21min ago</i></td><td class=\"tabev1\">40.17 </td><td class=\"tabev2\">N  </td><td class=\"tabev1\">26.34 </td><td class=\"tabev2\">E  </td><td class=\"tabev3\">12</td><td class=\"tabev5\" id=\"magtyp46\">ML</td><td class=\"tabev2\">2.6</td><td class=\"tb_region\" id=\"reg46\"> WESTERN TURKEY</td><td class=\"comment updatetimeno\" id=\"upd46\" style=\"text-align:right;\">2023-03-24 14:37</td></tr>\n",
       "<tr class=\"ligne2 normal\" id=\"1241535\" onclick=\"go_details(event,1241535);\"><td class=\"tabev0\"></td><td class=\"tabev0\"></td><td class=\"tabev0\"></td><td class=\"tabev6\"><b><i style=\"display:none;\">earthquake</i><a href=\"/Earthquake/earthquake.php?id=1241535\">2023-03-24   13:28:57.0</a></b><i class=\"ago\" id=\"ago47\">4hr 23min ago</i></td><td class=\"tabev1\">0.08 </td><td class=\"tabev2\">S  </td><td class=\"tabev1\">99.12 </td><td class=\"tabev2\">E  </td><td class=\"tabev3\">29</td><td class=\"tabev5\" id=\"magtyp47\"> M</td><td class=\"tabev2\">2.5</td><td class=\"tb_region\" id=\"reg47\"> SOUTHERN SUMATRA, INDONESIA</td><td class=\"comment updatetimeno\" id=\"upd47\" style=\"text-align:right;\">2023-03-24 13:50</td></tr>\n",
       "<tr class=\"ligne1 normal\" id=\"1241519\" onclick=\"go_details(event,1241519);\"><td class=\"tabev0\"></td><td class=\"tabev0\"></td><td class=\"tabev0\"></td><td class=\"tabev6\"><b><i style=\"display:none;\">earthquake</i><a href=\"/Earthquake/earthquake.php?id=1241519\">2023-03-24   13:17:33.0</a></b><i class=\"ago\" id=\"ago48\">4hr 34min ago</i></td><td class=\"tabev1\">16.30 </td><td class=\"tabev2\">S  </td><td class=\"tabev1\">73.56 </td><td class=\"tabev2\">W  </td><td class=\"tabev3\">25</td><td class=\"tabev5\" id=\"magtyp48\"> M</td><td class=\"tabev2\">3.7</td><td class=\"tb_region\" id=\"reg48\"> NEAR COAST OF SOUTHERN PERU</td><td class=\"comment updatetimeno\" id=\"upd48\" style=\"text-align:right;\">2023-03-24 13:25</td></tr>\n",
       "<tr class=\"ligne2 normal\" id=\"1241518\" onclick=\"go_details(event,1241518);\"><td class=\"tabev0\" style=\"text-align:center;\"><a href=\"https://www.emsc-csem.org/Earthquake/Testimonies/comments.php?id=1241518\" onmouseout=\"info_b2('notshow','');\" onmouseover=\"info_b2('show','See the &lt;b&gt;50 testimonies&lt;/b&gt; for this earthquake');\"><span class=\"\" style=\"vertical-align:middle;\">50</span></a></td><td class=\"tabev0\"></td><td class=\"tabev0\"><span class=\"intensity\" onclick=\"go_details(event,null,'https://www.emsc-csem.org/Earthquake/popup_intensmap.php?id=1241518&amp;f=/FELTREPORTS/124/1241518/IntensityMap.png');\" onmouseout=\"info_b2('notshow','');\" onmouseover=\"info_b2('show','See the &lt;b&gt; Intensity map&lt;/b&gt;');\" style=\"background-color:#66CCFF;\">III</span></td><td class=\"tabev6\"><b><i style=\"display:none;\">earthquake</i><a href=\"/Earthquake/earthquake.php?id=1241518\">2023-03-24   13:10:34.7</a></b><i class=\"ago\" id=\"ago49\">4hr 41min ago</i></td><td class=\"tabev1\">38.01 </td><td class=\"tabev2\">N  </td><td class=\"tabev1\">37.55 </td><td class=\"tabev2\">E  </td><td class=\"tabev3\">7</td><td class=\"tabev5\" id=\"magtyp49\">mb</td><td class=\"tabev2\">4.4</td><td class=\"tb_region\" id=\"reg49\"> CENTRAL TURKEY</td><td class=\"comment updatetimeno\" id=\"upd49\" style=\"text-align:right;\">2023-03-24 14:38</td></tr>\n",
       "</tbody><tfoot><tr><td colspan=\"13\" style=\"height:3px\"></td></tr> <tr class=\"npages\" id=\"my_pagelist_1\"><td colspan=\"13\"><a class=\"sublink sublinka\" href=\"javascript:void()\" rel=\"nofollow\">1</a><a class=\"sublink\" href=\"/Earthquake/?view=2\">2</a><a class=\"sublink\" href=\"/Earthquake/?view=3\">3</a><a class=\"sublink\" href=\"/Earthquake/?view=4\">4</a><a class=\"sublink\" href=\"/Earthquake/?view=5\">5</a><a class=\"sublink\" href=\"/Earthquake/?view=6\">6</a><a class=\"sublink\" href=\"/Earthquake/?view=7\">7</a><a class=\"sublink\" href=\"/Earthquake/?view=8\">8</a><a class=\"sublink\" href=\"/Earthquake/?view=9\">9</a><a class=\"sublink\" href=\"/Earthquake/?view=10\">10</a><a alt=\"Next page\" class=\"sublink\" href=\"/Earthquake/?view=2\">›</a><a alt=\"Next 10 pages\" class=\"sublink\" href=\"/Earthquake/?view=11\">»</a></td></tr><tr><td colspan=\"13\" style=\"border-bottom:1px solid #000;\"></td></tr></tfoot></table><b>Bold : Earthquakes with a magnitude ≥ 4.5 in Euro-med, or ≥ 5.5 in the world </b><br><b style=\"color:red;\">Red : Earthquakes with a magnitude ≥ 5 in Euro-med, or ≥ 6 in the world </b><br><script>\n",
       "\t\t\t\tvar nb_event_on_page=50;\n",
       "\t\t\t\n",
       "\t\t\t\tfunction cancel_evt(e) {\n",
       "\t\t\t\t\tif(e.bubbles===undefined) e.cancelBubble = true;\n",
       "\t\t\t\t\telse e.stopPropagation();\n",
       "\t\t\t\t}\t\n",
       "\t\t\t\tfunction go_details(e,id,page) {\n",
       "\t\t\t\t\tif((!id) || (id==null)) {\n",
       "\t\t\t\t\t\tcancel_evt(e);\n",
       "\t\t\t\t\t\twindow.open(page,\"Intensity_Map\",\"menubar=no, status=no, scrollbars=no, menubar=no, width=900, height=1000\");\n",
       "\t\t\t\t\t}\t\n",
       "\t\t\t\t\telse document.location.href=\"/Earthquake/earthquake.php?id=\"+id;\n",
       "\t\t\t\t}\n",
       "\t\t\t\t\n",
       "\t\t\t\tvar is_hide_magni=true;\n",
       "\t\t\t\tfunction hide_magni() {\n",
       "\t\t\t\t\tif(!is_hide_magni) {\n",
       "\t\t\t\t\t\tis_hide_magni=true;\n",
       "\t\t\t\t\t\tif(document.getElementById(\"thmag\")) document.getElementById(\"thmag\").colSpan=\"1\";\n",
       "\t\t\t\t\t\tif(document.getElementById(\"magplus\")) document.getElementById(\"magplus\").innerHTML=\"[+]\";\n",
       "\t\t\t\t\t\tfor (i=0;i<= nb_event_on_page;i++) {\n",
       "\t\t\t\t\t\t\tif(document.getElementById(\"magtyp\"+i)) { document.getElementById(\"magtyp\"+i).className=\"tabev5\"; } \n",
       "\t\t\t\t\t\t}\n",
       "\t\t\t\t\t}\n",
       "\t\t\t\t\telse {\n",
       "\t\t\t\t\t\tis_hide_magni=false;\n",
       "\t\t\t\t\t\tif(document.getElementById(\"thmag\")) document.getElementById(\"thmag\").colSpan=\"2\";\n",
       "\t\t\t\t\t\tif(document.getElementById(\"magplus\")) document.getElementById(\"magplus\").innerHTML=\"[-]\";\n",
       "\t\t\t\t\t\tfor (i=0;i<= nb_event_on_page;i++) {\n",
       "\t\t\t\t\t\t\tif(document.getElementById(\"magtyp\"+i)) {document.getElementById(\"magtyp\"+i).className=\"tabev52\"; } \n",
       "\t\t\t\t\t\t}\n",
       "\t\t\t\t\t}\t\n",
       "\t\t\t\t}\t\n",
       "\t\t\t\t\n",
       "\t\t\t\tvar ishide=true;\n",
       "\t\t\t\tfunction hide_upd() {\n",
       "\t\t\t\t\tvar i=0;\n",
       "\t\t\t\t\tif(!ishide) {\n",
       "\t\t\t\t\t\tishide=true;\n",
       "\t\t\t\t\t\tdocument.getElementById(\"upd\").className=\"th2 updatetimeno\";\n",
       "\t\t\t\t\t\tdocument.getElementById(\"upda\").style.display=\"block\";\n",
       "\t\t\t\t\t\t\n",
       "\t\t\t\t\t\tfor (i=0;i<= nb_event_on_page;i++) {\n",
       "\t\t\t\t\t\t\tif(document.getElementById(\"upd\"+i)) document.getElementById(\"upd\"+i).className=\"comment updatetimeno\";\n",
       "\t\t\t\t\t\t\tif(document.getElementById(\"reg\"+i)) document.getElementById(\"reg\"+i).style.paddingLeft=\"20px\";\n",
       "\t\t\t\t\t\t}\t\n",
       "\t\t\t\t\t}\n",
       "\t\t\t\t\telse {\n",
       "\t\t\t\t\t\t\tishide=false;\n",
       "\t\t\t\t\t\tdocument.getElementById(\"upda\").style.display=\"none\";\t\n",
       "\t\t\t\t\t\tdocument.getElementById(\"upd\").className=\"th2\";\n",
       "\t\t\t\t\t\t\n",
       "\t\t\t\t\t\tfor (i=0;i<= nb_event_on_page;i++) {\n",
       "\t\t\t\t\t\t\tif(document.getElementById(\"reg\"+i)) document.getElementById(\"reg\"+i).style.paddingLeft=\"4px\";\n",
       "\t\t\t\t\t\t\tif(document.getElementById(\"upd\"+i)) document.getElementById(\"upd\"+i).className=\"comment\";\n",
       "\t\t\t\t\t\t}\t\n",
       "\t\t\t\t\t\t\n",
       "\t\t\t\t\t}\t\n",
       "\t\t\t\t}\n",
       "\t\t\t\t\tfunction update_ago() {\n",
       "\t\t\t\t\t\tvar i=0;\n",
       "\t\t\t\t\t\tvar def=new Array(\"min ago\",\"hr \");\n",
       "\t\t\t\t\t\twhile( document.getElementById(\"ago\"+i)) { \n",
       "\t\t\t\t\t\t\tvar tb=new Array();\n",
       "\t\t\t\t\t\t\tvar elem=document.getElementById(\"ago\"+i);\n",
       "\t\t\t\t\t\t\tvar str=elem.innerHTML.replace(/min ago/i,\"\").replace(/hr/i,\"\");\n",
       "\t\t\t\t\t\t\ttb=str.split(\" \").reverse();\n",
       "\t\t\t\t\t\t\t//if(i==0) alert(\"**\"+str+\"**\"+tb[0]+\" | \"+tb[1]);\n",
       "\t\t\t\t\t\t\tvar str2=\"\";\n",
       "\t\t\t\t\t\t\tvar ln=tb.length;\n",
       "\t\t\t\t\t\t\tvar j=0;\n",
       "\t\t\t\t\t\t\n",
       "\t\t\t\t\t\t\ttb[j]=parseFloat(tb[j])+1;\n",
       "\t\t\t\t\t\t\tif(tb[j]==60) {\n",
       "\t\t\t\t\t\t\t\ttb[j]=0;\n",
       "\t\t\t\t\t\t\t\tif(ln<=1) tb[j+1]=0;\n",
       "\t\t\t\t\t\t\t\ttb[j+1]=parseFloat(tb[j+1])+1;\n",
       "\t\t\t\t\t\t\t\tif(tb[j+1]>=12) elem.parentNode.removeChild(elem);\n",
       "\t\t\t\t\t\t\t}\t\n",
       "\t\t\t\t\t\t\tif(tb[j]<10) { tb[j]=\"0\"+tb[j]; }\n",
       "\t\t\t\t\t\t\t\t\n",
       "\t\t\t\t\t\t\tdo {\n",
       "\t\t\t\t\t\t\t\ttb[j]+=def[j];\n",
       "\t\t\t\t\t\t\t\tj++;\n",
       "\t\t\t\t\t\t\t} while(tb.length>=(j+1));\t\n",
       "\t\t\t\t\t\t\t\n",
       "\t\t\t\t\t\t\ttb.reverse();\n",
       "\t\t\t\t\t\t\tfor(var z=0; z<tb.length;z++) {\n",
       "\t\t\t\t\t\t\t\tstr2+=tb[z];\n",
       "\t\t\t\t\t\t\t}\t\n",
       "\t\t\t\t\n",
       "\t\t\t\t\t\t\telem.innerHTML=str2;\n",
       "\t\t\t\t\t\t\t//alert(str2);\n",
       "\t\t\t\t\t\t\ti++;\n",
       "\t\t\t\t\t\t} \n",
       "\t\t\t\t\t\tsetTimeout(\"update_ago()\",60000); //1min \n",
       "\t\t\t\t\t}\n",
       "\t\t\t\t\tsetTimeout(\"update_ago()\",60000);\n",
       "\t\t\t\t\t //update_ago();\n",
       "\t\t\t\tvar tab_time=new Array( {evid:1241603, time:\"2023-03-24&#160;&#160;&#160;17:33:44.1\", times:\"1679679224.1\"},{evid:1241601, time:\"2023-03-24&#160;&#160;&#160;17:29:06.3\", times:\"1679678946.3\"},{evid:1241600, time:\"2023-03-24&#160;&#160;&#160;17:26:50.2\", times:\"1679678810.2\"},{evid:1241598, time:\"2023-03-24&#160;&#160;&#160;17:21:54.0\", times:\"1679678514\"},{evid:1241599, time:\"2023-03-24&#160;&#160;&#160;17:20:35.2\", times:\"1679678435.2\"},{evid:1241591, time:\"2023-03-24&#160;&#160;&#160;16:52:55.6\", times:\"1679676775.6\"},{evid:1241602, time:\"2023-03-24&#160;&#160;&#160;16:50:36.1\", times:\"1679676636.1\"},{evid:1241590, time:\"2023-03-24&#160;&#160;&#160;16:42:40.2\", times:\"1679676160.2\"},{evid:1241593, time:\"2023-03-24&#160;&#160;&#160;16:38:01.0\", times:\"1679675881\"},{evid:1241587, time:\"2023-03-24&#160;&#160;&#160;16:24:24.6\", times:\"1679675064.6\"},{evid:1241589, time:\"2023-03-24&#160;&#160;&#160;16:19:28.7\", times:\"1679674768.7\"},{evid:1241586, time:\"2023-03-24&#160;&#160;&#160;16:15:00.1\", times:\"1679674500.1\"},{evid:1241585, time:\"2023-03-24&#160;&#160;&#160;16:14:19.0\", times:\"1679674459\"},{evid:1241581, time:\"2023-03-24&#160;&#160;&#160;15:46:38.0\", times:\"1679672798\"},{evid:1241579, time:\"2023-03-24&#160;&#160;&#160;15:44:02.7\", times:\"1679672642.7\"},{evid:1241588, time:\"2023-03-24&#160;&#160;&#160;15:43:37.8\", times:\"1679672617.8\"},{evid:1241578, time:\"2023-03-24&#160;&#160;&#160;15:39:04.9\", times:\"1679672344.9\"},{evid:1241576, time:\"2023-03-24&#160;&#160;&#160;15:24:56.3\", times:\"1679671496.3\"},{evid:1241573, time:\"2023-03-24&#160;&#160;&#160;15:14:11.0\", times:\"1679670851\"},{evid:1241575, time:\"2023-03-24&#160;&#160;&#160;15:13:22.0\", times:\"1679670802\"},{evid:1241571, time:\"2023-03-24&#160;&#160;&#160;15:11:05.9\", times:\"1679670665.9\"},{evid:1241570, time:\"2023-03-24&#160;&#160;&#160;15:09:56.8\", times:\"1679670596.8\"},{evid:1241569, time:\"2023-03-24&#160;&#160;&#160;15:06:16.1\", times:\"1679670376.1\"},{evid:1241568, time:\"2023-03-24&#160;&#160;&#160;15:04:03.5\", times:\"1679670243.5\"},{evid:1241564, time:\"2023-03-24&#160;&#160;&#160;14:44:58.6\", times:\"1679669098.6\"},{evid:1241566, time:\"2023-03-24&#160;&#160;&#160;14:41:36.0\", times:\"1679668896\"},{evid:1241562, time:\"2023-03-24&#160;&#160;&#160;14:26:44.0\", times:\"1679668004\"},{evid:1241563, time:\"2023-03-24&#160;&#160;&#160;14:26:30.6\", times:\"1679667990.6\"},{evid:1241567, time:\"2023-03-24&#160;&#160;&#160;14:26:20.5\", times:\"1679667980.5\"},{evid:1241558, time:\"2023-03-24&#160;&#160;&#160;14:13:45.6\", times:\"1679667225.6\"},{evid:1241559, time:\"2023-03-24&#160;&#160;&#160;14:11:36.0\", times:\"1679667096\"},{evid:1241557, time:\"2023-03-24&#160;&#160;&#160;14:10:56.4\", times:\"1679667056.4\"},{evid:1241555, time:\"2023-03-24&#160;&#160;&#160;14:09:48.5\", times:\"1679666988.5\"},{evid:1241556, time:\"2023-03-24&#160;&#160;&#160;14:08:23.5\", times:\"1679666903.5\"},{evid:1241554, time:\"2023-03-24&#160;&#160;&#160;14:05:07.9\", times:\"1679666707.9\"},{evid:1241561, time:\"2023-03-24&#160;&#160;&#160;14:01:49.4\", times:\"1679666509.4\"},{evid:1241547, time:\"2023-03-24&#160;&#160;&#160;14:01:26.8\", times:\"1679666486.8\"},{evid:1241539, time:\"2023-03-24&#160;&#160;&#160;13:59:00.2\", times:\"1679666340.2\"},{evid:1241540, time:\"2023-03-24&#160;&#160;&#160;13:58:40.0\", times:\"1679666320\"},{evid:1241537, time:\"2023-03-24&#160;&#160;&#160;13:51:24.4\", times:\"1679665884.4\"},{evid:1241536, time:\"2023-03-24&#160;&#160;&#160;13:46:24.9\", times:\"1679665584.9\"},{evid:1241528, time:\"2023-03-24&#160;&#160;&#160;13:46:12.3\", times:\"1679665572.3\"},{evid:1241533, time:\"2023-03-24&#160;&#160;&#160;13:45:44.7\", times:\"1679665544.7\"},{evid:1241523, time:\"2023-03-24&#160;&#160;&#160;13:43:51.0\", times:\"1679665431\"},{evid:1241522, time:\"2023-03-24&#160;&#160;&#160;13:40:43.0\", times:\"1679665243\"},{evid:1241538, time:\"2023-03-24&#160;&#160;&#160;13:38:14.2\", times:\"1679665094.2\"},{evid:1241521, time:\"2023-03-24&#160;&#160;&#160;13:30:56.5\", times:\"1679664656.5\"},{evid:1241535, time:\"2023-03-24&#160;&#160;&#160;13:28:57.0\", times:\"1679664537\"},{evid:1241519, time:\"2023-03-24&#160;&#160;&#160;13:17:33.0\", times:\"1679663853\"},{evid:1241518, time:\"2023-03-24&#160;&#160;&#160;13:10:34.7\", times:\"1679663434.7\"});\n",
       "var tab_tab=new Array( {evid:1241603, ago:\"18min ago\", comm: \"0\", pics: \"0\", intens: \"-1\", lat:\"37.97\", lon:\"36.36\", depth:\"15\", mag:\"2.0\", reg:\"CENTRAL TURKEY\",upd:\"1679679540\"},{evid:1241601, ago:\"22min ago\", comm: \"0\", pics: \"0\", intens: \"-1\", lat:\"37.15\", lon:\"36.72\", depth:\"4\", mag:\"2.5\", reg:\"CENTRAL TURKEY\",upd:\"1679679240\"},{evid:1241600, ago:\"25min ago\", comm: \"0\", pics: \"0\", intens: \"-1\", lat:\"39.14\", lon:\"40.17\", depth:\"8\", mag:\"2.1\", reg:\"EASTERN TURKEY\",upd:\"1679679180\"},{evid:1241598, ago:\"30min ago\", comm: \"0\", pics: \"0\", intens: \"-1\", lat:\"19.19\", lon:\"-155.46\", depth:\"32\", mag:\"2.8\", reg:\"ISLAND OF HAWAII, HAWAII\",upd:\"1679678700\"},{evid:1241599, ago:\"31min ago\", comm: \"0\", pics: \"0\", intens: \"-1\", lat:\"37.83\", lon:\"36.42\", depth:\"5\", mag:\"2.2\", reg:\"CENTRAL TURKEY\",upd:\"1679678880\"},{evid:1241591, ago:\"59min ago\", comm: \"0\", pics: \"0\", intens: \"-1\", lat:\"38.00\", lon:\"36.45\", depth:\"1\", mag:\"3.1\", reg:\"CENTRAL TURKEY\",upd:\"1679677320\"},{evid:1241602, ago:\"1hr 01min ago\", comm: \"0\", pics: \"0\", intens: \"-1\", lat:\"32.13\", lon:\"-102.65\", depth:\"10\", mag:\"2.0\", reg:\"WESTERN TEXAS\",upd:\"1679679480\"},{evid:1241590, ago:\"1hr 09min ago\", comm: \"0\", pics: \"0\", intens: \"-1\", lat:\"37.84\", lon:\"36.20\", depth:\"5\", mag:\"2.5\", reg:\"CENTRAL TURKEY\",upd:\"1679676960\"},{evid:1241593, ago:\"1hr 13min ago\", comm: \"0\", pics: \"0\", intens: \"-1\", lat:\"-29.95\", lon:\"-71.13\", depth:\"96\", mag:\"3.3\", reg:\"COQUIMBO, CHILE\",upd:\"1679677440\"},{evid:1241587, ago:\"1hr 27min ago\", comm: \"0\", pics: \"0\", intens: \"0\", lat:\"40.44\", lon:\"20.72\", depth:\"6\", mag:\"2.1\", reg:\"ALBANIA\",upd:\"1679676120\"},{evid:1241589, ago:\"1hr 32min ago\", comm: \"0\", pics: \"0\", intens: \"-1\", lat:\"31.67\", lon:\"-104.38\", depth:\"7\", mag:\"2.3\", reg:\"WESTERN TEXAS\",upd:\"1679676360\"},{evid:1241586, ago:\"1hr 36min ago\", comm: \"0\", pics: \"0\", intens: \"-1\", lat:\"40.45\", lon:\"20.80\", depth:\"15\", mag:\"2.0\", reg:\"ALBANIA\",upd:\"1679675160\"},{evid:1241585, ago:\"1hr 37min ago\", comm: \"0\", pics: \"0\", intens: \"-1\", lat:\"11.57\", lon:\"-87.22\", depth:\"5\", mag:\"3.8\", reg:\"NEAR COAST OF NICARAGUA\",upd:\"1679674800\"},{evid:1241581, ago:\"2hr 05min ago\", comm: \"0\", pics: \"0\", intens: \"-1\", lat:\"37.15\", lon:\"36.71\", depth:\"5\", mag:\"2.3\", reg:\"CENTRAL TURKEY\",upd:\"1679673420\"},{evid:1241579, ago:\"2hr 07min ago\", comm: \"0\", pics: \"0\", intens: \"-1\", lat:\"37.82\", lon:\"36.56\", depth:\"9\", mag:\"2.0\", reg:\"CENTRAL TURKEY\",upd:\"1679673000\"},{evid:1241588, ago:\"2hr 08min ago\", comm: \"0\", pics: \"0\", intens: \"-1\", lat:\"62.27\", lon:\"-151.01\", depth:\"78\", mag:\"3.0\", reg:\"CENTRAL ALASKA\",upd:\"1679675460\"},{evid:1241578, ago:\"2hr 12min ago\", comm: \"0\", pics: \"0\", intens: \"-1\", lat:\"36.73\", lon:\"-96.71\", depth:\"5\", mag:\"2.4\", reg:\"OKLAHOMA\",upd:\"1679672400\"},{evid:1241576, ago:\"2hr 27min ago\", comm: \"0\", pics: \"0\", intens: \"-1\", lat:\"36.17\", lon:\"36.55\", depth:\"18\", mag:\"2.1\", reg:\"TURKEY-SYRIA BORDER REGION\",upd:\"1679671980\"},{evid:1241573, ago:\"2hr 37min ago\", comm: \"0\", pics: \"0\", intens: \"-1\", lat:\"-22.36\", lon:\"-68.71\", depth:\"115\", mag:\"2.7\", reg:\"ANTOFAGASTA, CHILE\",upd:\"1679671380\"},{evid:1241575, ago:\"2hr 38min ago\", comm: \"0\", pics: \"0\", intens: \"-1\", lat:\"14.45\", lon:\"123.10\", depth:\"1\", mag:\"4.4\", reg:\"LUZON, PHILIPPINES\",upd:\"1679671800\"},{evid:1241571, ago:\"2hr 40min ago\", comm: \"0\", pics: \"0\", intens: \"-1\", lat:\"37.99\", lon:\"36.60\", depth:\"8\", mag:\"2.1\", reg:\"CENTRAL TURKEY\",upd:\"1679671200\"},{evid:1241570, ago:\"2hr 42min ago\", comm: \"0\", pics: \"0\", intens: \"-1\", lat:\"37.91\", lon:\"37.68\", depth:\"5\", mag:\"2.0\", reg:\"CENTRAL TURKEY\",upd:\"1679671080\"},{evid:1241569, ago:\"2hr 45min ago\", comm: \"8\", pics: \"0\", intens: \"4\", lat:\"38.15\", lon:\"38.41\", depth:\"7\", mag:\"3.8\", reg:\"EASTERN TURKEY\",upd:\"1679672880\"},{evid:1241568, ago:\"2hr 47min ago\", comm: \"2\", pics: \"0\", intens: \"0\", lat:\"33.19\", lon:\"-116.41\", depth:\"15\", mag:\"2.8\", reg:\"SOUTHERN CALIFORNIA\",upd:\"1679675160\"},{evid:1241564, ago:\"3hr 06min ago\", comm: \"0\", pics: \"0\", intens: \"-1\", lat:\"38.04\", lon:\"37.58\", depth:\"6\", mag:\"2.4\", reg:\"CENTRAL TURKEY\",upd:\"1679672820\"},{evid:1241566, ago:\"3hr 10min ago\", comm: \"3\", pics: \"0\", intens: \"3\", lat:\"15.44\", lon:\"-96.55\", depth:\"16\", mag:\"4.5\", reg:\"OFFSHORE OAXACA, MEXICO\",upd:\"1679670000\"},{evid:1241562, ago:\"3hr 25min ago\", comm: \"0\", pics: \"0\", intens: \"-1\", lat:\"-2.32\", lon:\"139.01\", depth:\"106\", mag:\"4.6\", reg:\"NEAR N COAST OF PAPUA, INDONESIA\",upd:\"1679668500\"},{evid:1241563, ago:\"3hr 25min ago\", comm: \"0\", pics: \"0\", intens: \"-1\", lat:\"41.55\", lon:\"41.77\", depth:\"3\", mag:\"2.6\", reg:\"GEORGIA (SAK'ART'VELO)\",upd:\"1679668500\"},{evid:1241567, ago:\"3hr 25min ago\", comm: \"0\", pics: \"0\", intens: \"-1\", lat:\"40.43\", lon:\"20.75\", depth:\"7\", mag:\"2.0\", reg:\"ALBANIA\",upd:\"1679670240\"},{evid:1241558, ago:\"3hr 38min ago\", comm: \"0\", pics: \"0\", intens: \"-1\", lat:\"38.43\", lon:\"37.27\", depth:\"6\", mag:\"2.0\", reg:\"CENTRAL TURKEY\",upd:\"1679667540\"},{evid:1241559, ago:\"3hr 40min ago\", comm: \"0\", pics: \"0\", intens: \"-1\", lat:\"-10.78\", lon:\"113.28\", depth:\"10\", mag:\"4.3\", reg:\"SOUTH OF JAVA, INDONESIA\",upd:\"1679667600\"},{evid:1241557, ago:\"3hr 41min ago\", comm: \"0\", pics: \"0\", intens: \"-1\", lat:\"37.91\", lon:\"36.28\", depth:\"5\", mag:\"2.4\", reg:\"CENTRAL TURKEY\",upd:\"1679667420\"},{evid:1241555, ago:\"3hr 42min ago\", comm: \"0\", pics: \"0\", intens: \"-1\", lat:\"40.42\", lon:\"20.76\", depth:\"4\", mag:\"2.0\", reg:\"ALBANIA\",upd:\"1679669280\"},{evid:1241556, ago:\"3hr 43min ago\", comm: \"0\", pics: \"0\", intens: \"-1\", lat:\"37.87\", lon:\"36.35\", depth:\"5\", mag:\"2.0\", reg:\"CENTRAL TURKEY\",upd:\"1679667240\"},{evid:1241554, ago:\"3hr 46min ago\", comm: \"0\", pics: \"0\", intens: \"0\", lat:\"39.01\", lon:\"41.20\", depth:\"6\", mag:\"3.3\", reg:\"EASTERN TURKEY\",upd:\"1679668980\"},{evid:1241561, ago:\"3hr 50min ago\", comm: \"0\", pics: \"0\", intens: \"-1\", lat:\"17.95\", lon:\"-66.96\", depth:\"7\", mag:\"2.3\", reg:\"PUERTO RICO\",upd:\"1679668320\"},{evid:1241547, ago:\"3hr 50min ago\", comm: \"0\", pics: \"0\", intens: \"-1\", lat:\"19.22\", lon:\"-155.39\", depth:\"30\", mag:\"2.5\", reg:\"ISLAND OF HAWAII, HAWAII\",upd:\"1679666700\"},{evid:1241539, ago:\"3hr 52min ago\", comm: \"0\", pics: \"0\", intens: \"-1\", lat:\"33.18\", lon:\"-116.41\", depth:\"11\", mag:\"2.3\", reg:\"SOUTHERN CALIFORNIA\",upd:\"1679666580\"},{evid:1241540, ago:\"3hr 53min ago\", comm: \"0\", pics: \"0\", intens: \"-1\", lat:\"-32.86\", lon:\"-70.08\", depth:\"124\", mag:\"3.4\", reg:\"VALPARAISO, CHILE\",upd:\"1679667300\"},{evid:1241537, ago:\"4hr 00min ago\", comm: \"10\", pics: \"0\", intens: \"4\", lat:\"37.95\", lon:\"36.29\", depth:\"1\", mag:\"4.0\", reg:\"CENTRAL TURKEY\",upd:\"1679668560\"},{evid:1241536, ago:\"4hr 05min ago\", comm: \"8\", pics: \"0\", intens: \"2\", lat:\"36.67\", lon:\"36.49\", depth:\"5\", mag:\"3.7\", reg:\"TURKEY-SYRIA BORDER REGION\",upd:\"1679669040\"},{evid:1241528, ago:\"4hr 05min ago\", comm: \"10\", pics: \"0\", intens: \"3\", lat:\"33.19\", lon:\"-116.80\", depth:\"23\", mag:\"2.3\", reg:\"SOUTHERN CALIFORNIA\",upd:\"1679665800\"},{evid:1241533, ago:\"4hr 06min ago\", comm: \"198\", pics: \"0\", intens: \"3\", lat:\"45.27\", lon:\"14.51\", depth:\"10\", mag:\"2.5\", reg:\"CROATIA\",upd:\"1679668560\"},{evid:1241523, ago:\"4hr 08min ago\", comm: \"0\", pics: \"0\", intens: \"-1\", lat:\"36.42\", lon:\"-96.91\", depth:\"6\", mag:\"2.2\", reg:\"OKLAHOMA\",upd:\"1679666100\"},{evid:1241522, ago:\"4hr 11min ago\", comm: \"0\", pics: \"0\", intens: \"-1\", lat:\"2.77\", lon:\"127.20\", depth:\"10\", mag:\"3.6\", reg:\"MOLUCCA SEA\",upd:\"1679665500\"},{evid:1241538, ago:\"4hr 13min ago\", comm: \"0\", pics: \"0\", intens: \"-1\", lat:\"40.45\", lon:\"20.73\", depth:\"20\", mag:\"1.9\", reg:\"ALBANIA\",upd:\"1679666400\"},{evid:1241521, ago:\"4hr 21min ago\", comm: \"0\", pics: \"0\", intens: \"-1\", lat:\"40.17\", lon:\"26.34\", depth:\"12\", mag:\"2.6\", reg:\"WESTERN TURKEY\",upd:\"1679668620\"},{evid:1241535, ago:\"4hr 23min ago\", comm: \"0\", pics: \"0\", intens: \"-1\", lat:\"-0.08\", lon:\"99.12\", depth:\"29\", mag:\"2.5\", reg:\"SOUTHERN SUMATRA, INDONESIA\",upd:\"1679665800\"},{evid:1241519, ago:\"4hr 34min ago\", comm: \"0\", pics: \"0\", intens: \"-1\", lat:\"-16.30\", lon:\"-73.56\", depth:\"25\", mag:\"3.7\", reg:\"NEAR COAST OF SOUTHERN PERU\",upd:\"1679664300\"},{evid:1241518, ago:\"4hr 41min ago\", comm: \"50\", pics: \"0\", intens: \"3\", lat:\"38.01\", lon:\"37.55\", depth:\"7\", mag:\"4.4\", reg:\"CENTRAL TURKEY\",upd:\"1679668680\"});\n",
       "\n",
       "\t\t\t\tvar tab_num_alpha=new Array({reg:false,lat:true,lon:true,mag:true,depth:true,upd:true,intens:true,comm:true,pics:true}); \n",
       "\t\t\t\t//addonload(hide_upd);\n",
       "\t\t\t</script><span onmouseout=\"info_b('notshow','','');\" onmouseover=\"info_b('show','This list of events should not be considered as complete. &lt;br /&gt;\t\t\t\tEarthquakes with smaller magnitudes are reported for the Euro-Mediterranenan region.&lt;br /&gt;\t\t\t\tThe reported locations have not been computed by the EMSC and the automatic location can be inaccurate.&lt;br /&gt;\t\t\t\tThis list is fully dynamic and the information is updated as often as necessary.&lt;br /&gt;\t\t\t\tThis is particulary the case in the very first hours following an earthquake occurence','Disclaimer');\"><a href=\"/Earthquake/?disclam=yes\">Disclaimer</a></span><script> function changeLocation(adress) { window.location.href = adress; }\n",
       "\t\t\t\t//function refreshcsem(adress,timeout) { setTimeout('changeLocation(\"'+adress+'\")',timeout*60000); }\n",
       "\t\t\t\t//if(/www/i.test(window.location.href)) refreshcsem(\"/Earthquake/?csemrefresh=true\",5);\n",
       "\t\t\t\tfunction rl(timeout) { setTimeout(function() { window.location.reload(); },  timeout*60000); }\n",
       "\t\t\t\trl(5);\n",
       "\t\t</script><p> </p>\n",
       "</br></br></div><!-- End content -->\n",
       "<div class=\"clearer\"></div>\n",
       "</div><!-- End container --><div id=\"footer\"><!-- ======== PIED DE PAGE ====== -->\n",
       "<div id=\"footer2\">\n",
       "<a href=\"https://www.emsc-csem.org/faq.php\"><b>FAQ</b></a>   <a href=\"https://www.emsc-csem.org/about/\"><b>About EMSC</b></a>\n",
       "            <span id=\"mast\"></span><script type=\"text/javascript\">at(\"webmaster_0_emsc-csem_8_org\",true,\"\",\"mast\",\"If you have any comments, please contact us\");</script>            \n",
       "<a href=\"https://www.emsc-csem.org/sitemap.php\"><b>Site Map</b></a>   <a href=\"https://www.emsc-csem.org/Search/\"><b>Search</b></a><br/><br/>\n",
       "<span id=\"media\" style=\"float:left;width:50%;\">Media : <a href=\"http://twitter.com/lastquake\" target=\"_blank\"><span class=\"spriteorig sp_twitter\" title=\"twitter: @lastquake\"></span></a>  <a href=\"http://twitter.com/EMSC\" target=\"_blank\"><span class=\"spriteorig sp_twitter\" title=\"twitter: @EMSC\"></span></a>  <a href=\"http://www.facebook.com/pages/EMSC-CSEM/207151812690551?sk=wall\" target=\"_blank\"><span class=\"spriteorig sp_facebook\" title=\"facebook: EMSC-CSEM\"></span></a>  <a href=\"https://t.me/LastQuake2\" target=\"_blank\"><span style=\"display:inline-block;background:url(https://static3.emsc.eu/Css/img/telegram-24.png) no-repeat;width:24px;height:24px;\" title=\"Telegram: LastQuake2\"></span></a>  <a href=\"https://t.me/AllQuakes2\" target=\"_blank\"><span style=\"display:inline-block;background:url(https://static3.emsc.eu/Css/img/telegram-24.png) no-repeat;width:24px;height:24px;\" title=\"Telegram: AllQuakes2\"></span></a>  <a href=\"http://www.youtube.com/user/EuroMSC\" target=\"_blank\"><span class=\"spriteorig sp_youtube\" title=\"youtube: EuroMSC\"></span></a>\n",
       "</span>Compatibility : <span class=\"browser spriteorig sp_chrome\" title=\"chrome\"></span><span class=\"browser spriteorig sp_firefox\" title=\"firefox\"></span><span class=\"browser spriteorig sp_ie\" title=\"internet explorer\"></span><span class=\"browser spriteorig sp_opera\" title=\"opera\"></span><span class=\"browser spriteorig sp_safari\" title=\"safari\"></span><br/><br/>\n",
       "<center>© 2010 - <b><a href=\"/policy.php\">Privacy</a></b></center>\n",
       "</div></div><!-- Global site tag (gtag.js) - Google Analytics -->\n",
       "<script async=\"\" src=\"https://www.googletagmanager.com/gtag/js?id=UA-810235-1\"></script>\n",
       "<script>\n",
       "  window.dataLayer = window.dataLayer || [];\n",
       "  function gtag(){dataLayer.push(arguments);}\n",
       "  gtag('js', new Date());\n",
       "\n",
       "  gtag('config', 'UA-810235-1');\n",
       "</script>\n",
       "<!-- Start of StatCounter Code -->\n",
       "<script type=\"text/javascript\">\n",
       "\tvar sc_project=217829; \n",
       "\tvar sc_invisible=1; \n",
       "\tvar sc_security=\"\"; \n",
       "\t</script>\n",
       "<script async=\"true\" src=\"https://www.statcounter.com/counter/counter.js\" type=\"text/javascript\"></script>\n",
       "<noscript><div class=\"statcounter\" style=\"display:none;\"><a href=\"http://www.statcounter.com/\" target=\"_blank\" title=\"hit counter\"><img alt=\"hit counter\" class=\"statcounter\" src=\"https://c.statcounter.com/217829/0//1/\" style=\"width:1px;height:1px;\"/></a></div></noscript>\n",
       "<!-- End of StatCounter Code -->\n",
       "<span id=\"mesure\" style=\"visibility:hidden; white-space:nowrap;\"></span> <script> \n",
       "\t\t\n",
       "\t\tvar socketE,intervalID ;\n",
       "\t\t\n",
       "\t\tfunction conn_io() {\n",
       "\t\t\tif (typeof io == \"undefined\") \tsetTimeout(\"conn_io()\",200);\n",
       "\t\t\telse { \n",
       "\t\t\t\tvar isMobile= (/android|mobile|webos|iphone|ipad|ipod|blackberry|iemobile|opera mini/i.test(navigator.userAgent.toLowerCase()));\n",
       "\t\t\t\tvar opts={transports:[\"polling\"]};\n",
       "\t\t\t\tif(/*!isMobile &&*/ window.WebSocket) opts.transports.unshift(\"websocket\"); //opts.transports.push(\"websocket\");  //\n",
       "\t\t\t\t\t//console.log(opts.transports);  console.log(navigator.userAgent.toLowerCase());\n",
       "\t\t\t\tsocketE=io.connect(\"https://zebu-neries.emsc-csem.org/Traffic?REF=\"+escape(document.referrer),opts); \n",
       "\t\t\t\tsocketE.on(\"connect\", function () { \n",
       "\t\t\t\t\tsocketE.on(\"cookie\", function (msg) { \n",
       "\t\t\t\t\t\tconsole.log(msg); \n",
       "\t\t\t\t\t\tvar xjs=document.createElement(\"script\"); xjs.src=\"https://zebu-neries.emsc-csem.org/?addSockId=\"+msg.name+\"&value=\"+msg.value+\"&expires=\"+msg.expires; xjs.type=\"text/javascript\"; document.getElementsByTagName(\"head\")[0].appendChild(xjs);\n",
       "\t\t\t\t\t});\n",
       "\t\t\t\t});\n",
       "\t\t\t\tsocketE.on(\"banner\", function (msg) { /*console.log(msg);*/ /*if(typeof treat_quick_traffic_peak !=\"undefined\") { treat_quick_traffic_peak(JSON.parse(msg)); }*/ });\n",
       "\t\t\t\tsocketE.on(\"message\",function(mes) { console.log(mes); });\n",
       "\t\t\t}\t\n",
       "\t\t}\t\n",
       "\t//\taddonload(conn_io);\n",
       "\t\tif(typeof JSON == \"undefined\") { var xjs2=document.createElement(\"script\"); xjs2.src=\"https://www.emsc-csem.org/javascript/json2.min.js\"; xjs2.type=\"text/javascript\"; document.getElementsByTagName(\"head\")[0].appendChild(xjs2); }\n",
       "\t\t\n",
       "\t\t\n",
       "\tfunction loadWs() {\n",
       "\t\tvar d=Date.now();\n",
       "\t\t\n",
       "\t\tvar ws= new WebSocket(\"wss://www.emsc-csem.org/traffic?REF=\"+escape(document.referrer)); \n",
       "\t\tws.id=d; //console.log(\"try ws \"+ws.id);\n",
       "\n",
       "\t\tws.onopen = function() { /*setInterval(function () { ws.send(\"Test\"); console.log(\"sendTest\"); }, 12 * 60 * 1000); */   };\n",
       "\t\tws[\"banner\"]=function (msg) { \n",
       "\t\t\tif(typeof treat_quick_traffic_peak !=\"undefined\") { treat_quick_traffic_peak(msg); } \n",
       "\t\t\telse setTimeout(function() { ws.banner(msg);} , 300 );\n",
       "\t\t};\t\n",
       "\t\tws.onmessage = function (evt) { \n",
       "\t\t\tvar m=JSON.parse(evt.data); //console.log(m);\t\n",
       "\t\t\tif(m.label && m.data && ws[m.label]) ws[m.label](m.data);\n",
       "\t\t};\n",
       "\t\t\n",
       "\t\tws.onclose = function() {\n",
       "\t\t\t//console.log(\"Connection is closed...\",ws.id); console.log(arguments);\n",
       "\t\t\tsetTimeout(function() { loadWs(); }, 1000);\n",
       "\t\t};\n",
       "\t\tws.onerror = function(err) { };\n",
       "\t}\n",
       "\t(function() { loadWs(); })();\n",
       "\t\t\n",
       "\t\t\n",
       "\t\t</script>\n",
       "</body>\n",
       "</html>"
      ]
     },
     "execution_count": 17,
     "metadata": {},
     "output_type": "execute_result"
    }
   ],
   "source": [
    "res = requests.get(url)\n",
    "soap = BeautifulSoup(res.content, 'html.parser')\n",
    "soap"
   ]
  },
  {
   "cell_type": "code",
   "execution_count": null,
   "metadata": {},
   "outputs": [],
   "source": []
  }
 ],
 "metadata": {
  "kernelspec": {
   "display_name": "Python 3",
   "language": "python",
   "name": "python3"
  },
  "language_info": {
   "codemirror_mode": {
    "name": "ipython",
    "version": 3
   },
   "file_extension": ".py",
   "mimetype": "text/x-python",
   "name": "python",
   "nbconvert_exporter": "python",
   "pygments_lexer": "ipython3",
   "version": "3.11.2"
  },
  "toc": {
   "base_numbering": 1,
   "nav_menu": {},
   "number_sections": false,
   "sideBar": true,
   "skip_h1_title": false,
   "title_cell": "Table of Contents",
   "title_sidebar": "Contents",
   "toc_cell": false,
   "toc_position": {
    "height": "calc(100% - 180px)",
    "left": "10px",
    "top": "150px",
    "width": "288px"
   },
   "toc_section_display": true,
   "toc_window_display": false
  }
 },
 "nbformat": 4,
 "nbformat_minor": 2
}
